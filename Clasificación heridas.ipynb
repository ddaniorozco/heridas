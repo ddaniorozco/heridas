{
 "cells": [
  {
   "cell_type": "code",
   "execution_count": 1,
   "metadata": {},
   "outputs": [],
   "source": [
    "from numpy.random import seed\n",
    "seed(101)\n",
    "import tensorflow\n",
    "tensorflow.random.set_seed(101)"
   ]
  },
  {
   "cell_type": "code",
   "execution_count": 2,
   "metadata": {},
   "outputs": [],
   "source": [
    "import numpy as np\n",
    "import pandas as pd\n",
    "\n",
    "import tensorflow as tf\n",
    "from tensorflow.keras.layers import Dense, Dropout\n",
    "from tensorflow.keras.optimizers import Adam\n",
    "from tensorflow.keras.metrics import categorical_crossentropy\n",
    "from tensorflow.keras.preprocessing.image import ImageDataGenerator\n",
    "from tensorflow.keras.models import Model\n",
    "from tensorflow.keras.callbacks import EarlyStopping, ReduceLROnPlateau, ModelCheckpoint\n",
    "from tensorflow.keras.metrics import categorical_accuracy, top_k_categorical_accuracy\n",
    "\n",
    "import os\n",
    "\n",
    "from sklearn.metrics import confusion_matrix\n",
    "from sklearn.model_selection import train_test_split\n",
    "from sklearn.metrics import classification_report\n",
    "import itertools\n",
    "import shutil\n",
    "import matplotlib.pyplot as plt\n",
    "%matplotlib inline\n",
    "import seaborn as sns"
   ]
  },
  {
   "cell_type": "code",
   "execution_count": 3,
   "metadata": {},
   "outputs": [
    {
     "data": {
      "text/plain": [
       "['ImagenesAProcesar-20200727T214422Z-001.zip',\n",
       " 'Proyecto CNN Heridas.odp',\n",
       " 'training_1',\n",
       " 'Venosas',\n",
       " 'model.h5',\n",
       " 'procesar',\n",
       " 'Pioderma Gangrenoso',\n",
       " '.ipynb_checkpoints',\n",
       " 'Arteriales',\n",
       " 'MARTORELL',\n",
       " 'Clasificación heridas.ipynb',\n",
       " 'Untitled.ipynb']"
      ]
     },
     "execution_count": 3,
     "metadata": {},
     "output_type": "execute_result"
    }
   ],
   "source": [
    "os.listdir ('../Heridas')"
   ]
  },
  {
   "cell_type": "code",
   "execution_count": 10,
   "metadata": {},
   "outputs": [
    {
     "name": "stdout",
     "output_type": "stream",
     "text": [
      "19\n",
      "25\n",
      "42\n"
     ]
    }
   ],
   "source": [
    "print(len(os.listdir('procesar/originales/train/lpp')))\n",
    "print(len(os.listdir('procesar/originales/train/pie')))\n",
    "print(len(os.listdir('procesar/originales/train/vasculares')))"
   ]
  },
  {
   "cell_type": "code",
   "execution_count": 14,
   "metadata": {},
   "outputs": [
    {
     "name": "stdout",
     "output_type": "stream",
     "text": [
      "209\n",
      "275\n",
      "462\n"
     ]
    }
   ],
   "source": [
    "print(len(os.listdir('procesar/originales/train/lpp')))\n",
    "print(len(os.listdir('procesar/originales/train/pie')))\n",
    "print(len(os.listdir('procesar/originales/train/vasculares')))"
   ]
  },
  {
   "cell_type": "code",
   "execution_count": 4,
   "metadata": {},
   "outputs": [
    {
     "name": "stdout",
     "output_type": "stream",
     "text": [
      "4\n",
      "6\n",
      "8\n"
     ]
    }
   ],
   "source": [
    "print(len(os.listdir('procesar/originales/val/lpp')))\n",
    "print(len(os.listdir('procesar/originales/val/pie')))\n",
    "print(len(os.listdir('procesar/originales/val/vasculares')))"
   ]
  },
  {
   "cell_type": "code",
   "execution_count": 12,
   "metadata": {},
   "outputs": [],
   "source": [
    "# Crear un directorio para las categorias que hago augmentation\n",
    "\n",
    "\n",
    "categorias = ['lpp','pie','vasculares']"
   ]
  },
  {
   "cell_type": "code",
   "execution_count": 13,
   "metadata": {},
   "outputs": [
    {
     "name": "stdout",
     "output_type": "stream",
     "text": [
      "Found 19 images belonging to 1 classes.\n",
      "Found 25 images belonging to 1 classes.\n",
      "Found 42 images belonging to 1 classes.\n"
     ]
    }
   ],
   "source": [
    "for categoria in categorias:\n",
    "    \n",
    "    \n",
    "    aug_dir = 'aug_dir'\n",
    "    os.mkdir(aug_dir)\n",
    "    img_dir = os.path.join(aug_dir, 'img_dir')\n",
    "    os.mkdir(img_dir)\n",
    "\n",
    "    img_class = categoria\n",
    "\n",
    "    img_list = os.listdir('procesar/originales/train/' + img_class)\n",
    "\n",
    "    for fname in img_list:\n",
    "            src = os.path.join('procesar/originales/train/' + img_class, fname)\n",
    "            dst = os.path.join(img_dir, fname)\n",
    "            shutil.copyfile(src, dst)\n",
    "\n",
    "    path = aug_dir\n",
    "    save_path = 'procesar/originales/train/' + img_class\n",
    "\n",
    "    datagen = ImageDataGenerator(\n",
    "        rotation_range=180,\n",
    "        width_shift_range=0.1,\n",
    "        height_shift_range=0.1,\n",
    "        zoom_range=0.1,\n",
    "        horizontal_flip=True,\n",
    "        vertical_flip=True,\n",
    "        fill_mode='nearest')\n",
    "\n",
    "    batch_size = 50\n",
    "\n",
    "    aug_datagen = datagen.flow_from_directory(path,\n",
    "                                           save_to_dir=save_path,\n",
    "                                           save_format='jpg',\n",
    "                                                    target_size=(224,224),\n",
    "                                                    batch_size=batch_size)\n",
    "\n",
    "\n",
    "    num_aug_images_wanted = 500 \n",
    "    num_files = len(os.listdir(img_dir))\n",
    "    num_batches = int(np.ceil((num_aug_images_wanted-num_files)/batch_size))\n",
    "\n",
    "    for i in range(0,num_batches):\n",
    "        imgs, labels = next(aug_datagen)\n",
    "        \n",
    "    shutil.rmtree('aug_dir')"
   ]
  },
  {
   "cell_type": "code",
   "execution_count": 5,
   "metadata": {},
   "outputs": [],
   "source": [
    "train_path = 'procesar/originales/train'\n",
    "val_path = 'procesar/originales/val'"
   ]
  },
  {
   "cell_type": "code",
   "execution_count": 6,
   "metadata": {},
   "outputs": [],
   "source": [
    "train_samples = 946\n",
    "val_samples = 18"
   ]
  },
  {
   "cell_type": "code",
   "execution_count": 7,
   "metadata": {},
   "outputs": [],
   "source": [
    "train_batch_size = 10\n",
    "val_batch_size = 10\n",
    "image_size = 224"
   ]
  },
  {
   "cell_type": "code",
   "execution_count": 8,
   "metadata": {},
   "outputs": [],
   "source": [
    "train_steps = np.ceil (train_samples / train_batch_size)\n",
    "val_steps = np.ceil (val_samples / val_batch_size)"
   ]
  },
  {
   "cell_type": "code",
   "execution_count": 10,
   "metadata": {},
   "outputs": [],
   "source": [
    "datagen = ImageDataGenerator(\n",
    "    preprocessing_function= \\\n",
    "    tensorflow.keras.applications.mobilenet.preprocess_input)"
   ]
  },
  {
   "cell_type": "code",
   "execution_count": 11,
   "metadata": {},
   "outputs": [
    {
     "name": "stdout",
     "output_type": "stream",
     "text": [
      "Found 946 images belonging to 3 classes.\n"
     ]
    }
   ],
   "source": [
    "train_batches = datagen.flow_from_directory(train_path,\n",
    "                                            target_size=(image_size,image_size),\n",
    "                                            batch_size=train_batch_size)"
   ]
  },
  {
   "cell_type": "code",
   "execution_count": 12,
   "metadata": {},
   "outputs": [
    {
     "name": "stdout",
     "output_type": "stream",
     "text": [
      "Found 18 images belonging to 3 classes.\n"
     ]
    }
   ],
   "source": [
    "valid_batches = datagen.flow_from_directory(val_path,\n",
    "                                            target_size=(image_size,image_size),\n",
    "                                            batch_size=val_batch_size)"
   ]
  },
  {
   "cell_type": "code",
   "execution_count": 13,
   "metadata": {},
   "outputs": [
    {
     "name": "stdout",
     "output_type": "stream",
     "text": [
      "Found 18 images belonging to 3 classes.\n"
     ]
    }
   ],
   "source": [
    "test_batches = datagen.flow_from_directory(val_path,\n",
    "                                            target_size=(image_size,image_size),\n",
    "                                            batch_size=1,\n",
    "                                            shuffle=False)"
   ]
  },
  {
   "cell_type": "code",
   "execution_count": null,
   "metadata": {},
   "outputs": [],
   "source": []
  },
  {
   "cell_type": "code",
   "execution_count": null,
   "metadata": {},
   "outputs": [],
   "source": []
  },
  {
   "cell_type": "code",
   "execution_count": null,
   "metadata": {},
   "outputs": [],
   "source": []
  },
  {
   "cell_type": "code",
   "execution_count": 15,
   "metadata": {},
   "outputs": [],
   "source": [
    "mobile_net = tensorflow.keras.applications.mobilenet.MobileNet()"
   ]
  },
  {
   "cell_type": "code",
   "execution_count": 16,
   "metadata": {},
   "outputs": [
    {
     "data": {
      "text/plain": [
       "93"
      ]
     },
     "execution_count": 16,
     "metadata": {},
     "output_type": "execute_result"
    }
   ],
   "source": [
    "len (mobile_net.layers)"
   ]
  },
  {
   "cell_type": "code",
   "execution_count": 17,
   "metadata": {},
   "outputs": [],
   "source": [
    "# Arquitectura del modelo\n",
    "\n",
    "# Excluir las ultimas 5 capas del modelo\n",
    "# Incluye hasta global_average_pooling2d\n",
    "\n",
    "x = mobile_net.layers [-6].output\n",
    "\n",
    "# Crear una nueva capa densa para predicciones. 3 categorías\n",
    "\n",
    "x = Dropout (0.25)(x) # Dropout reduce el overfitting al train\n",
    "\n",
    "predictions = Dense (3, activation = 'softmax')(x)\n",
    "\n",
    "model = Model (inputs = mobile_net.input, outputs = predictions)"
   ]
  },
  {
   "cell_type": "code",
   "execution_count": 18,
   "metadata": {},
   "outputs": [
    {
     "name": "stdout",
     "output_type": "stream",
     "text": [
      "Model: \"model\"\n",
      "_________________________________________________________________\n",
      "Layer (type)                 Output Shape              Param #   \n",
      "=================================================================\n",
      "input_1 (InputLayer)         [(None, 224, 224, 3)]     0         \n",
      "_________________________________________________________________\n",
      "conv1_pad (ZeroPadding2D)    (None, 225, 225, 3)       0         \n",
      "_________________________________________________________________\n",
      "conv1 (Conv2D)               (None, 112, 112, 32)      864       \n",
      "_________________________________________________________________\n",
      "conv1_bn (BatchNormalization (None, 112, 112, 32)      128       \n",
      "_________________________________________________________________\n",
      "conv1_relu (ReLU)            (None, 112, 112, 32)      0         \n",
      "_________________________________________________________________\n",
      "conv_dw_1 (DepthwiseConv2D)  (None, 112, 112, 32)      288       \n",
      "_________________________________________________________________\n",
      "conv_dw_1_bn (BatchNormaliza (None, 112, 112, 32)      128       \n",
      "_________________________________________________________________\n",
      "conv_dw_1_relu (ReLU)        (None, 112, 112, 32)      0         \n",
      "_________________________________________________________________\n",
      "conv_pw_1 (Conv2D)           (None, 112, 112, 64)      2048      \n",
      "_________________________________________________________________\n",
      "conv_pw_1_bn (BatchNormaliza (None, 112, 112, 64)      256       \n",
      "_________________________________________________________________\n",
      "conv_pw_1_relu (ReLU)        (None, 112, 112, 64)      0         \n",
      "_________________________________________________________________\n",
      "conv_pad_2 (ZeroPadding2D)   (None, 113, 113, 64)      0         \n",
      "_________________________________________________________________\n",
      "conv_dw_2 (DepthwiseConv2D)  (None, 56, 56, 64)        576       \n",
      "_________________________________________________________________\n",
      "conv_dw_2_bn (BatchNormaliza (None, 56, 56, 64)        256       \n",
      "_________________________________________________________________\n",
      "conv_dw_2_relu (ReLU)        (None, 56, 56, 64)        0         \n",
      "_________________________________________________________________\n",
      "conv_pw_2 (Conv2D)           (None, 56, 56, 128)       8192      \n",
      "_________________________________________________________________\n",
      "conv_pw_2_bn (BatchNormaliza (None, 56, 56, 128)       512       \n",
      "_________________________________________________________________\n",
      "conv_pw_2_relu (ReLU)        (None, 56, 56, 128)       0         \n",
      "_________________________________________________________________\n",
      "conv_dw_3 (DepthwiseConv2D)  (None, 56, 56, 128)       1152      \n",
      "_________________________________________________________________\n",
      "conv_dw_3_bn (BatchNormaliza (None, 56, 56, 128)       512       \n",
      "_________________________________________________________________\n",
      "conv_dw_3_relu (ReLU)        (None, 56, 56, 128)       0         \n",
      "_________________________________________________________________\n",
      "conv_pw_3 (Conv2D)           (None, 56, 56, 128)       16384     \n",
      "_________________________________________________________________\n",
      "conv_pw_3_bn (BatchNormaliza (None, 56, 56, 128)       512       \n",
      "_________________________________________________________________\n",
      "conv_pw_3_relu (ReLU)        (None, 56, 56, 128)       0         \n",
      "_________________________________________________________________\n",
      "conv_pad_4 (ZeroPadding2D)   (None, 57, 57, 128)       0         \n",
      "_________________________________________________________________\n",
      "conv_dw_4 (DepthwiseConv2D)  (None, 28, 28, 128)       1152      \n",
      "_________________________________________________________________\n",
      "conv_dw_4_bn (BatchNormaliza (None, 28, 28, 128)       512       \n",
      "_________________________________________________________________\n",
      "conv_dw_4_relu (ReLU)        (None, 28, 28, 128)       0         \n",
      "_________________________________________________________________\n",
      "conv_pw_4 (Conv2D)           (None, 28, 28, 256)       32768     \n",
      "_________________________________________________________________\n",
      "conv_pw_4_bn (BatchNormaliza (None, 28, 28, 256)       1024      \n",
      "_________________________________________________________________\n",
      "conv_pw_4_relu (ReLU)        (None, 28, 28, 256)       0         \n",
      "_________________________________________________________________\n",
      "conv_dw_5 (DepthwiseConv2D)  (None, 28, 28, 256)       2304      \n",
      "_________________________________________________________________\n",
      "conv_dw_5_bn (BatchNormaliza (None, 28, 28, 256)       1024      \n",
      "_________________________________________________________________\n",
      "conv_dw_5_relu (ReLU)        (None, 28, 28, 256)       0         \n",
      "_________________________________________________________________\n",
      "conv_pw_5 (Conv2D)           (None, 28, 28, 256)       65536     \n",
      "_________________________________________________________________\n",
      "conv_pw_5_bn (BatchNormaliza (None, 28, 28, 256)       1024      \n",
      "_________________________________________________________________\n",
      "conv_pw_5_relu (ReLU)        (None, 28, 28, 256)       0         \n",
      "_________________________________________________________________\n",
      "conv_pad_6 (ZeroPadding2D)   (None, 29, 29, 256)       0         \n",
      "_________________________________________________________________\n",
      "conv_dw_6 (DepthwiseConv2D)  (None, 14, 14, 256)       2304      \n",
      "_________________________________________________________________\n",
      "conv_dw_6_bn (BatchNormaliza (None, 14, 14, 256)       1024      \n",
      "_________________________________________________________________\n",
      "conv_dw_6_relu (ReLU)        (None, 14, 14, 256)       0         \n",
      "_________________________________________________________________\n",
      "conv_pw_6 (Conv2D)           (None, 14, 14, 512)       131072    \n",
      "_________________________________________________________________\n",
      "conv_pw_6_bn (BatchNormaliza (None, 14, 14, 512)       2048      \n",
      "_________________________________________________________________\n",
      "conv_pw_6_relu (ReLU)        (None, 14, 14, 512)       0         \n",
      "_________________________________________________________________\n",
      "conv_dw_7 (DepthwiseConv2D)  (None, 14, 14, 512)       4608      \n",
      "_________________________________________________________________\n",
      "conv_dw_7_bn (BatchNormaliza (None, 14, 14, 512)       2048      \n",
      "_________________________________________________________________\n",
      "conv_dw_7_relu (ReLU)        (None, 14, 14, 512)       0         \n",
      "_________________________________________________________________\n",
      "conv_pw_7 (Conv2D)           (None, 14, 14, 512)       262144    \n",
      "_________________________________________________________________\n",
      "conv_pw_7_bn (BatchNormaliza (None, 14, 14, 512)       2048      \n",
      "_________________________________________________________________\n",
      "conv_pw_7_relu (ReLU)        (None, 14, 14, 512)       0         \n",
      "_________________________________________________________________\n",
      "conv_dw_8 (DepthwiseConv2D)  (None, 14, 14, 512)       4608      \n",
      "_________________________________________________________________\n",
      "conv_dw_8_bn (BatchNormaliza (None, 14, 14, 512)       2048      \n",
      "_________________________________________________________________\n",
      "conv_dw_8_relu (ReLU)        (None, 14, 14, 512)       0         \n",
      "_________________________________________________________________\n",
      "conv_pw_8 (Conv2D)           (None, 14, 14, 512)       262144    \n",
      "_________________________________________________________________\n",
      "conv_pw_8_bn (BatchNormaliza (None, 14, 14, 512)       2048      \n",
      "_________________________________________________________________\n",
      "conv_pw_8_relu (ReLU)        (None, 14, 14, 512)       0         \n",
      "_________________________________________________________________\n",
      "conv_dw_9 (DepthwiseConv2D)  (None, 14, 14, 512)       4608      \n",
      "_________________________________________________________________\n",
      "conv_dw_9_bn (BatchNormaliza (None, 14, 14, 512)       2048      \n",
      "_________________________________________________________________\n",
      "conv_dw_9_relu (ReLU)        (None, 14, 14, 512)       0         \n",
      "_________________________________________________________________\n",
      "conv_pw_9 (Conv2D)           (None, 14, 14, 512)       262144    \n",
      "_________________________________________________________________\n",
      "conv_pw_9_bn (BatchNormaliza (None, 14, 14, 512)       2048      \n",
      "_________________________________________________________________\n",
      "conv_pw_9_relu (ReLU)        (None, 14, 14, 512)       0         \n",
      "_________________________________________________________________\n",
      "conv_dw_10 (DepthwiseConv2D) (None, 14, 14, 512)       4608      \n",
      "_________________________________________________________________\n",
      "conv_dw_10_bn (BatchNormaliz (None, 14, 14, 512)       2048      \n",
      "_________________________________________________________________\n",
      "conv_dw_10_relu (ReLU)       (None, 14, 14, 512)       0         \n",
      "_________________________________________________________________\n",
      "conv_pw_10 (Conv2D)          (None, 14, 14, 512)       262144    \n",
      "_________________________________________________________________\n",
      "conv_pw_10_bn (BatchNormaliz (None, 14, 14, 512)       2048      \n",
      "_________________________________________________________________\n",
      "conv_pw_10_relu (ReLU)       (None, 14, 14, 512)       0         \n",
      "_________________________________________________________________\n",
      "conv_dw_11 (DepthwiseConv2D) (None, 14, 14, 512)       4608      \n",
      "_________________________________________________________________\n",
      "conv_dw_11_bn (BatchNormaliz (None, 14, 14, 512)       2048      \n",
      "_________________________________________________________________\n",
      "conv_dw_11_relu (ReLU)       (None, 14, 14, 512)       0         \n",
      "_________________________________________________________________\n",
      "conv_pw_11 (Conv2D)          (None, 14, 14, 512)       262144    \n",
      "_________________________________________________________________\n",
      "conv_pw_11_bn (BatchNormaliz (None, 14, 14, 512)       2048      \n",
      "_________________________________________________________________\n",
      "conv_pw_11_relu (ReLU)       (None, 14, 14, 512)       0         \n",
      "_________________________________________________________________\n",
      "conv_pad_12 (ZeroPadding2D)  (None, 15, 15, 512)       0         \n",
      "_________________________________________________________________\n",
      "conv_dw_12 (DepthwiseConv2D) (None, 7, 7, 512)         4608      \n",
      "_________________________________________________________________\n",
      "conv_dw_12_bn (BatchNormaliz (None, 7, 7, 512)         2048      \n",
      "_________________________________________________________________\n",
      "conv_dw_12_relu (ReLU)       (None, 7, 7, 512)         0         \n",
      "_________________________________________________________________\n",
      "conv_pw_12 (Conv2D)          (None, 7, 7, 1024)        524288    \n",
      "_________________________________________________________________\n",
      "conv_pw_12_bn (BatchNormaliz (None, 7, 7, 1024)        4096      \n",
      "_________________________________________________________________\n",
      "conv_pw_12_relu (ReLU)       (None, 7, 7, 1024)        0         \n",
      "_________________________________________________________________\n",
      "conv_dw_13 (DepthwiseConv2D) (None, 7, 7, 1024)        9216      \n",
      "_________________________________________________________________\n",
      "conv_dw_13_bn (BatchNormaliz (None, 7, 7, 1024)        4096      \n",
      "_________________________________________________________________\n",
      "conv_dw_13_relu (ReLU)       (None, 7, 7, 1024)        0         \n",
      "_________________________________________________________________\n",
      "conv_pw_13 (Conv2D)          (None, 7, 7, 1024)        1048576   \n",
      "_________________________________________________________________\n",
      "conv_pw_13_bn (BatchNormaliz (None, 7, 7, 1024)        4096      \n",
      "_________________________________________________________________\n",
      "conv_pw_13_relu (ReLU)       (None, 7, 7, 1024)        0         \n",
      "_________________________________________________________________\n",
      "global_average_pooling2d (Gl (None, 1024)              0         \n",
      "_________________________________________________________________\n",
      "dropout (Dropout)            (None, 1024)              0         \n",
      "_________________________________________________________________\n",
      "dense (Dense)                (None, 3)                 3075      \n",
      "=================================================================\n",
      "Total params: 3,231,939\n",
      "Trainable params: 3,210,051\n",
      "Non-trainable params: 21,888\n",
      "_________________________________________________________________\n"
     ]
    }
   ],
   "source": [
    "model.summary ()"
   ]
  },
  {
   "cell_type": "code",
   "execution_count": 19,
   "metadata": {},
   "outputs": [
    {
     "data": {
      "text/plain": [
       "90"
      ]
     },
     "execution_count": 19,
     "metadata": {},
     "output_type": "execute_result"
    }
   ],
   "source": [
    "len (model.layers)"
   ]
  },
  {
   "cell_type": "code",
   "execution_count": 20,
   "metadata": {},
   "outputs": [],
   "source": [
    "# Elección de capas a ser entrenadas, las ultimas 23\n",
    "\n",
    "# Las demas no se entrenan\n",
    "\n",
    "for layer in mobile_net.layers [:-23]:\n",
    "    layer.trainable = False"
   ]
  },
  {
   "cell_type": "code",
   "execution_count": 5,
   "metadata": {},
   "outputs": [],
   "source": [
    "def top_2_accuracy(y_true, y_pred):\n",
    "    return top_k_categorical_accuracy(y_true, y_pred, k=2)\n",
    "    \n",
    "def top_3_accuracy(y_true, y_pred):\n",
    "    return top_k_categorical_accuracy(y_true, y_pred, k=3)"
   ]
  },
  {
   "cell_type": "code",
   "execution_count": 22,
   "metadata": {},
   "outputs": [],
   "source": [
    "model.compile(Adam(lr=0.01), loss='categorical_crossentropy', \n",
    "              metrics=[categorical_accuracy, top_2_accuracy, top_3_accuracy])"
   ]
  },
  {
   "cell_type": "code",
   "execution_count": 23,
   "metadata": {},
   "outputs": [
    {
     "name": "stdout",
     "output_type": "stream",
     "text": [
      "{'lpp': 0, 'pie': 1, 'vasculares': 2}\n"
     ]
    }
   ],
   "source": [
    "print(valid_batches.class_indices)"
   ]
  },
  {
   "cell_type": "code",
   "execution_count": 24,
   "metadata": {},
   "outputs": [],
   "source": [
    "class_weights={\n",
    "    0: 2.0, # lpp\n",
    "    1: 1.0, # pie\n",
    "    2: 1.0, # vasculares    \n",
    "}"
   ]
  },
  {
   "cell_type": "code",
   "execution_count": 27,
   "metadata": {},
   "outputs": [
    {
     "name": "stdout",
     "output_type": "stream",
     "text": [
      "Epoch 1/75\n",
      "95/95 [==============================] - ETA: 0s - loss: 0.0040 - categorical_accuracy: 1.0000 - top_2_accuracy: 1.0000 - top_3_accuracy: 1.0000\n",
      "Epoch 00001: val_top_3_accuracy improved from -inf to 1.00000, saving model to model.h5\n",
      "95/95 [==============================] - 54s 567ms/step - loss: 0.0040 - categorical_accuracy: 1.0000 - top_2_accuracy: 1.0000 - top_3_accuracy: 1.0000 - val_loss: 0.8543 - val_categorical_accuracy: 0.8333 - val_top_2_accuracy: 0.9444 - val_top_3_accuracy: 1.0000 - lr: 1.0000e-05\n",
      "Epoch 2/75\n",
      "95/95 [==============================] - ETA: 0s - loss: 0.0044 - categorical_accuracy: 0.9989 - top_2_accuracy: 1.0000 - top_3_accuracy: 1.0000\n",
      "Epoch 00002: val_top_3_accuracy did not improve from 1.00000\n",
      "95/95 [==============================] - 55s 579ms/step - loss: 0.0044 - categorical_accuracy: 0.9989 - top_2_accuracy: 1.0000 - top_3_accuracy: 1.0000 - val_loss: 0.8482 - val_categorical_accuracy: 0.8333 - val_top_2_accuracy: 0.9444 - val_top_3_accuracy: 1.0000 - lr: 1.0000e-05\n",
      "Epoch 3/75\n",
      "95/95 [==============================] - ETA: 0s - loss: 0.0023 - categorical_accuracy: 0.9989 - top_2_accuracy: 1.0000 - top_3_accuracy: 1.0000\n",
      "Epoch 00003: val_top_3_accuracy did not improve from 1.00000\n",
      "95/95 [==============================] - 54s 573ms/step - loss: 0.0023 - categorical_accuracy: 0.9989 - top_2_accuracy: 1.0000 - top_3_accuracy: 1.0000 - val_loss: 0.8597 - val_categorical_accuracy: 0.7778 - val_top_2_accuracy: 0.9444 - val_top_3_accuracy: 1.0000 - lr: 1.0000e-05\n",
      "Epoch 4/75\n",
      "95/95 [==============================] - ETA: 0s - loss: 0.0276 - categorical_accuracy: 0.9937 - top_2_accuracy: 1.0000 - top_3_accuracy: 1.0000\n",
      "Epoch 00004: val_top_3_accuracy did not improve from 1.00000\n",
      "95/95 [==============================] - 54s 564ms/step - loss: 0.0276 - categorical_accuracy: 0.9937 - top_2_accuracy: 1.0000 - top_3_accuracy: 1.0000 - val_loss: 0.8778 - val_categorical_accuracy: 0.8333 - val_top_2_accuracy: 0.9444 - val_top_3_accuracy: 1.0000 - lr: 1.0000e-05\n",
      "Epoch 5/75\n",
      "95/95 [==============================] - ETA: 0s - loss: 0.0048 - categorical_accuracy: 0.9968 - top_2_accuracy: 1.0000 - top_3_accuracy: 1.0000\n",
      "Epoch 00005: val_top_3_accuracy did not improve from 1.00000\n",
      "95/95 [==============================] - 53s 557ms/step - loss: 0.0048 - categorical_accuracy: 0.9968 - top_2_accuracy: 1.0000 - top_3_accuracy: 1.0000 - val_loss: 0.8416 - val_categorical_accuracy: 0.8333 - val_top_2_accuracy: 0.9444 - val_top_3_accuracy: 1.0000 - lr: 1.0000e-05\n",
      "Epoch 6/75\n",
      "95/95 [==============================] - ETA: 0s - loss: 0.0030 - categorical_accuracy: 1.0000 - top_2_accuracy: 1.0000 - top_3_accuracy: 1.0000\n",
      "Epoch 00006: val_top_3_accuracy did not improve from 1.00000\n",
      "95/95 [==============================] - 52s 543ms/step - loss: 0.0030 - categorical_accuracy: 1.0000 - top_2_accuracy: 1.0000 - top_3_accuracy: 1.0000 - val_loss: 0.8627 - val_categorical_accuracy: 0.8333 - val_top_2_accuracy: 0.9444 - val_top_3_accuracy: 1.0000 - lr: 1.0000e-05\n",
      "Epoch 7/75\n",
      "95/95 [==============================] - ETA: 0s - loss: 0.0025 - categorical_accuracy: 1.0000 - top_2_accuracy: 1.0000 - top_3_accuracy: 1.0000\n",
      "Epoch 00007: val_top_3_accuracy did not improve from 1.00000\n",
      "95/95 [==============================] - 53s 559ms/step - loss: 0.0025 - categorical_accuracy: 1.0000 - top_2_accuracy: 1.0000 - top_3_accuracy: 1.0000 - val_loss: 0.8634 - val_categorical_accuracy: 0.8333 - val_top_2_accuracy: 0.9444 - val_top_3_accuracy: 1.0000 - lr: 1.0000e-05\n",
      "Epoch 8/75\n",
      "95/95 [==============================] - ETA: 0s - loss: 0.0018 - categorical_accuracy: 1.0000 - top_2_accuracy: 1.0000 - top_3_accuracy: 1.0000\n",
      "Epoch 00008: val_top_3_accuracy did not improve from 1.00000\n",
      "95/95 [==============================] - 53s 554ms/step - loss: 0.0018 - categorical_accuracy: 1.0000 - top_2_accuracy: 1.0000 - top_3_accuracy: 1.0000 - val_loss: 0.8632 - val_categorical_accuracy: 0.8333 - val_top_2_accuracy: 0.9444 - val_top_3_accuracy: 1.0000 - lr: 1.0000e-05\n",
      "Epoch 9/75\n",
      "95/95 [==============================] - ETA: 0s - loss: 0.0067 - categorical_accuracy: 0.9979 - top_2_accuracy: 1.0000 - top_3_accuracy: 1.0000\n",
      "Epoch 00009: val_top_3_accuracy did not improve from 1.00000\n",
      "95/95 [==============================] - 51s 542ms/step - loss: 0.0067 - categorical_accuracy: 0.9979 - top_2_accuracy: 1.0000 - top_3_accuracy: 1.0000 - val_loss: 0.8613 - val_categorical_accuracy: 0.8333 - val_top_2_accuracy: 0.9444 - val_top_3_accuracy: 1.0000 - lr: 1.0000e-05\n",
      "Epoch 10/75\n",
      "95/95 [==============================] - ETA: 0s - loss: 0.0013 - categorical_accuracy: 1.0000 - top_2_accuracy: 1.0000 - top_3_accuracy: 1.0000\n",
      "Epoch 00010: val_top_3_accuracy did not improve from 1.00000\n",
      "95/95 [==============================] - 51s 540ms/step - loss: 0.0013 - categorical_accuracy: 1.0000 - top_2_accuracy: 1.0000 - top_3_accuracy: 1.0000 - val_loss: 0.8802 - val_categorical_accuracy: 0.8333 - val_top_2_accuracy: 0.9444 - val_top_3_accuracy: 1.0000 - lr: 1.0000e-05\n",
      "Epoch 11/75\n",
      "95/95 [==============================] - ETA: 0s - loss: 0.0031 - categorical_accuracy: 0.9989 - top_2_accuracy: 1.0000 - top_3_accuracy: 1.0000\n",
      "Epoch 00011: val_top_3_accuracy did not improve from 1.00000\n",
      "95/95 [==============================] - 53s 559ms/step - loss: 0.0031 - categorical_accuracy: 0.9989 - top_2_accuracy: 1.0000 - top_3_accuracy: 1.0000 - val_loss: 0.8620 - val_categorical_accuracy: 0.8333 - val_top_2_accuracy: 0.9444 - val_top_3_accuracy: 1.0000 - lr: 1.0000e-05\n",
      "Epoch 12/75\n",
      "95/95 [==============================] - ETA: 0s - loss: 0.0116 - categorical_accuracy: 0.9968 - top_2_accuracy: 0.9989 - top_3_accuracy: 1.0000\n",
      "Epoch 00012: val_top_3_accuracy did not improve from 1.00000\n",
      "95/95 [==============================] - 51s 542ms/step - loss: 0.0116 - categorical_accuracy: 0.9968 - top_2_accuracy: 0.9989 - top_3_accuracy: 1.0000 - val_loss: 0.8590 - val_categorical_accuracy: 0.8333 - val_top_2_accuracy: 0.9444 - val_top_3_accuracy: 1.0000 - lr: 1.0000e-05\n",
      "Epoch 13/75\n",
      "95/95 [==============================] - ETA: 0s - loss: 0.0027 - categorical_accuracy: 0.9989 - top_2_accuracy: 1.0000 - top_3_accuracy: 1.0000\n",
      "Epoch 00013: val_top_3_accuracy did not improve from 1.00000\n",
      "95/95 [==============================] - 52s 545ms/step - loss: 0.0027 - categorical_accuracy: 0.9989 - top_2_accuracy: 1.0000 - top_3_accuracy: 1.0000 - val_loss: 0.8365 - val_categorical_accuracy: 0.8333 - val_top_2_accuracy: 0.9444 - val_top_3_accuracy: 1.0000 - lr: 1.0000e-05\n",
      "Epoch 14/75\n",
      "95/95 [==============================] - ETA: 0s - loss: 0.0018 - categorical_accuracy: 1.0000 - top_2_accuracy: 1.0000 - top_3_accuracy: 1.0000\n",
      "Epoch 00014: val_top_3_accuracy did not improve from 1.00000\n",
      "95/95 [==============================] - 52s 544ms/step - loss: 0.0018 - categorical_accuracy: 1.0000 - top_2_accuracy: 1.0000 - top_3_accuracy: 1.0000 - val_loss: 0.8032 - val_categorical_accuracy: 0.8333 - val_top_2_accuracy: 0.9444 - val_top_3_accuracy: 1.0000 - lr: 1.0000e-05\n",
      "Epoch 15/75\n",
      "95/95 [==============================] - ETA: 0s - loss: 0.0029 - categorical_accuracy: 0.9989 - top_2_accuracy: 1.0000 - top_3_accuracy: 1.0000\n",
      "Epoch 00015: val_top_3_accuracy did not improve from 1.00000\n",
      "95/95 [==============================] - 53s 558ms/step - loss: 0.0029 - categorical_accuracy: 0.9989 - top_2_accuracy: 1.0000 - top_3_accuracy: 1.0000 - val_loss: 0.8031 - val_categorical_accuracy: 0.8333 - val_top_2_accuracy: 0.9444 - val_top_3_accuracy: 1.0000 - lr: 1.0000e-05\n",
      "Epoch 16/75\n",
      "95/95 [==============================] - ETA: 0s - loss: 0.0099 - categorical_accuracy: 0.9979 - top_2_accuracy: 1.0000 - top_3_accuracy: 1.0000\n",
      "Epoch 00016: val_top_3_accuracy did not improve from 1.00000\n",
      "95/95 [==============================] - 52s 542ms/step - loss: 0.0099 - categorical_accuracy: 0.9979 - top_2_accuracy: 1.0000 - top_3_accuracy: 1.0000 - val_loss: 0.8322 - val_categorical_accuracy: 0.8333 - val_top_2_accuracy: 0.9444 - val_top_3_accuracy: 1.0000 - lr: 1.0000e-05\n",
      "Epoch 17/75\n",
      "95/95 [==============================] - ETA: 0s - loss: 0.0555 - categorical_accuracy: 0.9947 - top_2_accuracy: 1.0000 - top_3_accuracy: 1.0000\n",
      "Epoch 00017: val_top_3_accuracy did not improve from 1.00000\n",
      "95/95 [==============================] - 53s 557ms/step - loss: 0.0555 - categorical_accuracy: 0.9947 - top_2_accuracy: 1.0000 - top_3_accuracy: 1.0000 - val_loss: 0.8527 - val_categorical_accuracy: 0.8333 - val_top_2_accuracy: 0.9444 - val_top_3_accuracy: 1.0000 - lr: 1.0000e-05\n"
     ]
    },
    {
     "name": "stdout",
     "output_type": "stream",
     "text": [
      "Epoch 18/75\n",
      "95/95 [==============================] - ETA: 0s - loss: 0.0022 - categorical_accuracy: 1.0000 - top_2_accuracy: 1.0000 - top_3_accuracy: 1.0000\n",
      "Epoch 00018: val_top_3_accuracy did not improve from 1.00000\n",
      "95/95 [==============================] - 51s 536ms/step - loss: 0.0022 - categorical_accuracy: 1.0000 - top_2_accuracy: 1.0000 - top_3_accuracy: 1.0000 - val_loss: 0.8602 - val_categorical_accuracy: 0.8333 - val_top_2_accuracy: 0.9444 - val_top_3_accuracy: 1.0000 - lr: 1.0000e-05\n",
      "Epoch 19/75\n",
      "95/95 [==============================] - ETA: 0s - loss: 0.0064 - categorical_accuracy: 0.9979 - top_2_accuracy: 1.0000 - top_3_accuracy: 1.0000\n",
      "Epoch 00019: val_top_3_accuracy did not improve from 1.00000\n",
      "95/95 [==============================] - 53s 553ms/step - loss: 0.0064 - categorical_accuracy: 0.9979 - top_2_accuracy: 1.0000 - top_3_accuracy: 1.0000 - val_loss: 0.8586 - val_categorical_accuracy: 0.8333 - val_top_2_accuracy: 0.9444 - val_top_3_accuracy: 1.0000 - lr: 1.0000e-05\n",
      "Epoch 20/75\n",
      "95/95 [==============================] - ETA: 0s - loss: 0.0108 - categorical_accuracy: 0.9979 - top_2_accuracy: 1.0000 - top_3_accuracy: 1.0000\n",
      "Epoch 00020: val_top_3_accuracy did not improve from 1.00000\n",
      "95/95 [==============================] - 51s 541ms/step - loss: 0.0108 - categorical_accuracy: 0.9979 - top_2_accuracy: 1.0000 - top_3_accuracy: 1.0000 - val_loss: 0.8814 - val_categorical_accuracy: 0.8333 - val_top_2_accuracy: 0.9444 - val_top_3_accuracy: 1.0000 - lr: 1.0000e-05\n",
      "Epoch 21/75\n",
      "95/95 [==============================] - ETA: 0s - loss: 0.0041 - categorical_accuracy: 0.9989 - top_2_accuracy: 1.0000 - top_3_accuracy: 1.0000\n",
      "Epoch 00021: val_top_3_accuracy did not improve from 1.00000\n",
      "95/95 [==============================] - 53s 553ms/step - loss: 0.0041 - categorical_accuracy: 0.9989 - top_2_accuracy: 1.0000 - top_3_accuracy: 1.0000 - val_loss: 0.9050 - val_categorical_accuracy: 0.8333 - val_top_2_accuracy: 0.9444 - val_top_3_accuracy: 1.0000 - lr: 1.0000e-05\n",
      "Epoch 22/75\n",
      "95/95 [==============================] - ETA: 0s - loss: 0.0032 - categorical_accuracy: 0.9989 - top_2_accuracy: 1.0000 - top_3_accuracy: 1.0000\n",
      "Epoch 00022: val_top_3_accuracy did not improve from 1.00000\n",
      "95/95 [==============================] - 51s 540ms/step - loss: 0.0032 - categorical_accuracy: 0.9989 - top_2_accuracy: 1.0000 - top_3_accuracy: 1.0000 - val_loss: 0.8516 - val_categorical_accuracy: 0.8333 - val_top_2_accuracy: 0.9444 - val_top_3_accuracy: 1.0000 - lr: 1.0000e-05\n",
      "Epoch 23/75\n",
      "95/95 [==============================] - ETA: 0s - loss: 0.0019 - categorical_accuracy: 1.0000 - top_2_accuracy: 1.0000 - top_3_accuracy: 1.0000\n",
      "Epoch 00023: val_top_3_accuracy did not improve from 1.00000\n",
      "95/95 [==============================] - 53s 559ms/step - loss: 0.0019 - categorical_accuracy: 1.0000 - top_2_accuracy: 1.0000 - top_3_accuracy: 1.0000 - val_loss: 0.8436 - val_categorical_accuracy: 0.8333 - val_top_2_accuracy: 0.9444 - val_top_3_accuracy: 1.0000 - lr: 1.0000e-05\n",
      "Epoch 24/75\n",
      "95/95 [==============================] - ETA: 0s - loss: 0.0045 - categorical_accuracy: 0.9989 - top_2_accuracy: 1.0000 - top_3_accuracy: 1.0000\n",
      "Epoch 00024: val_top_3_accuracy did not improve from 1.00000\n",
      "95/95 [==============================] - 51s 536ms/step - loss: 0.0045 - categorical_accuracy: 0.9989 - top_2_accuracy: 1.0000 - top_3_accuracy: 1.0000 - val_loss: 0.8476 - val_categorical_accuracy: 0.8333 - val_top_2_accuracy: 0.9444 - val_top_3_accuracy: 1.0000 - lr: 1.0000e-05\n",
      "Epoch 25/75\n",
      "95/95 [==============================] - ETA: 0s - loss: 0.0060 - categorical_accuracy: 0.9989 - top_2_accuracy: 1.0000 - top_3_accuracy: 1.0000\n",
      "Epoch 00025: val_top_3_accuracy did not improve from 1.00000\n",
      "95/95 [==============================] - 51s 539ms/step - loss: 0.0060 - categorical_accuracy: 0.9989 - top_2_accuracy: 1.0000 - top_3_accuracy: 1.0000 - val_loss: 0.8439 - val_categorical_accuracy: 0.8333 - val_top_2_accuracy: 0.9444 - val_top_3_accuracy: 1.0000 - lr: 1.0000e-05\n",
      "Epoch 26/75\n",
      "95/95 [==============================] - ETA: 0s - loss: 0.0035 - categorical_accuracy: 0.9989 - top_2_accuracy: 1.0000 - top_3_accuracy: 1.0000\n",
      "Epoch 00026: val_top_3_accuracy did not improve from 1.00000\n",
      "95/95 [==============================] - 51s 534ms/step - loss: 0.0035 - categorical_accuracy: 0.9989 - top_2_accuracy: 1.0000 - top_3_accuracy: 1.0000 - val_loss: 0.8461 - val_categorical_accuracy: 0.8333 - val_top_2_accuracy: 0.9444 - val_top_3_accuracy: 1.0000 - lr: 1.0000e-05\n",
      "Epoch 27/75\n",
      "95/95 [==============================] - ETA: 0s - loss: 0.0020 - categorical_accuracy: 0.9989 - top_2_accuracy: 1.0000 - top_3_accuracy: 1.0000\n",
      "Epoch 00027: val_top_3_accuracy did not improve from 1.00000\n",
      "95/95 [==============================] - 51s 538ms/step - loss: 0.0020 - categorical_accuracy: 0.9989 - top_2_accuracy: 1.0000 - top_3_accuracy: 1.0000 - val_loss: 0.8663 - val_categorical_accuracy: 0.8333 - val_top_2_accuracy: 0.9444 - val_top_3_accuracy: 1.0000 - lr: 1.0000e-05\n",
      "Epoch 28/75\n",
      "95/95 [==============================] - ETA: 0s - loss: 0.0058 - categorical_accuracy: 0.9989 - top_2_accuracy: 1.0000 - top_3_accuracy: 1.0000\n",
      "Epoch 00028: val_top_3_accuracy did not improve from 1.00000\n",
      "95/95 [==============================] - 51s 538ms/step - loss: 0.0058 - categorical_accuracy: 0.9989 - top_2_accuracy: 1.0000 - top_3_accuracy: 1.0000 - val_loss: 0.8930 - val_categorical_accuracy: 0.8333 - val_top_2_accuracy: 0.9444 - val_top_3_accuracy: 1.0000 - lr: 1.0000e-05\n",
      "Epoch 29/75\n",
      "95/95 [==============================] - ETA: 0s - loss: 0.0147 - categorical_accuracy: 0.9979 - top_2_accuracy: 1.0000 - top_3_accuracy: 1.0000\n",
      "Epoch 00029: val_top_3_accuracy did not improve from 1.00000\n",
      "95/95 [==============================] - 53s 562ms/step - loss: 0.0147 - categorical_accuracy: 0.9979 - top_2_accuracy: 1.0000 - top_3_accuracy: 1.0000 - val_loss: 0.8792 - val_categorical_accuracy: 0.8333 - val_top_2_accuracy: 0.9444 - val_top_3_accuracy: 1.0000 - lr: 1.0000e-05\n",
      "Epoch 30/75\n",
      "95/95 [==============================] - ETA: 0s - loss: 0.0052 - categorical_accuracy: 0.9989 - top_2_accuracy: 1.0000 - top_3_accuracy: 1.0000\n",
      "Epoch 00030: val_top_3_accuracy did not improve from 1.00000\n",
      "95/95 [==============================] - 51s 535ms/step - loss: 0.0052 - categorical_accuracy: 0.9989 - top_2_accuracy: 1.0000 - top_3_accuracy: 1.0000 - val_loss: 0.8612 - val_categorical_accuracy: 0.8333 - val_top_2_accuracy: 0.9444 - val_top_3_accuracy: 1.0000 - lr: 1.0000e-05\n",
      "Epoch 31/75\n",
      "95/95 [==============================] - ETA: 0s - loss: 0.0033 - categorical_accuracy: 1.0000 - top_2_accuracy: 1.0000 - top_3_accuracy: 1.0000\n",
      "Epoch 00031: val_top_3_accuracy did not improve from 1.00000\n",
      "95/95 [==============================] - 51s 534ms/step - loss: 0.0033 - categorical_accuracy: 1.0000 - top_2_accuracy: 1.0000 - top_3_accuracy: 1.0000 - val_loss: 0.8544 - val_categorical_accuracy: 0.8333 - val_top_2_accuracy: 0.9444 - val_top_3_accuracy: 1.0000 - lr: 1.0000e-05\n",
      "Epoch 32/75\n",
      "95/95 [==============================] - ETA: 0s - loss: 0.0059 - categorical_accuracy: 0.9979 - top_2_accuracy: 1.0000 - top_3_accuracy: 1.0000\n",
      "Epoch 00032: val_top_3_accuracy did not improve from 1.00000\n",
      "95/95 [==============================] - 51s 534ms/step - loss: 0.0059 - categorical_accuracy: 0.9979 - top_2_accuracy: 1.0000 - top_3_accuracy: 1.0000 - val_loss: 0.8768 - val_categorical_accuracy: 0.8333 - val_top_2_accuracy: 0.9444 - val_top_3_accuracy: 1.0000 - lr: 1.0000e-05\n",
      "Epoch 33/75\n",
      "95/95 [==============================] - ETA: 0s - loss: 0.0257 - categorical_accuracy: 0.9989 - top_2_accuracy: 0.9989 - top_3_accuracy: 1.0000\n",
      "Epoch 00033: val_top_3_accuracy did not improve from 1.00000\n",
      "95/95 [==============================] - 51s 533ms/step - loss: 0.0257 - categorical_accuracy: 0.9989 - top_2_accuracy: 0.9989 - top_3_accuracy: 1.0000 - val_loss: 0.8491 - val_categorical_accuracy: 0.8333 - val_top_2_accuracy: 0.9444 - val_top_3_accuracy: 1.0000 - lr: 1.0000e-05\n",
      "Epoch 34/75\n",
      "95/95 [==============================] - ETA: 0s - loss: 0.0037 - categorical_accuracy: 0.9989 - top_2_accuracy: 1.0000 - top_3_accuracy: 1.0000\n",
      "Epoch 00034: val_top_3_accuracy did not improve from 1.00000\n",
      "95/95 [==============================] - 51s 534ms/step - loss: 0.0037 - categorical_accuracy: 0.9989 - top_2_accuracy: 1.0000 - top_3_accuracy: 1.0000 - val_loss: 0.8578 - val_categorical_accuracy: 0.8333 - val_top_2_accuracy: 0.9444 - val_top_3_accuracy: 1.0000 - lr: 1.0000e-05\n"
     ]
    },
    {
     "name": "stdout",
     "output_type": "stream",
     "text": [
      "Epoch 35/75\n",
      "95/95 [==============================] - ETA: 0s - loss: 0.0031 - categorical_accuracy: 0.9979 - top_2_accuracy: 1.0000 - top_3_accuracy: 1.0000\n",
      "Epoch 00035: val_top_3_accuracy did not improve from 1.00000\n",
      "95/95 [==============================] - 51s 537ms/step - loss: 0.0031 - categorical_accuracy: 0.9979 - top_2_accuracy: 1.0000 - top_3_accuracy: 1.0000 - val_loss: 0.8644 - val_categorical_accuracy: 0.8333 - val_top_2_accuracy: 0.9444 - val_top_3_accuracy: 1.0000 - lr: 1.0000e-05\n",
      "Epoch 36/75\n",
      "95/95 [==============================] - ETA: 0s - loss: 0.0036 - categorical_accuracy: 0.9989 - top_2_accuracy: 1.0000 - top_3_accuracy: 1.0000\n",
      "Epoch 00036: val_top_3_accuracy did not improve from 1.00000\n",
      "95/95 [==============================] - 51s 537ms/step - loss: 0.0036 - categorical_accuracy: 0.9989 - top_2_accuracy: 1.0000 - top_3_accuracy: 1.0000 - val_loss: 0.8670 - val_categorical_accuracy: 0.8333 - val_top_2_accuracy: 0.9444 - val_top_3_accuracy: 1.0000 - lr: 1.0000e-05\n",
      "Epoch 37/75\n",
      "95/95 [==============================] - ETA: 0s - loss: 0.0083 - categorical_accuracy: 0.9979 - top_2_accuracy: 1.0000 - top_3_accuracy: 1.0000\n",
      "Epoch 00037: val_top_3_accuracy did not improve from 1.00000\n",
      "95/95 [==============================] - 51s 536ms/step - loss: 0.0083 - categorical_accuracy: 0.9979 - top_2_accuracy: 1.0000 - top_3_accuracy: 1.0000 - val_loss: 0.8558 - val_categorical_accuracy: 0.8333 - val_top_2_accuracy: 0.9444 - val_top_3_accuracy: 1.0000 - lr: 1.0000e-05\n",
      "Epoch 38/75\n",
      "95/95 [==============================] - ETA: 0s - loss: 0.0082 - categorical_accuracy: 0.9989 - top_2_accuracy: 1.0000 - top_3_accuracy: 1.0000\n",
      "Epoch 00038: val_top_3_accuracy did not improve from 1.00000\n",
      "95/95 [==============================] - 52s 549ms/step - loss: 0.0082 - categorical_accuracy: 0.9989 - top_2_accuracy: 1.0000 - top_3_accuracy: 1.0000 - val_loss: 0.8536 - val_categorical_accuracy: 0.8333 - val_top_2_accuracy: 0.9444 - val_top_3_accuracy: 1.0000 - lr: 1.0000e-05\n",
      "Epoch 39/75\n",
      "95/95 [==============================] - ETA: 0s - loss: 0.0021 - categorical_accuracy: 0.9989 - top_2_accuracy: 1.0000 - top_3_accuracy: 1.0000\n",
      "Epoch 00039: val_top_3_accuracy did not improve from 1.00000\n",
      "95/95 [==============================] - 50s 531ms/step - loss: 0.0021 - categorical_accuracy: 0.9989 - top_2_accuracy: 1.0000 - top_3_accuracy: 1.0000 - val_loss: 0.8582 - val_categorical_accuracy: 0.8333 - val_top_2_accuracy: 0.9444 - val_top_3_accuracy: 1.0000 - lr: 1.0000e-05\n",
      "Epoch 40/75\n",
      "95/95 [==============================] - ETA: 0s - loss: 0.0119 - categorical_accuracy: 0.9979 - top_2_accuracy: 1.0000 - top_3_accuracy: 1.0000\n",
      "Epoch 00040: val_top_3_accuracy did not improve from 1.00000\n",
      "95/95 [==============================] - 51s 534ms/step - loss: 0.0119 - categorical_accuracy: 0.9979 - top_2_accuracy: 1.0000 - top_3_accuracy: 1.0000 - val_loss: 0.8455 - val_categorical_accuracy: 0.8333 - val_top_2_accuracy: 0.9444 - val_top_3_accuracy: 1.0000 - lr: 1.0000e-05\n",
      "Epoch 41/75\n",
      "95/95 [==============================] - ETA: 0s - loss: 0.0022 - categorical_accuracy: 1.0000 - top_2_accuracy: 1.0000 - top_3_accuracy: 1.0000\n",
      "Epoch 00041: val_top_3_accuracy did not improve from 1.00000\n",
      "95/95 [==============================] - 51s 534ms/step - loss: 0.0022 - categorical_accuracy: 1.0000 - top_2_accuracy: 1.0000 - top_3_accuracy: 1.0000 - val_loss: 0.8432 - val_categorical_accuracy: 0.8333 - val_top_2_accuracy: 0.9444 - val_top_3_accuracy: 1.0000 - lr: 1.0000e-05\n",
      "Epoch 42/75\n",
      "95/95 [==============================] - ETA: 0s - loss: 0.0039 - categorical_accuracy: 0.9989 - top_2_accuracy: 1.0000 - top_3_accuracy: 1.0000\n",
      "Epoch 00042: val_top_3_accuracy did not improve from 1.00000\n",
      "95/95 [==============================] - 51s 537ms/step - loss: 0.0039 - categorical_accuracy: 0.9989 - top_2_accuracy: 1.0000 - top_3_accuracy: 1.0000 - val_loss: 0.8327 - val_categorical_accuracy: 0.8333 - val_top_2_accuracy: 0.9444 - val_top_3_accuracy: 1.0000 - lr: 1.0000e-05\n",
      "Epoch 43/75\n",
      "95/95 [==============================] - ETA: 0s - loss: 0.0123 - categorical_accuracy: 0.9947 - top_2_accuracy: 1.0000 - top_3_accuracy: 1.0000\n",
      "Epoch 00043: val_top_3_accuracy did not improve from 1.00000\n",
      "95/95 [==============================] - 52s 549ms/step - loss: 0.0123 - categorical_accuracy: 0.9947 - top_2_accuracy: 1.0000 - top_3_accuracy: 1.0000 - val_loss: 0.8419 - val_categorical_accuracy: 0.8333 - val_top_2_accuracy: 0.9444 - val_top_3_accuracy: 1.0000 - lr: 1.0000e-05\n",
      "Epoch 44/75\n",
      "95/95 [==============================] - ETA: 0s - loss: 0.0024 - categorical_accuracy: 1.0000 - top_2_accuracy: 1.0000 - top_3_accuracy: 1.0000\n",
      "Epoch 00044: val_top_3_accuracy did not improve from 1.00000\n",
      "95/95 [==============================] - 51s 534ms/step - loss: 0.0024 - categorical_accuracy: 1.0000 - top_2_accuracy: 1.0000 - top_3_accuracy: 1.0000 - val_loss: 0.8443 - val_categorical_accuracy: 0.8333 - val_top_2_accuracy: 0.9444 - val_top_3_accuracy: 1.0000 - lr: 1.0000e-05\n",
      "Epoch 45/75\n",
      "95/95 [==============================] - ETA: 0s - loss: 0.0028 - categorical_accuracy: 0.9989 - top_2_accuracy: 1.0000 - top_3_accuracy: 1.0000\n",
      "Epoch 00045: val_top_3_accuracy did not improve from 1.00000\n",
      "95/95 [==============================] - 51s 532ms/step - loss: 0.0028 - categorical_accuracy: 0.9989 - top_2_accuracy: 1.0000 - top_3_accuracy: 1.0000 - val_loss: 0.8188 - val_categorical_accuracy: 0.8333 - val_top_2_accuracy: 0.9444 - val_top_3_accuracy: 1.0000 - lr: 1.0000e-05\n",
      "Epoch 46/75\n",
      "95/95 [==============================] - ETA: 0s - loss: 0.0111 - categorical_accuracy: 0.9979 - top_2_accuracy: 1.0000 - top_3_accuracy: 1.0000\n",
      "Epoch 00046: val_top_3_accuracy did not improve from 1.00000\n",
      "95/95 [==============================] - 51s 533ms/step - loss: 0.0111 - categorical_accuracy: 0.9979 - top_2_accuracy: 1.0000 - top_3_accuracy: 1.0000 - val_loss: 0.8661 - val_categorical_accuracy: 0.8333 - val_top_2_accuracy: 0.9444 - val_top_3_accuracy: 1.0000 - lr: 1.0000e-05\n",
      "Epoch 47/75\n",
      "95/95 [==============================] - ETA: 0s - loss: 0.0032 - categorical_accuracy: 1.0000 - top_2_accuracy: 1.0000 - top_3_accuracy: 1.0000\n",
      "Epoch 00047: val_top_3_accuracy did not improve from 1.00000\n",
      "95/95 [==============================] - 51s 534ms/step - loss: 0.0032 - categorical_accuracy: 1.0000 - top_2_accuracy: 1.0000 - top_3_accuracy: 1.0000 - val_loss: 0.8605 - val_categorical_accuracy: 0.8333 - val_top_2_accuracy: 0.9444 - val_top_3_accuracy: 1.0000 - lr: 1.0000e-05\n",
      "Epoch 48/75\n",
      "95/95 [==============================] - ETA: 0s - loss: 0.0045 - categorical_accuracy: 0.9989 - top_2_accuracy: 1.0000 - top_3_accuracy: 1.0000\n",
      "Epoch 00048: val_top_3_accuracy did not improve from 1.00000\n",
      "95/95 [==============================] - 51s 537ms/step - loss: 0.0045 - categorical_accuracy: 0.9989 - top_2_accuracy: 1.0000 - top_3_accuracy: 1.0000 - val_loss: 0.8535 - val_categorical_accuracy: 0.8333 - val_top_2_accuracy: 0.9444 - val_top_3_accuracy: 1.0000 - lr: 1.0000e-05\n",
      "Epoch 49/75\n",
      "95/95 [==============================] - ETA: 0s - loss: 0.0020 - categorical_accuracy: 1.0000 - top_2_accuracy: 1.0000 - top_3_accuracy: 1.0000\n",
      "Epoch 00049: val_top_3_accuracy did not improve from 1.00000\n",
      "95/95 [==============================] - 51s 535ms/step - loss: 0.0020 - categorical_accuracy: 1.0000 - top_2_accuracy: 1.0000 - top_3_accuracy: 1.0000 - val_loss: 0.8444 - val_categorical_accuracy: 0.8333 - val_top_2_accuracy: 0.9444 - val_top_3_accuracy: 1.0000 - lr: 1.0000e-05\n",
      "Epoch 50/75\n",
      "95/95 [==============================] - ETA: 0s - loss: 0.0061 - categorical_accuracy: 0.9989 - top_2_accuracy: 1.0000 - top_3_accuracy: 1.0000\n",
      "Epoch 00050: val_top_3_accuracy did not improve from 1.00000\n",
      "95/95 [==============================] - 53s 563ms/step - loss: 0.0061 - categorical_accuracy: 0.9989 - top_2_accuracy: 1.0000 - top_3_accuracy: 1.0000 - val_loss: 0.8002 - val_categorical_accuracy: 0.8333 - val_top_2_accuracy: 0.9444 - val_top_3_accuracy: 1.0000 - lr: 1.0000e-05\n",
      "Epoch 51/75\n",
      "95/95 [==============================] - ETA: 0s - loss: 0.0047 - categorical_accuracy: 0.9989 - top_2_accuracy: 1.0000 - top_3_accuracy: 1.0000\n",
      "Epoch 00051: val_top_3_accuracy did not improve from 1.00000\n",
      "95/95 [==============================] - 50s 531ms/step - loss: 0.0047 - categorical_accuracy: 0.9989 - top_2_accuracy: 1.0000 - top_3_accuracy: 1.0000 - val_loss: 0.8000 - val_categorical_accuracy: 0.8333 - val_top_2_accuracy: 0.9444 - val_top_3_accuracy: 1.0000 - lr: 1.0000e-05\n"
     ]
    },
    {
     "name": "stdout",
     "output_type": "stream",
     "text": [
      "Epoch 52/75\n",
      "95/95 [==============================] - ETA: 0s - loss: 0.0023 - categorical_accuracy: 1.0000 - top_2_accuracy: 1.0000 - top_3_accuracy: 1.0000\n",
      "Epoch 00052: val_top_3_accuracy did not improve from 1.00000\n",
      "95/95 [==============================] - 51s 533ms/step - loss: 0.0023 - categorical_accuracy: 1.0000 - top_2_accuracy: 1.0000 - top_3_accuracy: 1.0000 - val_loss: 0.8153 - val_categorical_accuracy: 0.8333 - val_top_2_accuracy: 0.9444 - val_top_3_accuracy: 1.0000 - lr: 1.0000e-05\n",
      "Epoch 53/75\n",
      "95/95 [==============================] - ETA: 0s - loss: 0.0023 - categorical_accuracy: 0.9989 - top_2_accuracy: 1.0000 - top_3_accuracy: 1.0000\n",
      "Epoch 00053: val_top_3_accuracy did not improve from 1.00000\n",
      "95/95 [==============================] - 51s 536ms/step - loss: 0.0023 - categorical_accuracy: 0.9989 - top_2_accuracy: 1.0000 - top_3_accuracy: 1.0000 - val_loss: 0.8438 - val_categorical_accuracy: 0.8333 - val_top_2_accuracy: 0.9444 - val_top_3_accuracy: 1.0000 - lr: 1.0000e-05\n",
      "Epoch 54/75\n",
      "95/95 [==============================] - ETA: 0s - loss: 0.0050 - categorical_accuracy: 0.9989 - top_2_accuracy: 1.0000 - top_3_accuracy: 1.0000\n",
      "Epoch 00054: val_top_3_accuracy did not improve from 1.00000\n",
      "95/95 [==============================] - 51s 532ms/step - loss: 0.0050 - categorical_accuracy: 0.9989 - top_2_accuracy: 1.0000 - top_3_accuracy: 1.0000 - val_loss: 0.8290 - val_categorical_accuracy: 0.8333 - val_top_2_accuracy: 0.9444 - val_top_3_accuracy: 1.0000 - lr: 1.0000e-05\n",
      "Epoch 55/75\n",
      "95/95 [==============================] - ETA: 0s - loss: 0.0117 - categorical_accuracy: 0.9979 - top_2_accuracy: 1.0000 - top_3_accuracy: 1.0000\n",
      "Epoch 00055: val_top_3_accuracy did not improve from 1.00000\n",
      "95/95 [==============================] - 51s 534ms/step - loss: 0.0117 - categorical_accuracy: 0.9979 - top_2_accuracy: 1.0000 - top_3_accuracy: 1.0000 - val_loss: 0.8480 - val_categorical_accuracy: 0.8333 - val_top_2_accuracy: 0.9444 - val_top_3_accuracy: 1.0000 - lr: 1.0000e-05\n",
      "Epoch 56/75\n",
      "95/95 [==============================] - ETA: 0s - loss: 5.5408e-04 - categorical_accuracy: 1.0000 - top_2_accuracy: 1.0000 - top_3_accuracy: 1.0000\n",
      "Epoch 00056: val_top_3_accuracy did not improve from 1.00000\n",
      "95/95 [==============================] - 51s 535ms/step - loss: 5.5408e-04 - categorical_accuracy: 1.0000 - top_2_accuracy: 1.0000 - top_3_accuracy: 1.0000 - val_loss: 0.8577 - val_categorical_accuracy: 0.8333 - val_top_2_accuracy: 0.9444 - val_top_3_accuracy: 1.0000 - lr: 1.0000e-05\n",
      "Epoch 57/75\n",
      "95/95 [==============================] - ETA: 0s - loss: 0.0019 - categorical_accuracy: 1.0000 - top_2_accuracy: 1.0000 - top_3_accuracy: 1.0000\n",
      "Epoch 00057: val_top_3_accuracy did not improve from 1.00000\n",
      "95/95 [==============================] - 51s 536ms/step - loss: 0.0019 - categorical_accuracy: 1.0000 - top_2_accuracy: 1.0000 - top_3_accuracy: 1.0000 - val_loss: 0.9086 - val_categorical_accuracy: 0.8333 - val_top_2_accuracy: 0.9444 - val_top_3_accuracy: 1.0000 - lr: 1.0000e-05\n",
      "Epoch 58/75\n",
      "95/95 [==============================] - ETA: 0s - loss: 0.0018 - categorical_accuracy: 1.0000 - top_2_accuracy: 1.0000 - top_3_accuracy: 1.0000\n",
      "Epoch 00058: val_top_3_accuracy did not improve from 1.00000\n",
      "95/95 [==============================] - 52s 549ms/step - loss: 0.0018 - categorical_accuracy: 1.0000 - top_2_accuracy: 1.0000 - top_3_accuracy: 1.0000 - val_loss: 0.8804 - val_categorical_accuracy: 0.8333 - val_top_2_accuracy: 0.9444 - val_top_3_accuracy: 1.0000 - lr: 1.0000e-05\n",
      "Epoch 59/75\n",
      "95/95 [==============================] - ETA: 0s - loss: 0.0066 - categorical_accuracy: 0.9968 - top_2_accuracy: 1.0000 - top_3_accuracy: 1.0000\n",
      "Epoch 00059: val_top_3_accuracy did not improve from 1.00000\n",
      "95/95 [==============================] - 50s 531ms/step - loss: 0.0066 - categorical_accuracy: 0.9968 - top_2_accuracy: 1.0000 - top_3_accuracy: 1.0000 - val_loss: 0.8503 - val_categorical_accuracy: 0.8333 - val_top_2_accuracy: 0.9444 - val_top_3_accuracy: 1.0000 - lr: 1.0000e-05\n",
      "Epoch 60/75\n",
      "95/95 [==============================] - ETA: 0s - loss: 0.0154 - categorical_accuracy: 0.9989 - top_2_accuracy: 1.0000 - top_3_accuracy: 1.0000\n",
      "Epoch 00060: val_top_3_accuracy did not improve from 1.00000\n",
      "95/95 [==============================] - 51s 533ms/step - loss: 0.0154 - categorical_accuracy: 0.9989 - top_2_accuracy: 1.0000 - top_3_accuracy: 1.0000 - val_loss: 0.8376 - val_categorical_accuracy: 0.8333 - val_top_2_accuracy: 0.9444 - val_top_3_accuracy: 1.0000 - lr: 1.0000e-05\n",
      "Epoch 61/75\n",
      "95/95 [==============================] - ETA: 0s - loss: 0.0027 - categorical_accuracy: 1.0000 - top_2_accuracy: 1.0000 - top_3_accuracy: 1.0000\n",
      "Epoch 00061: val_top_3_accuracy did not improve from 1.00000\n",
      "95/95 [==============================] - 51s 534ms/step - loss: 0.0027 - categorical_accuracy: 1.0000 - top_2_accuracy: 1.0000 - top_3_accuracy: 1.0000 - val_loss: 0.8470 - val_categorical_accuracy: 0.8333 - val_top_2_accuracy: 0.9444 - val_top_3_accuracy: 1.0000 - lr: 1.0000e-05\n",
      "Epoch 62/75\n",
      "95/95 [==============================] - ETA: 0s - loss: 0.0314 - categorical_accuracy: 0.9968 - top_2_accuracy: 1.0000 - top_3_accuracy: 1.0000\n",
      "Epoch 00062: val_top_3_accuracy did not improve from 1.00000\n",
      "95/95 [==============================] - 51s 537ms/step - loss: 0.0314 - categorical_accuracy: 0.9968 - top_2_accuracy: 1.0000 - top_3_accuracy: 1.0000 - val_loss: 0.8744 - val_categorical_accuracy: 0.8333 - val_top_2_accuracy: 0.9444 - val_top_3_accuracy: 1.0000 - lr: 1.0000e-05\n",
      "Epoch 63/75\n",
      "95/95 [==============================] - ETA: 0s - loss: 0.0054 - categorical_accuracy: 0.9968 - top_2_accuracy: 1.0000 - top_3_accuracy: 1.0000\n",
      "Epoch 00063: val_top_3_accuracy did not improve from 1.00000\n",
      "95/95 [==============================] - 51s 534ms/step - loss: 0.0054 - categorical_accuracy: 0.9968 - top_2_accuracy: 1.0000 - top_3_accuracy: 1.0000 - val_loss: 0.8577 - val_categorical_accuracy: 0.8333 - val_top_2_accuracy: 0.9444 - val_top_3_accuracy: 1.0000 - lr: 1.0000e-05\n",
      "Epoch 64/75\n",
      "95/95 [==============================] - ETA: 0s - loss: 0.0210 - categorical_accuracy: 0.9968 - top_2_accuracy: 1.0000 - top_3_accuracy: 1.0000\n",
      "Epoch 00064: val_top_3_accuracy did not improve from 1.00000\n",
      "95/95 [==============================] - 51s 535ms/step - loss: 0.0210 - categorical_accuracy: 0.9968 - top_2_accuracy: 1.0000 - top_3_accuracy: 1.0000 - val_loss: 0.8926 - val_categorical_accuracy: 0.8333 - val_top_2_accuracy: 0.9444 - val_top_3_accuracy: 1.0000 - lr: 1.0000e-05\n",
      "Epoch 65/75\n",
      "95/95 [==============================] - ETA: 0s - loss: 7.2969e-04 - categorical_accuracy: 1.0000 - top_2_accuracy: 1.0000 - top_3_accuracy: 1.0000\n",
      "Epoch 00065: val_top_3_accuracy did not improve from 1.00000\n",
      "95/95 [==============================] - 51s 532ms/step - loss: 7.2969e-04 - categorical_accuracy: 1.0000 - top_2_accuracy: 1.0000 - top_3_accuracy: 1.0000 - val_loss: 0.8542 - val_categorical_accuracy: 0.8333 - val_top_2_accuracy: 0.9444 - val_top_3_accuracy: 1.0000 - lr: 1.0000e-05\n",
      "Epoch 66/75\n",
      "95/95 [==============================] - ETA: 0s - loss: 0.0179 - categorical_accuracy: 0.9968 - top_2_accuracy: 1.0000 - top_3_accuracy: 1.0000\n",
      "Epoch 00066: val_top_3_accuracy did not improve from 1.00000\n",
      "95/95 [==============================] - 51s 534ms/step - loss: 0.0179 - categorical_accuracy: 0.9968 - top_2_accuracy: 1.0000 - top_3_accuracy: 1.0000 - val_loss: 0.8754 - val_categorical_accuracy: 0.8333 - val_top_2_accuracy: 0.9444 - val_top_3_accuracy: 1.0000 - lr: 1.0000e-05\n",
      "Epoch 67/75\n",
      "95/95 [==============================] - ETA: 0s - loss: 0.0064 - categorical_accuracy: 0.9989 - top_2_accuracy: 1.0000 - top_3_accuracy: 1.0000\n",
      "Epoch 00067: val_top_3_accuracy did not improve from 1.00000\n",
      "95/95 [==============================] - 50s 531ms/step - loss: 0.0064 - categorical_accuracy: 0.9989 - top_2_accuracy: 1.0000 - top_3_accuracy: 1.0000 - val_loss: 0.8723 - val_categorical_accuracy: 0.8333 - val_top_2_accuracy: 0.9444 - val_top_3_accuracy: 1.0000 - lr: 1.0000e-05\n",
      "Epoch 68/75\n",
      "95/95 [==============================] - ETA: 0s - loss: 0.0022 - categorical_accuracy: 1.0000 - top_2_accuracy: 1.0000 - top_3_accuracy: 1.0000\n",
      "Epoch 00068: val_top_3_accuracy did not improve from 1.00000\n",
      "95/95 [==============================] - 51s 532ms/step - loss: 0.0022 - categorical_accuracy: 1.0000 - top_2_accuracy: 1.0000 - top_3_accuracy: 1.0000 - val_loss: 0.8582 - val_categorical_accuracy: 0.8333 - val_top_2_accuracy: 0.9444 - val_top_3_accuracy: 1.0000 - lr: 1.0000e-05\n"
     ]
    },
    {
     "name": "stdout",
     "output_type": "stream",
     "text": [
      "Epoch 69/75\n",
      "95/95 [==============================] - ETA: 0s - loss: 0.1308 - categorical_accuracy: 0.9947 - top_2_accuracy: 0.9968 - top_3_accuracy: 1.0000\n",
      "Epoch 00069: val_top_3_accuracy did not improve from 1.00000\n",
      "95/95 [==============================] - 51s 533ms/step - loss: 0.1308 - categorical_accuracy: 0.9947 - top_2_accuracy: 0.9968 - top_3_accuracy: 1.0000 - val_loss: 0.8562 - val_categorical_accuracy: 0.8333 - val_top_2_accuracy: 0.9444 - val_top_3_accuracy: 1.0000 - lr: 1.0000e-05\n",
      "Epoch 70/75\n",
      "95/95 [==============================] - ETA: 0s - loss: 0.0096 - categorical_accuracy: 0.9979 - top_2_accuracy: 1.0000 - top_3_accuracy: 1.0000\n",
      "Epoch 00070: val_top_3_accuracy did not improve from 1.00000\n",
      "95/95 [==============================] - 50s 530ms/step - loss: 0.0096 - categorical_accuracy: 0.9979 - top_2_accuracy: 1.0000 - top_3_accuracy: 1.0000 - val_loss: 0.8783 - val_categorical_accuracy: 0.8333 - val_top_2_accuracy: 0.9444 - val_top_3_accuracy: 1.0000 - lr: 1.0000e-05\n",
      "Epoch 71/75\n",
      "95/95 [==============================] - ETA: 0s - loss: 0.0022 - categorical_accuracy: 1.0000 - top_2_accuracy: 1.0000 - top_3_accuracy: 1.0000\n",
      "Epoch 00071: val_top_3_accuracy did not improve from 1.00000\n",
      "95/95 [==============================] - 50s 530ms/step - loss: 0.0022 - categorical_accuracy: 1.0000 - top_2_accuracy: 1.0000 - top_3_accuracy: 1.0000 - val_loss: 0.8878 - val_categorical_accuracy: 0.8333 - val_top_2_accuracy: 0.9444 - val_top_3_accuracy: 1.0000 - lr: 1.0000e-05\n",
      "Epoch 72/75\n",
      "95/95 [==============================] - ETA: 0s - loss: 0.0139 - categorical_accuracy: 0.9979 - top_2_accuracy: 1.0000 - top_3_accuracy: 1.0000\n",
      "Epoch 00072: val_top_3_accuracy did not improve from 1.00000\n",
      "95/95 [==============================] - 50s 531ms/step - loss: 0.0139 - categorical_accuracy: 0.9979 - top_2_accuracy: 1.0000 - top_3_accuracy: 1.0000 - val_loss: 0.8934 - val_categorical_accuracy: 0.8333 - val_top_2_accuracy: 0.9444 - val_top_3_accuracy: 1.0000 - lr: 1.0000e-05\n",
      "Epoch 73/75\n",
      "95/95 [==============================] - ETA: 0s - loss: 0.0081 - categorical_accuracy: 0.9979 - top_2_accuracy: 1.0000 - top_3_accuracy: 1.0000\n",
      "Epoch 00073: val_top_3_accuracy did not improve from 1.00000\n",
      "95/95 [==============================] - 50s 531ms/step - loss: 0.0081 - categorical_accuracy: 0.9979 - top_2_accuracy: 1.0000 - top_3_accuracy: 1.0000 - val_loss: 0.9114 - val_categorical_accuracy: 0.8333 - val_top_2_accuracy: 0.9444 - val_top_3_accuracy: 1.0000 - lr: 1.0000e-05\n",
      "Epoch 74/75\n",
      "95/95 [==============================] - ETA: 0s - loss: 0.0029 - categorical_accuracy: 0.9989 - top_2_accuracy: 1.0000 - top_3_accuracy: 1.0000    \n",
      "Epoch 00074: val_top_3_accuracy did not improve from 1.00000\n",
      "95/95 [==============================] - 51s 532ms/step - loss: 0.0029 - categorical_accuracy: 0.9989 - top_2_accuracy: 1.0000 - top_3_accuracy: 1.0000 - val_loss: 0.9062 - val_categorical_accuracy: 0.8333 - val_top_2_accuracy: 0.9444 - val_top_3_accuracy: 1.0000 - lr: 1.0000e-05\n",
      "Epoch 75/75\n",
      "95/95 [==============================] - ETA: 0s - loss: 0.0082 - categorical_accuracy: 0.9979 - top_2_accuracy: 0.9989 - top_3_accuracy: 1.0000\n",
      "Epoch 00075: val_top_3_accuracy did not improve from 1.00000\n",
      "95/95 [==============================] - 51s 533ms/step - loss: 0.0082 - categorical_accuracy: 0.9979 - top_2_accuracy: 0.9989 - top_3_accuracy: 1.0000 - val_loss: 0.9110 - val_categorical_accuracy: 0.8333 - val_top_2_accuracy: 0.9444 - val_top_3_accuracy: 1.0000 - lr: 1.0000e-05\n"
     ]
    }
   ],
   "source": [
    "#checkpoint_path = \"training_1/cp.ckpt\"\n",
    "#checkpoint_dir = os.path.dirname(checkpoint_path)\n",
    "\n",
    "filepath = \"model.h5\"\n",
    "checkpoint = ModelCheckpoint(filepath, monitor='val_top_3_accuracy', verbose=1, \n",
    "                             save_best_only=True, mode='max')\n",
    "\n",
    "reduce_lr = ReduceLROnPlateau(monitor='val_top_3_accuracy', factor=0.5, patience=2, \n",
    "                                   verbose=1, mode='max', min_lr=0.00001)\n",
    "                              \n",
    "                              \n",
    "callbacks_list = [checkpoint, reduce_lr]\n",
    "\n",
    "history = model.fit(train_batches, steps_per_epoch=train_steps, \n",
    "                              class_weight=class_weights,\n",
    "                    validation_data=valid_batches,\n",
    "                    validation_steps=val_steps,\n",
    "                    epochs=75, verbose=1,\n",
    "                   callbacks=callbacks_list)\n",
    "\n",
    "\n",
    "model.save('my_model.h5') "
   ]
  },
  {
   "cell_type": "code",
   "execution_count": 6,
   "metadata": {},
   "outputs": [
    {
     "ename": "ValueError",
     "evalue": "Unknown metric function: top_2_accuracy",
     "output_type": "error",
     "traceback": [
      "\u001b[0;31m---------------------------------------------------------------------------\u001b[0m",
      "\u001b[0;31mValueError\u001b[0m                                Traceback (most recent call last)",
      "\u001b[0;32m<ipython-input-6-4d9c7adc5515>\u001b[0m in \u001b[0;36m<module>\u001b[0;34m\u001b[0m\n\u001b[1;32m      1\u001b[0m \u001b[0;31m# Recreate the exact same model, including its weights and the optimizer\u001b[0m\u001b[0;34m\u001b[0m\u001b[0;34m\u001b[0m\u001b[0;34m\u001b[0m\u001b[0m\n\u001b[0;32m----> 2\u001b[0;31m \u001b[0mnew_model\u001b[0m \u001b[0;34m=\u001b[0m \u001b[0mtf\u001b[0m\u001b[0;34m.\u001b[0m\u001b[0mkeras\u001b[0m\u001b[0;34m.\u001b[0m\u001b[0mmodels\u001b[0m\u001b[0;34m.\u001b[0m\u001b[0mload_model\u001b[0m\u001b[0;34m(\u001b[0m\u001b[0;34m'my_model.h5'\u001b[0m\u001b[0;34m)\u001b[0m\u001b[0;34m\u001b[0m\u001b[0;34m\u001b[0m\u001b[0m\n\u001b[0m\u001b[1;32m      3\u001b[0m \u001b[0;34m\u001b[0m\u001b[0m\n\u001b[1;32m      4\u001b[0m \u001b[0;31m# Show the model architecture\u001b[0m\u001b[0;34m\u001b[0m\u001b[0;34m\u001b[0m\u001b[0;34m\u001b[0m\u001b[0m\n\u001b[1;32m      5\u001b[0m \u001b[0mnew_model\u001b[0m\u001b[0;34m.\u001b[0m\u001b[0msummary\u001b[0m\u001b[0;34m(\u001b[0m\u001b[0;34m)\u001b[0m\u001b[0;34m\u001b[0m\u001b[0;34m\u001b[0m\u001b[0m\n",
      "\u001b[0;32m~/heridas/lib/python3.6/site-packages/tensorflow/python/keras/saving/save.py\u001b[0m in \u001b[0;36mload_model\u001b[0;34m(filepath, custom_objects, compile, options)\u001b[0m\n\u001b[1;32m    180\u001b[0m     if (h5py is not None and (\n\u001b[1;32m    181\u001b[0m         isinstance(filepath, h5py.File) or h5py.is_hdf5(filepath))):\n\u001b[0;32m--> 182\u001b[0;31m       \u001b[0;32mreturn\u001b[0m \u001b[0mhdf5_format\u001b[0m\u001b[0;34m.\u001b[0m\u001b[0mload_model_from_hdf5\u001b[0m\u001b[0;34m(\u001b[0m\u001b[0mfilepath\u001b[0m\u001b[0;34m,\u001b[0m \u001b[0mcustom_objects\u001b[0m\u001b[0;34m,\u001b[0m \u001b[0mcompile\u001b[0m\u001b[0;34m)\u001b[0m\u001b[0;34m\u001b[0m\u001b[0;34m\u001b[0m\u001b[0m\n\u001b[0m\u001b[1;32m    183\u001b[0m \u001b[0;34m\u001b[0m\u001b[0m\n\u001b[1;32m    184\u001b[0m     \u001b[0mfilepath\u001b[0m \u001b[0;34m=\u001b[0m \u001b[0mpath_to_string\u001b[0m\u001b[0;34m(\u001b[0m\u001b[0mfilepath\u001b[0m\u001b[0;34m)\u001b[0m\u001b[0;34m\u001b[0m\u001b[0;34m\u001b[0m\u001b[0m\n",
      "\u001b[0;32m~/heridas/lib/python3.6/site-packages/tensorflow/python/keras/saving/hdf5_format.py\u001b[0m in \u001b[0;36mload_model_from_hdf5\u001b[0;34m(filepath, custom_objects, compile)\u001b[0m\n\u001b[1;32m    192\u001b[0m       \u001b[0;31m# Compile model.\u001b[0m\u001b[0;34m\u001b[0m\u001b[0;34m\u001b[0m\u001b[0;34m\u001b[0m\u001b[0m\n\u001b[1;32m    193\u001b[0m       model.compile(**saving_utils.compile_args_from_training_config(\n\u001b[0;32m--> 194\u001b[0;31m           training_config, custom_objects))\n\u001b[0m\u001b[1;32m    195\u001b[0m       \u001b[0msaving_utils\u001b[0m\u001b[0;34m.\u001b[0m\u001b[0mtry_build_compiled_arguments\u001b[0m\u001b[0;34m(\u001b[0m\u001b[0mmodel\u001b[0m\u001b[0;34m)\u001b[0m\u001b[0;34m\u001b[0m\u001b[0;34m\u001b[0m\u001b[0m\n\u001b[1;32m    196\u001b[0m \u001b[0;34m\u001b[0m\u001b[0m\n",
      "\u001b[0;32m~/heridas/lib/python3.6/site-packages/tensorflow/python/keras/saving/saving_utils.py\u001b[0m in \u001b[0;36mcompile_args_from_training_config\u001b[0;34m(training_config, custom_objects)\u001b[0m\n\u001b[1;32m    221\u001b[0m     \u001b[0mmetrics_config\u001b[0m \u001b[0;34m=\u001b[0m \u001b[0mtraining_config\u001b[0m\u001b[0;34m.\u001b[0m\u001b[0mget\u001b[0m\u001b[0;34m(\u001b[0m\u001b[0;34m'metrics'\u001b[0m\u001b[0;34m,\u001b[0m \u001b[0;32mNone\u001b[0m\u001b[0;34m)\u001b[0m\u001b[0;34m\u001b[0m\u001b[0;34m\u001b[0m\u001b[0m\n\u001b[1;32m    222\u001b[0m     \u001b[0;32mif\u001b[0m \u001b[0mmetrics_config\u001b[0m \u001b[0;32mis\u001b[0m \u001b[0;32mnot\u001b[0m \u001b[0;32mNone\u001b[0m\u001b[0;34m:\u001b[0m\u001b[0;34m\u001b[0m\u001b[0;34m\u001b[0m\u001b[0m\n\u001b[0;32m--> 223\u001b[0;31m       \u001b[0mmetrics\u001b[0m \u001b[0;34m=\u001b[0m \u001b[0m_deserialize_nested_config\u001b[0m\u001b[0;34m(\u001b[0m\u001b[0m_deserialize_metric\u001b[0m\u001b[0;34m,\u001b[0m \u001b[0mmetrics_config\u001b[0m\u001b[0;34m)\u001b[0m\u001b[0;34m\u001b[0m\u001b[0;34m\u001b[0m\u001b[0m\n\u001b[0m\u001b[1;32m    224\u001b[0m \u001b[0;34m\u001b[0m\u001b[0m\n\u001b[1;32m    225\u001b[0m     \u001b[0;31m# Recover weighted metrics.\u001b[0m\u001b[0;34m\u001b[0m\u001b[0;34m\u001b[0m\u001b[0;34m\u001b[0m\u001b[0m\n",
      "\u001b[0;32m~/heridas/lib/python3.6/site-packages/tensorflow/python/keras/saving/saving_utils.py\u001b[0m in \u001b[0;36m_deserialize_nested_config\u001b[0;34m(deserialize_fn, config)\u001b[0m\n\u001b[1;32m    263\u001b[0m     }\n\u001b[1;32m    264\u001b[0m   \u001b[0;32melif\u001b[0m \u001b[0misinstance\u001b[0m\u001b[0;34m(\u001b[0m\u001b[0mconfig\u001b[0m\u001b[0;34m,\u001b[0m \u001b[0;34m(\u001b[0m\u001b[0mtuple\u001b[0m\u001b[0;34m,\u001b[0m \u001b[0mlist\u001b[0m\u001b[0;34m)\u001b[0m\u001b[0;34m)\u001b[0m\u001b[0;34m:\u001b[0m\u001b[0;34m\u001b[0m\u001b[0;34m\u001b[0m\u001b[0m\n\u001b[0;32m--> 265\u001b[0;31m     \u001b[0;32mreturn\u001b[0m \u001b[0;34m[\u001b[0m\u001b[0m_deserialize_nested_config\u001b[0m\u001b[0;34m(\u001b[0m\u001b[0mdeserialize_fn\u001b[0m\u001b[0;34m,\u001b[0m \u001b[0mobj\u001b[0m\u001b[0;34m)\u001b[0m \u001b[0;32mfor\u001b[0m \u001b[0mobj\u001b[0m \u001b[0;32min\u001b[0m \u001b[0mconfig\u001b[0m\u001b[0;34m]\u001b[0m\u001b[0;34m\u001b[0m\u001b[0;34m\u001b[0m\u001b[0m\n\u001b[0m\u001b[1;32m    266\u001b[0m \u001b[0;34m\u001b[0m\u001b[0m\n\u001b[1;32m    267\u001b[0m   \u001b[0;32mraise\u001b[0m \u001b[0mValueError\u001b[0m\u001b[0;34m(\u001b[0m\u001b[0;34m'Saved configuration not understood.'\u001b[0m\u001b[0;34m)\u001b[0m\u001b[0;34m\u001b[0m\u001b[0;34m\u001b[0m\u001b[0m\n",
      "\u001b[0;32m~/heridas/lib/python3.6/site-packages/tensorflow/python/keras/saving/saving_utils.py\u001b[0m in \u001b[0;36m<listcomp>\u001b[0;34m(.0)\u001b[0m\n\u001b[1;32m    263\u001b[0m     }\n\u001b[1;32m    264\u001b[0m   \u001b[0;32melif\u001b[0m \u001b[0misinstance\u001b[0m\u001b[0;34m(\u001b[0m\u001b[0mconfig\u001b[0m\u001b[0;34m,\u001b[0m \u001b[0;34m(\u001b[0m\u001b[0mtuple\u001b[0m\u001b[0;34m,\u001b[0m \u001b[0mlist\u001b[0m\u001b[0;34m)\u001b[0m\u001b[0;34m)\u001b[0m\u001b[0;34m:\u001b[0m\u001b[0;34m\u001b[0m\u001b[0;34m\u001b[0m\u001b[0m\n\u001b[0;32m--> 265\u001b[0;31m     \u001b[0;32mreturn\u001b[0m \u001b[0;34m[\u001b[0m\u001b[0m_deserialize_nested_config\u001b[0m\u001b[0;34m(\u001b[0m\u001b[0mdeserialize_fn\u001b[0m\u001b[0;34m,\u001b[0m \u001b[0mobj\u001b[0m\u001b[0;34m)\u001b[0m \u001b[0;32mfor\u001b[0m \u001b[0mobj\u001b[0m \u001b[0;32min\u001b[0m \u001b[0mconfig\u001b[0m\u001b[0;34m]\u001b[0m\u001b[0;34m\u001b[0m\u001b[0;34m\u001b[0m\u001b[0m\n\u001b[0m\u001b[1;32m    266\u001b[0m \u001b[0;34m\u001b[0m\u001b[0m\n\u001b[1;32m    267\u001b[0m   \u001b[0;32mraise\u001b[0m \u001b[0mValueError\u001b[0m\u001b[0;34m(\u001b[0m\u001b[0;34m'Saved configuration not understood.'\u001b[0m\u001b[0;34m)\u001b[0m\u001b[0;34m\u001b[0m\u001b[0;34m\u001b[0m\u001b[0m\n",
      "\u001b[0;32m~/heridas/lib/python3.6/site-packages/tensorflow/python/keras/saving/saving_utils.py\u001b[0m in \u001b[0;36m_deserialize_nested_config\u001b[0;34m(deserialize_fn, config)\u001b[0m\n\u001b[1;32m    256\u001b[0m     \u001b[0;32mreturn\u001b[0m \u001b[0;32mNone\u001b[0m\u001b[0;34m\u001b[0m\u001b[0;34m\u001b[0m\u001b[0m\n\u001b[1;32m    257\u001b[0m   \u001b[0;32mif\u001b[0m \u001b[0m_is_single_object\u001b[0m\u001b[0;34m(\u001b[0m\u001b[0mconfig\u001b[0m\u001b[0;34m)\u001b[0m\u001b[0;34m:\u001b[0m\u001b[0;34m\u001b[0m\u001b[0;34m\u001b[0m\u001b[0m\n\u001b[0;32m--> 258\u001b[0;31m     \u001b[0;32mreturn\u001b[0m \u001b[0mdeserialize_fn\u001b[0m\u001b[0;34m(\u001b[0m\u001b[0mconfig\u001b[0m\u001b[0;34m)\u001b[0m\u001b[0;34m\u001b[0m\u001b[0;34m\u001b[0m\u001b[0m\n\u001b[0m\u001b[1;32m    259\u001b[0m   \u001b[0;32melif\u001b[0m \u001b[0misinstance\u001b[0m\u001b[0;34m(\u001b[0m\u001b[0mconfig\u001b[0m\u001b[0;34m,\u001b[0m \u001b[0mdict\u001b[0m\u001b[0;34m)\u001b[0m\u001b[0;34m:\u001b[0m\u001b[0;34m\u001b[0m\u001b[0;34m\u001b[0m\u001b[0m\n\u001b[1;32m    260\u001b[0m     return {\n",
      "\u001b[0;32m~/heridas/lib/python3.6/site-packages/tensorflow/python/keras/saving/saving_utils.py\u001b[0m in \u001b[0;36m_deserialize_metric\u001b[0;34m(metric_config)\u001b[0m\n\u001b[1;32m    286\u001b[0m     \u001b[0;31m# case handling for these in compile, based on model output shape.\u001b[0m\u001b[0;34m\u001b[0m\u001b[0;34m\u001b[0m\u001b[0;34m\u001b[0m\u001b[0m\n\u001b[1;32m    287\u001b[0m     \u001b[0;32mreturn\u001b[0m \u001b[0mmetric_config\u001b[0m\u001b[0;34m\u001b[0m\u001b[0;34m\u001b[0m\u001b[0m\n\u001b[0;32m--> 288\u001b[0;31m   \u001b[0;32mreturn\u001b[0m \u001b[0mmetrics_module\u001b[0m\u001b[0;34m.\u001b[0m\u001b[0mdeserialize\u001b[0m\u001b[0;34m(\u001b[0m\u001b[0mmetric_config\u001b[0m\u001b[0;34m)\u001b[0m\u001b[0;34m\u001b[0m\u001b[0;34m\u001b[0m\u001b[0m\n\u001b[0m\u001b[1;32m    289\u001b[0m \u001b[0;34m\u001b[0m\u001b[0m\n\u001b[1;32m    290\u001b[0m \u001b[0;34m\u001b[0m\u001b[0m\n",
      "\u001b[0;32m~/heridas/lib/python3.6/site-packages/tensorflow/python/keras/metrics.py\u001b[0m in \u001b[0;36mdeserialize\u001b[0;34m(config, custom_objects)\u001b[0m\n\u001b[1;32m   3441\u001b[0m       \u001b[0mmodule_objects\u001b[0m\u001b[0;34m=\u001b[0m\u001b[0mglobals\u001b[0m\u001b[0;34m(\u001b[0m\u001b[0;34m)\u001b[0m\u001b[0;34m,\u001b[0m\u001b[0;34m\u001b[0m\u001b[0;34m\u001b[0m\u001b[0m\n\u001b[1;32m   3442\u001b[0m       \u001b[0mcustom_objects\u001b[0m\u001b[0;34m=\u001b[0m\u001b[0mcustom_objects\u001b[0m\u001b[0;34m,\u001b[0m\u001b[0;34m\u001b[0m\u001b[0;34m\u001b[0m\u001b[0m\n\u001b[0;32m-> 3443\u001b[0;31m       printable_module_name='metric function')\n\u001b[0m\u001b[1;32m   3444\u001b[0m \u001b[0;34m\u001b[0m\u001b[0m\n\u001b[1;32m   3445\u001b[0m \u001b[0;34m\u001b[0m\u001b[0m\n",
      "\u001b[0;32m~/heridas/lib/python3.6/site-packages/tensorflow/python/keras/utils/generic_utils.py\u001b[0m in \u001b[0;36mdeserialize_keras_object\u001b[0;34m(identifier, module_objects, custom_objects, printable_module_name)\u001b[0m\n\u001b[1;32m    376\u001b[0m       \u001b[0;32mif\u001b[0m \u001b[0mobj\u001b[0m \u001b[0;32mis\u001b[0m \u001b[0;32mNone\u001b[0m\u001b[0;34m:\u001b[0m\u001b[0;34m\u001b[0m\u001b[0;34m\u001b[0m\u001b[0m\n\u001b[1;32m    377\u001b[0m         raise ValueError(\n\u001b[0;32m--> 378\u001b[0;31m             'Unknown ' + printable_module_name + ': ' + object_name)\n\u001b[0m\u001b[1;32m    379\u001b[0m     \u001b[0;31m# Classes passed by name are instantiated with no args, functions are\u001b[0m\u001b[0;34m\u001b[0m\u001b[0;34m\u001b[0m\u001b[0;34m\u001b[0m\u001b[0m\n\u001b[1;32m    380\u001b[0m     \u001b[0;31m# returned as-is.\u001b[0m\u001b[0;34m\u001b[0m\u001b[0;34m\u001b[0m\u001b[0;34m\u001b[0m\u001b[0m\n",
      "\u001b[0;31mValueError\u001b[0m: Unknown metric function: top_2_accuracy"
     ]
    }
   ],
   "source": [
    "# Recreate the exact same model, including its weights and the optimizer\n",
    "new_model = tf.keras.models.load_model('my_model.h5')\n",
    "\n",
    "# Show the model architecture\n",
    "new_model.summary()"
   ]
  },
  {
   "cell_type": "code",
   "execution_count": 4,
   "metadata": {},
   "outputs": [
    {
     "ename": "NameError",
     "evalue": "name 'ValidAccuracy' is not defined",
     "output_type": "error",
     "traceback": [
      "\u001b[0;31m---------------------------------------------------------------------------\u001b[0m",
      "\u001b[0;31mNameError\u001b[0m                                 Traceback (most recent call last)",
      "\u001b[0;32m<ipython-input-4-69845946fd5b>\u001b[0m in \u001b[0;36m<module>\u001b[0;34m\u001b[0m\n\u001b[1;32m      1\u001b[0m dependencies = {\n\u001b[0;32m----> 2\u001b[0;31m     \u001b[0;34m'valid_accuracy'\u001b[0m\u001b[0;34m:\u001b[0m \u001b[0mValidAccuracy\u001b[0m\u001b[0;34m\u001b[0m\u001b[0;34m\u001b[0m\u001b[0m\n\u001b[0m\u001b[1;32m      3\u001b[0m }\n",
      "\u001b[0;31mNameError\u001b[0m: name 'ValidAccuracy' is not defined"
     ]
    }
   ],
   "source": [
    "dependencies = {\n",
    "    'valid_accuracy': ValidAccuracy\n",
    "}"
   ]
  },
  {
   "cell_type": "code",
   "execution_count": null,
   "metadata": {},
   "outputs": [],
   "source": []
  },
  {
   "cell_type": "code",
   "execution_count": 31,
   "metadata": {},
   "outputs": [],
   "source": [
    "acc = history.history['categorical_accuracy']\n",
    "val_acc = history.history['val_categorical_accuracy']\n",
    "loss = history.history['loss']\n",
    "val_loss = history.history['val_loss']\n",
    "train_top2_acc = history.history['top_2_accuracy']\n",
    "val_top2_acc = history.history['val_top_2_accuracy']\n",
    "train_top3_acc = history.history['top_3_accuracy']\n",
    "val_top3_acc = history.history['val_top_3_accuracy']\n",
    "epochs = range(1, len(acc) + 1)"
   ]
  },
  {
   "cell_type": "code",
   "execution_count": 32,
   "metadata": {},
   "outputs": [
    {
     "data": {
      "image/png": "[encoded data removed]",
      "text/plain": [
       "<Figure size 432x288 with 1 Axes>"
      ]
     },
     "metadata": {
      "needs_background": "light"
     },
     "output_type": "display_data"
    },
    {
     "data": {
      "text/plain": [
       "<Figure size 432x288 with 0 Axes>"
      ]
     },
     "metadata": {},
     "output_type": "display_data"
    }
   ],
   "source": [
    "plt.plot(epochs, loss, 'b', label='Training loss')\n",
    "plt.plot(epochs, val_loss, 'r', label='Validation loss')\n",
    "plt.title('Training and validation loss')\n",
    "plt.legend()\n",
    "plt.grid()\n",
    "plt.figure()\n",
    "\n",
    "plt.show ()"
   ]
  },
  {
   "cell_type": "code",
   "execution_count": 44,
   "metadata": {},
   "outputs": [
    {
     "data": {
      "image/png": "[encoded data removed]",
      "text/plain": [
       "<Figure size 432x288 with 1 Axes>"
      ]
     },
     "metadata": {
      "needs_background": "light"
     },
     "output_type": "display_data"
    },
    {
     "data": {
      "text/plain": [
       "<Figure size 432x288 with 0 Axes>"
      ]
     },
     "metadata": {},
     "output_type": "display_data"
    }
   ],
   "source": [
    "plt.plot(epochs, acc, 'b', label='Training cat acc')\n",
    "plt.plot(epochs, val_acc, 'r', label='Validation cat acc')\n",
    "plt.title('Training and validation cat accuracy')\n",
    "plt.legend()\n",
    "plt.grid ()\n",
    "plt.figure()\n",
    "\n",
    "plt.show ()"
   ]
  },
  {
   "cell_type": "code",
   "execution_count": 33,
   "metadata": {},
   "outputs": [],
   "source": [
    "test_labels = test_batches.classes"
   ]
  },
  {
   "cell_type": "code",
   "execution_count": 34,
   "metadata": {},
   "outputs": [
    {
     "data": {
      "text/plain": [
       "{'lpp': 0, 'pie': 1, 'vasculares': 2}"
      ]
     },
     "execution_count": 34,
     "metadata": {},
     "output_type": "execute_result"
    }
   ],
   "source": [
    "test_batches.class_indices"
   ]
  },
  {
   "cell_type": "code",
   "execution_count": 35,
   "metadata": {},
   "outputs": [
    {
     "name": "stdout",
     "output_type": "stream",
     "text": [
      "18/18 [==============================] - 1s 55ms/step\n"
     ]
    }
   ],
   "source": [
    "predictions = model.predict(test_batches, steps= (val_samples), verbose=1)"
   ]
  },
  {
   "cell_type": "code",
   "execution_count": 40,
   "metadata": {},
   "outputs": [],
   "source": [
    "def plot_confusion_matrix(cm, classes,\n",
    "                          normalize=False,\n",
    "                          title='Confusion matrix',\n",
    "                          cmap=plt.cm.Blues):\n",
    "   \n",
    "    if normalize:\n",
    "        cm = cm.astype('float') / cm.sum(axis=1)[:, np.newaxis]\n",
    "        print(\"Normalized confusion matrix\")\n",
    "    else:\n",
    "        print('Matriz de confusión')\n",
    "\n",
    "    print(cm)\n",
    "\n",
    "    plt.imshow(cm, interpolation='nearest', cmap=cmap)\n",
    "    plt.title(title)\n",
    "    plt.colorbar()\n",
    "    tick_marks = np.arange(len(classes))\n",
    "    plt.xticks(tick_marks, classes, rotation=45)\n",
    "    plt.yticks(tick_marks, classes)\n",
    "\n",
    "    fmt = '.2f' if normalize else 'd'\n",
    "    thresh = cm.max() / 2.\n",
    "    for i, j in itertools.product(range(cm.shape[0]), range(cm.shape[1])):\n",
    "        plt.text(j, i, format(cm[i, j], fmt),\n",
    "                 horizontalalignment=\"center\",\n",
    "                 color=\"white\" if cm[i, j] > thresh else \"black\")\n",
    "\n",
    "    plt.ylabel('Obtenidos')\n",
    "    plt.xlabel('Predichos')\n",
    "    plt.tight_layout()"
   ]
  },
  {
   "cell_type": "code",
   "execution_count": 41,
   "metadata": {},
   "outputs": [],
   "source": [
    "cm = confusion_matrix(test_labels, predictions.argmax(axis=1))"
   ]
  },
  {
   "cell_type": "code",
   "execution_count": 42,
   "metadata": {},
   "outputs": [
    {
     "name": "stdout",
     "output_type": "stream",
     "text": [
      "Matriz de confusión\n",
      "[[3 1 0]\n",
      " [0 6 0]\n",
      " [0 2 6]]\n"
     ]
    },
    {
     "data": {
      "image/png": "[encoded data removed]",
      "text/plain": [
       "<Figure size 432x288 with 2 Axes>"
      ]
     },
     "metadata": {
      "needs_background": "light"
     },
     "output_type": "display_data"
    }
   ],
   "source": [
    "cm_plot_labels = ['lpp', 'pie', 'vasculares']\n",
    "\n",
    "\n",
    "plot_confusion_matrix(cm, cm_plot_labels, title='Matriz de confusión')\n"
   ]
  },
  {
   "cell_type": "code",
   "execution_count": null,
   "metadata": {},
   "outputs": [],
   "source": []
  },
  {
   "cell_type": "code",
   "execution_count": 48,
   "metadata": {},
   "outputs": [],
   "source": [
    "# Get the index of the class with the highest probability score\n",
    "y_pred = np.argmax(predictions, axis=1)\n",
    "\n",
    "# Get the labels of the test images.\n",
    "y_true = test_batches.classes"
   ]
  },
  {
   "cell_type": "code",
   "execution_count": 49,
   "metadata": {},
   "outputs": [
    {
     "name": "stdout",
     "output_type": "stream",
     "text": [
      "              precision    recall  f1-score   support\n",
      "\n",
      "         lpp       1.00      0.75      0.86         4\n",
      "         pie       0.67      1.00      0.80         6\n",
      "  vasculares       1.00      0.75      0.86         8\n",
      "\n",
      "    accuracy                           0.83        18\n",
      "   macro avg       0.89      0.83      0.84        18\n",
      "weighted avg       0.89      0.83      0.84        18\n",
      "\n"
     ]
    }
   ],
   "source": [
    "# Generate a classification report\n",
    "report = classification_report(y_true, y_pred, target_names=cm_plot_labels)\n",
    "\n",
    "print(report)"
   ]
  },
  {
   "cell_type": "code",
   "execution_count": null,
   "metadata": {},
   "outputs": [],
   "source": []
  },
  {
   "cell_type": "code",
   "execution_count": 50,
   "metadata": {},
   "outputs": [
    {
     "ename": "ModuleNotFoundError",
     "evalue": "No module named 'tensorflowjs'",
     "output_type": "error",
     "traceback": [
      "\u001b[0;31m---------------------------------------------------------------------------\u001b[0m",
      "\u001b[0;31mModuleNotFoundError\u001b[0m                       Traceback (most recent call last)",
      "\u001b[0;32m<ipython-input-50-2cef0e890efb>\u001b[0m in \u001b[0;36m<module>\u001b[0;34m\u001b[0m\n\u001b[1;32m      3\u001b[0m \u001b[0;34m\u001b[0m\u001b[0m\n\u001b[1;32m      4\u001b[0m \u001b[0;31m# convert to Tensorflow.js\u001b[0m\u001b[0;34m\u001b[0m\u001b[0;34m\u001b[0m\u001b[0;34m\u001b[0m\u001b[0m\n\u001b[0;32m----> 5\u001b[0;31m \u001b[0;32mimport\u001b[0m \u001b[0mtensorflowjs\u001b[0m \u001b[0;32mas\u001b[0m \u001b[0mtfjs\u001b[0m\u001b[0;34m\u001b[0m\u001b[0;34m\u001b[0m\u001b[0m\n\u001b[0m\u001b[1;32m      6\u001b[0m \u001b[0;34m\u001b[0m\u001b[0m\n\u001b[1;32m      7\u001b[0m \u001b[0;31m# Error\u001b[0m\u001b[0;34m\u001b[0m\u001b[0;34m\u001b[0m\u001b[0;34m\u001b[0m\u001b[0m\n",
      "\u001b[0;31mModuleNotFoundError\u001b[0m: No module named 'tensorflowjs'"
     ]
    }
   ],
   "source": [
    "# create a directory to store the model files\n",
    "os.mkdir('tfjs_dir')\n",
    "\n",
    "# convert to Tensorflow.js\n",
    "import tensorflowjs as tfjs\n",
    "\n",
    "# Error\n",
    "# AttributeError: module 'tensorflow.python.data.ops.dataset_ops' \n",
    "    # has no attribute 'UnaryDataset'\n",
    "\n",
    "tfjs.converters.save_keras_model(model, 'tfjs_dir')"
   ]
  },
  {
   "cell_type": "code",
   "execution_count": null,
   "metadata": {},
   "outputs": [],
   "source": []
  },
  {
   "cell_type": "code",
   "execution_count": null,
   "metadata": {},
   "outputs": [],
   "source": []
  },
  {
   "cell_type": "code",
   "execution_count": null,
   "metadata": {},
   "outputs": [],
   "source": []
  },
  {
   "cell_type": "code",
   "execution_count": null,
   "metadata": {},
   "outputs": [],
   "source": []
  },
  {
   "cell_type": "code",
   "execution_count": 43,
   "metadata": {},
   "outputs": [],
   "source": [
    "def image_classify(model, pak, img, top_n=3):\n",
    "    \"\"\"Classify image and return top matches.\"\"\"\n",
    "    target_size = (224, 224)\n",
    "    if img.size != target_size:\n",
    "        img = img.resize(target_size)\n",
    "    x = image.img_to_array(img)\n",
    "    x = np.expand_dims(x, axis=0)\n",
    "    x = pak.preprocess_input(x)\n",
    "    preds = model.predict(x)\n",
    "    return pak.decode_predictions(preds, top=top_n)[0]"
   ]
  },
  {
   "cell_type": "code",
   "execution_count": 44,
   "metadata": {},
   "outputs": [],
   "source": [
    "def plot_preds(img, preds_arr):\n",
    "    \"\"\"Plot image and its prediction.\"\"\"\n",
    "    sns.set_color_codes('pastel')\n",
    "    f, axarr = plt.subplots(1, len(preds_arr) + 1, figsize=(20, 5))\n",
    "    axarr[0].imshow(img)\n",
    "    axarr[0].axis('off')\n",
    "    for i in range(len(preds_arr)):\n",
    "        _, x_label, y_label = zip(*(preds_arr[i][1]))\n",
    "        plt.subplot(1, len(preds_arr) + 1, i + 2)\n",
    "        ax = sns.barplot(np.array(y_label), np.array(x_label))\n",
    "        plt.xlim(0, 1)\n",
    "        ax.set()\n",
    "        plt.xlabel(preds_arr[i][0])\n",
    "    plt.show()"
   ]
  },
  {
   "cell_type": "code",
   "execution_count": 45,
   "metadata": {},
   "outputs": [],
   "source": [
    "def classify_and_plot(image_path):\n",
    "    \"\"\"Classify an image with model.\n",
    "    Plot it and its predicitons.\n",
    "    \"\"\"\n",
    "    img = Image.open(image_path)\n",
    "    model = image_classify(resnet_model, resnet50, img)\n",
    "    preds_arr = ('model.h5', model)\n",
    "    plot_preds(img, preds_arr)"
   ]
  },
  {
   "cell_type": "code",
   "execution_count": 47,
   "metadata": {},
   "outputs": [
    {
     "ename": "NameError",
     "evalue": "name 'Image' is not defined",
     "output_type": "error",
     "traceback": [
      "\u001b[0;31m---------------------------------------------------------------------------\u001b[0m",
      "\u001b[0;31mNameError\u001b[0m                                 Traceback (most recent call last)",
      "\u001b[0;32m<ipython-input-47-6ecf40e67819>\u001b[0m in \u001b[0;36m<module>\u001b[0;34m\u001b[0m\n\u001b[0;32m----> 1\u001b[0;31m \u001b[0mclassify_and_plot\u001b[0m\u001b[0;34m(\u001b[0m\u001b[0;34m'procesar/originales/val/vasculares/IMG_0141.JPG'\u001b[0m\u001b[0;34m)\u001b[0m\u001b[0;34m\u001b[0m\u001b[0;34m\u001b[0m\u001b[0m\n\u001b[0m",
      "\u001b[0;32m<ipython-input-45-c0ad9955c30a>\u001b[0m in \u001b[0;36mclassify_and_plot\u001b[0;34m(image_path)\u001b[0m\n\u001b[1;32m      3\u001b[0m     \u001b[0mPlot\u001b[0m \u001b[0mit\u001b[0m \u001b[0;32mand\u001b[0m \u001b[0mits\u001b[0m \u001b[0mpredicitons\u001b[0m\u001b[0;34m.\u001b[0m\u001b[0;34m\u001b[0m\u001b[0;34m\u001b[0m\u001b[0m\n\u001b[1;32m      4\u001b[0m     \"\"\"\n\u001b[0;32m----> 5\u001b[0;31m     \u001b[0mimg\u001b[0m \u001b[0;34m=\u001b[0m \u001b[0mImage\u001b[0m\u001b[0;34m.\u001b[0m\u001b[0mopen\u001b[0m\u001b[0;34m(\u001b[0m\u001b[0mimage_path\u001b[0m\u001b[0;34m)\u001b[0m\u001b[0;34m\u001b[0m\u001b[0;34m\u001b[0m\u001b[0m\n\u001b[0m\u001b[1;32m      6\u001b[0m     \u001b[0mmodel\u001b[0m \u001b[0;34m=\u001b[0m \u001b[0mimage_classify\u001b[0m\u001b[0;34m(\u001b[0m\u001b[0mresnet_model\u001b[0m\u001b[0;34m,\u001b[0m \u001b[0mresnet50\u001b[0m\u001b[0;34m,\u001b[0m \u001b[0mimg\u001b[0m\u001b[0;34m)\u001b[0m\u001b[0;34m\u001b[0m\u001b[0;34m\u001b[0m\u001b[0m\n\u001b[1;32m      7\u001b[0m     \u001b[0mpreds_arr\u001b[0m \u001b[0;34m=\u001b[0m \u001b[0;34m(\u001b[0m\u001b[0;34m'model.h5'\u001b[0m\u001b[0;34m,\u001b[0m \u001b[0mmodel\u001b[0m\u001b[0;34m)\u001b[0m\u001b[0;34m\u001b[0m\u001b[0;34m\u001b[0m\u001b[0m\n",
      "\u001b[0;31mNameError\u001b[0m: name 'Image' is not defined"
     ]
    }
   ],
   "source": [
    "classify_and_plot('procesar/originales/val/vasculares/IMG_0141.JPG')"
   ]
  },
  {
   "cell_type": "code",
   "execution_count": null,
   "metadata": {},
   "outputs": [],
   "source": []
  }
 ],
 "metadata": {
  "kernelspec": {
   "display_name": "dani",
   "language": "python",
   "name": "dani"
  },
  "language_info": {
   "codemirror_mode": {
    "name": "ipython",
    "version": 3
   },
   "file_extension": ".py",
   "mimetype": "text/x-python",
   "name": "python",
   "nbconvert_exporter": "python",
   "pygments_lexer": "ipython3",
   "version": "3.6.9"
  }
 },
 "nbformat": 4,
 "nbformat_minor": 4
}
