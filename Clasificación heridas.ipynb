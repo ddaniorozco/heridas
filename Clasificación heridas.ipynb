{
 "cells": [
  {
   "cell_type": "code",
   "execution_count": 7,
   "metadata": {},
   "outputs": [],
   "source": [
    "from numpy.random import seed\n",
    "seed(101)\n",
    "import tensorflow\n",
    "tensorflow.random.set_seed(101)"
   ]
  },
  {
   "cell_type": "code",
   "execution_count": 8,
   "metadata": {},
   "outputs": [],
   "source": [
    "import numpy as np\n",
    "import pandas as pd\n",
    "\n",
    "import tensorflow as tf\n",
    "from tensorflow.keras.layers import Dense, Dropout\n",
    "from tensorflow.keras.optimizers import Adam\n",
    "from tensorflow.keras.metrics import categorical_crossentropy\n",
    "from tensorflow.keras.preprocessing.image import ImageDataGenerator\n",
    "from tensorflow.keras.models import Model\n",
    "from tensorflow.keras.callbacks import EarlyStopping, ReduceLROnPlateau, ModelCheckpoint\n",
    "from tensorflow.keras.metrics import categorical_accuracy, top_k_categorical_accuracy\n",
    "\n",
    "import os\n",
    "\n",
    "from sklearn.metrics import confusion_matrix\n",
    "from sklearn.model_selection import train_test_split\n",
    "from sklearn.metrics import classification_report\n",
    "import itertools\n",
    "import shutil\n",
    "import matplotlib.pyplot as plt\n",
    "%matplotlib inline\n",
    "import seaborn as sns"
   ]
  },
  {
   "cell_type": "code",
   "execution_count": 9,
   "metadata": {},
   "outputs": [
    {
     "data": {
      "text/plain": [
       "['ImagenesAProcesar-20200727T214422Z-001.zip',\n",
       " 'Proyecto CNN Heridas.odp',\n",
       " 'Venosas',\n",
       " 'my_model.h5',\n",
       " 'procesar',\n",
       " 'Pioderma Gangrenoso',\n",
       " 'Heridas.ipynb',\n",
       " '.ipynb_checkpoints',\n",
       " 'Arteriales',\n",
       " 'MARTORELL',\n",
       " 'Clasificación heridas.ipynb',\n",
       " 'Untitled.ipynb',\n",
       " 'Untitled1.ipynb']"
      ]
     },
     "execution_count": 9,
     "metadata": {},
     "output_type": "execute_result"
    }
   ],
   "source": [
    "os.listdir ('../Heridas')"
   ]
  },
  {
   "cell_type": "code",
   "execution_count": 10,
   "metadata": {},
   "outputs": [
    {
     "name": "stdout",
     "output_type": "stream",
     "text": [
      "19\n",
      "25\n",
      "42\n"
     ]
    }
   ],
   "source": [
    "print(len(os.listdir('procesar/originales/train/lpp')))\n",
    "print(len(os.listdir('procesar/originales/train/pie')))\n",
    "print(len(os.listdir('procesar/originales/train/vasculares')))"
   ]
  },
  {
   "cell_type": "code",
   "execution_count": 14,
   "metadata": {},
   "outputs": [
    {
     "name": "stdout",
     "output_type": "stream",
     "text": [
      "209\n",
      "275\n",
      "462\n"
     ]
    }
   ],
   "source": [
    "print(len(os.listdir('procesar/originales/train/lpp')))\n",
    "print(len(os.listdir('procesar/originales/train/pie')))\n",
    "print(len(os.listdir('procesar/originales/train/vasculares')))"
   ]
  },
  {
   "cell_type": "code",
   "execution_count": 4,
   "metadata": {},
   "outputs": [
    {
     "name": "stdout",
     "output_type": "stream",
     "text": [
      "4\n",
      "6\n",
      "8\n"
     ]
    }
   ],
   "source": [
    "print(len(os.listdir('procesar/originales/val/lpp')))\n",
    "print(len(os.listdir('procesar/originales/val/pie')))\n",
    "print(len(os.listdir('procesar/originales/val/vasculares')))"
   ]
  },
  {
   "cell_type": "code",
   "execution_count": 12,
   "metadata": {},
   "outputs": [],
   "source": [
    "# Crear un directorio para las categorias que hago augmentation\n",
    "\n",
    "\n",
    "categorias = ['lpp','pie','vasculares']"
   ]
  },
  {
   "cell_type": "code",
   "execution_count": 13,
   "metadata": {},
   "outputs": [
    {
     "name": "stdout",
     "output_type": "stream",
     "text": [
      "Found 19 images belonging to 1 classes.\n",
      "Found 25 images belonging to 1 classes.\n",
      "Found 42 images belonging to 1 classes.\n"
     ]
    }
   ],
   "source": [
    "for categoria in categorias:\n",
    "    \n",
    "    \n",
    "    aug_dir = 'aug_dir'\n",
    "    os.mkdir(aug_dir)\n",
    "    img_dir = os.path.join(aug_dir, 'img_dir')\n",
    "    os.mkdir(img_dir)\n",
    "\n",
    "    img_class = categoria\n",
    "\n",
    "    img_list = os.listdir('procesar/originales/train/' + img_class)\n",
    "\n",
    "    for fname in img_list:\n",
    "            src = os.path.join('procesar/originales/train/' + img_class, fname)\n",
    "            dst = os.path.join(img_dir, fname)\n",
    "            shutil.copyfile(src, dst)\n",
    "\n",
    "    path = aug_dir\n",
    "    save_path = 'procesar/originales/train/' + img_class\n",
    "\n",
    "    datagen = ImageDataGenerator(\n",
    "        rotation_range=180,\n",
    "        width_shift_range=0.1,\n",
    "        height_shift_range=0.1,\n",
    "        zoom_range=0.1,\n",
    "        horizontal_flip=True,\n",
    "        vertical_flip=True,\n",
    "        fill_mode='nearest')\n",
    "\n",
    "    batch_size = 50\n",
    "\n",
    "    aug_datagen = datagen.flow_from_directory(path,\n",
    "                                           save_to_dir=save_path,\n",
    "                                           save_format='jpg',\n",
    "                                                    target_size=(224,224),\n",
    "                                                    batch_size=batch_size)\n",
    "\n",
    "\n",
    "    num_aug_images_wanted = 500 \n",
    "    num_files = len(os.listdir(img_dir))\n",
    "    num_batches = int(np.ceil((num_aug_images_wanted-num_files)/batch_size))\n",
    "\n",
    "    for i in range(0,num_batches):\n",
    "        imgs, labels = next(aug_datagen)\n",
    "        \n",
    "    shutil.rmtree('aug_dir')"
   ]
  },
  {
   "cell_type": "code",
   "execution_count": 10,
   "metadata": {},
   "outputs": [],
   "source": [
    "train_path = 'procesar/originales/train'\n",
    "val_path = 'procesar/originales/val'"
   ]
  },
  {
   "cell_type": "code",
   "execution_count": 11,
   "metadata": {},
   "outputs": [],
   "source": [
    "train_samples = 946\n",
    "val_samples = 18"
   ]
  },
  {
   "cell_type": "code",
   "execution_count": 12,
   "metadata": {},
   "outputs": [],
   "source": [
    "train_batch_size = 10\n",
    "val_batch_size = 10\n",
    "image_size = 224"
   ]
  },
  {
   "cell_type": "code",
   "execution_count": 13,
   "metadata": {},
   "outputs": [],
   "source": [
    "train_steps = np.ceil (train_samples / train_batch_size)\n",
    "val_steps = np.ceil (val_samples / val_batch_size)"
   ]
  },
  {
   "cell_type": "code",
   "execution_count": 14,
   "metadata": {},
   "outputs": [],
   "source": [
    "datagen = ImageDataGenerator(\n",
    "    preprocessing_function= \\\n",
    "    tensorflow.keras.applications.mobilenet.preprocess_input)"
   ]
  },
  {
   "cell_type": "code",
   "execution_count": 15,
   "metadata": {},
   "outputs": [
    {
     "name": "stdout",
     "output_type": "stream",
     "text": [
      "Found 946 images belonging to 3 classes.\n"
     ]
    }
   ],
   "source": [
    "train_batches = datagen.flow_from_directory(train_path,\n",
    "                                            target_size=(image_size,image_size),\n",
    "                                            batch_size=train_batch_size)"
   ]
  },
  {
   "cell_type": "code",
   "execution_count": 16,
   "metadata": {},
   "outputs": [
    {
     "name": "stdout",
     "output_type": "stream",
     "text": [
      "Found 18 images belonging to 3 classes.\n"
     ]
    }
   ],
   "source": [
    "valid_batches = datagen.flow_from_directory(val_path,\n",
    "                                            target_size=(image_size,image_size),\n",
    "                                            batch_size=val_batch_size)"
   ]
  },
  {
   "cell_type": "code",
   "execution_count": 17,
   "metadata": {},
   "outputs": [
    {
     "name": "stdout",
     "output_type": "stream",
     "text": [
      "Found 18 images belonging to 3 classes.\n"
     ]
    }
   ],
   "source": [
    "test_batches = datagen.flow_from_directory(val_path,\n",
    "                                            target_size=(image_size,image_size),\n",
    "                                            batch_size=1,\n",
    "                                            shuffle=False)"
   ]
  },
  {
   "cell_type": "code",
   "execution_count": null,
   "metadata": {},
   "outputs": [],
   "source": []
  },
  {
   "cell_type": "code",
   "execution_count": null,
   "metadata": {},
   "outputs": [],
   "source": []
  },
  {
   "cell_type": "code",
   "execution_count": null,
   "metadata": {},
   "outputs": [],
   "source": []
  },
  {
   "cell_type": "code",
   "execution_count": 18,
   "metadata": {},
   "outputs": [],
   "source": [
    "mobile_net = tensorflow.keras.applications.mobilenet.MobileNet()"
   ]
  },
  {
   "cell_type": "code",
   "execution_count": 19,
   "metadata": {},
   "outputs": [
    {
     "data": {
      "text/plain": [
       "93"
      ]
     },
     "execution_count": 19,
     "metadata": {},
     "output_type": "execute_result"
    }
   ],
   "source": [
    "len (mobile_net.layers)"
   ]
  },
  {
   "cell_type": "code",
   "execution_count": 20,
   "metadata": {},
   "outputs": [],
   "source": [
    "# Arquitectura del modelo\n",
    "\n",
    "# Excluir las ultimas 5 capas del modelo\n",
    "# Incluye hasta global_average_pooling2d\n",
    "\n",
    "x = mobile_net.layers [-6].output\n",
    "\n",
    "# Crear una nueva capa densa para predicciones. 3 categorías\n",
    "\n",
    "x = Dropout (0.25)(x) # Dropout reduce el overfitting al train\n",
    "\n",
    "predictions = Dense (3, activation = 'softmax')(x)\n",
    "\n",
    "model = Model (inputs = mobile_net.input, outputs = predictions)"
   ]
  },
  {
   "cell_type": "code",
   "execution_count": 18,
   "metadata": {},
   "outputs": [
    {
     "name": "stdout",
     "output_type": "stream",
     "text": [
      "Model: \"model\"\n",
      "_________________________________________________________________\n",
      "Layer (type)                 Output Shape              Param #   \n",
      "=================================================================\n",
      "input_1 (InputLayer)         [(None, 224, 224, 3)]     0         \n",
      "_________________________________________________________________\n",
      "conv1_pad (ZeroPadding2D)    (None, 225, 225, 3)       0         \n",
      "_________________________________________________________________\n",
      "conv1 (Conv2D)               (None, 112, 112, 32)      864       \n",
      "_________________________________________________________________\n",
      "conv1_bn (BatchNormalization (None, 112, 112, 32)      128       \n",
      "_________________________________________________________________\n",
      "conv1_relu (ReLU)            (None, 112, 112, 32)      0         \n",
      "_________________________________________________________________\n",
      "conv_dw_1 (DepthwiseConv2D)  (None, 112, 112, 32)      288       \n",
      "_________________________________________________________________\n",
      "conv_dw_1_bn (BatchNormaliza (None, 112, 112, 32)      128       \n",
      "_________________________________________________________________\n",
      "conv_dw_1_relu (ReLU)        (None, 112, 112, 32)      0         \n",
      "_________________________________________________________________\n",
      "conv_pw_1 (Conv2D)           (None, 112, 112, 64)      2048      \n",
      "_________________________________________________________________\n",
      "conv_pw_1_bn (BatchNormaliza (None, 112, 112, 64)      256       \n",
      "_________________________________________________________________\n",
      "conv_pw_1_relu (ReLU)        (None, 112, 112, 64)      0         \n",
      "_________________________________________________________________\n",
      "conv_pad_2 (ZeroPadding2D)   (None, 113, 113, 64)      0         \n",
      "_________________________________________________________________\n",
      "conv_dw_2 (DepthwiseConv2D)  (None, 56, 56, 64)        576       \n",
      "_________________________________________________________________\n",
      "conv_dw_2_bn (BatchNormaliza (None, 56, 56, 64)        256       \n",
      "_________________________________________________________________\n",
      "conv_dw_2_relu (ReLU)        (None, 56, 56, 64)        0         \n",
      "_________________________________________________________________\n",
      "conv_pw_2 (Conv2D)           (None, 56, 56, 128)       8192      \n",
      "_________________________________________________________________\n",
      "conv_pw_2_bn (BatchNormaliza (None, 56, 56, 128)       512       \n",
      "_________________________________________________________________\n",
      "conv_pw_2_relu (ReLU)        (None, 56, 56, 128)       0         \n",
      "_________________________________________________________________\n",
      "conv_dw_3 (DepthwiseConv2D)  (None, 56, 56, 128)       1152      \n",
      "_________________________________________________________________\n",
      "conv_dw_3_bn (BatchNormaliza (None, 56, 56, 128)       512       \n",
      "_________________________________________________________________\n",
      "conv_dw_3_relu (ReLU)        (None, 56, 56, 128)       0         \n",
      "_________________________________________________________________\n",
      "conv_pw_3 (Conv2D)           (None, 56, 56, 128)       16384     \n",
      "_________________________________________________________________\n",
      "conv_pw_3_bn (BatchNormaliza (None, 56, 56, 128)       512       \n",
      "_________________________________________________________________\n",
      "conv_pw_3_relu (ReLU)        (None, 56, 56, 128)       0         \n",
      "_________________________________________________________________\n",
      "conv_pad_4 (ZeroPadding2D)   (None, 57, 57, 128)       0         \n",
      "_________________________________________________________________\n",
      "conv_dw_4 (DepthwiseConv2D)  (None, 28, 28, 128)       1152      \n",
      "_________________________________________________________________\n",
      "conv_dw_4_bn (BatchNormaliza (None, 28, 28, 128)       512       \n",
      "_________________________________________________________________\n",
      "conv_dw_4_relu (ReLU)        (None, 28, 28, 128)       0         \n",
      "_________________________________________________________________\n",
      "conv_pw_4 (Conv2D)           (None, 28, 28, 256)       32768     \n",
      "_________________________________________________________________\n",
      "conv_pw_4_bn (BatchNormaliza (None, 28, 28, 256)       1024      \n",
      "_________________________________________________________________\n",
      "conv_pw_4_relu (ReLU)        (None, 28, 28, 256)       0         \n",
      "_________________________________________________________________\n",
      "conv_dw_5 (DepthwiseConv2D)  (None, 28, 28, 256)       2304      \n",
      "_________________________________________________________________\n",
      "conv_dw_5_bn (BatchNormaliza (None, 28, 28, 256)       1024      \n",
      "_________________________________________________________________\n",
      "conv_dw_5_relu (ReLU)        (None, 28, 28, 256)       0         \n",
      "_________________________________________________________________\n",
      "conv_pw_5 (Conv2D)           (None, 28, 28, 256)       65536     \n",
      "_________________________________________________________________\n",
      "conv_pw_5_bn (BatchNormaliza (None, 28, 28, 256)       1024      \n",
      "_________________________________________________________________\n",
      "conv_pw_5_relu (ReLU)        (None, 28, 28, 256)       0         \n",
      "_________________________________________________________________\n",
      "conv_pad_6 (ZeroPadding2D)   (None, 29, 29, 256)       0         \n",
      "_________________________________________________________________\n",
      "conv_dw_6 (DepthwiseConv2D)  (None, 14, 14, 256)       2304      \n",
      "_________________________________________________________________\n",
      "conv_dw_6_bn (BatchNormaliza (None, 14, 14, 256)       1024      \n",
      "_________________________________________________________________\n",
      "conv_dw_6_relu (ReLU)        (None, 14, 14, 256)       0         \n",
      "_________________________________________________________________\n",
      "conv_pw_6 (Conv2D)           (None, 14, 14, 512)       131072    \n",
      "_________________________________________________________________\n",
      "conv_pw_6_bn (BatchNormaliza (None, 14, 14, 512)       2048      \n",
      "_________________________________________________________________\n",
      "conv_pw_6_relu (ReLU)        (None, 14, 14, 512)       0         \n",
      "_________________________________________________________________\n",
      "conv_dw_7 (DepthwiseConv2D)  (None, 14, 14, 512)       4608      \n",
      "_________________________________________________________________\n",
      "conv_dw_7_bn (BatchNormaliza (None, 14, 14, 512)       2048      \n",
      "_________________________________________________________________\n",
      "conv_dw_7_relu (ReLU)        (None, 14, 14, 512)       0         \n",
      "_________________________________________________________________\n",
      "conv_pw_7 (Conv2D)           (None, 14, 14, 512)       262144    \n",
      "_________________________________________________________________\n",
      "conv_pw_7_bn (BatchNormaliza (None, 14, 14, 512)       2048      \n",
      "_________________________________________________________________\n",
      "conv_pw_7_relu (ReLU)        (None, 14, 14, 512)       0         \n",
      "_________________________________________________________________\n",
      "conv_dw_8 (DepthwiseConv2D)  (None, 14, 14, 512)       4608      \n",
      "_________________________________________________________________\n",
      "conv_dw_8_bn (BatchNormaliza (None, 14, 14, 512)       2048      \n",
      "_________________________________________________________________\n",
      "conv_dw_8_relu (ReLU)        (None, 14, 14, 512)       0         \n",
      "_________________________________________________________________\n",
      "conv_pw_8 (Conv2D)           (None, 14, 14, 512)       262144    \n",
      "_________________________________________________________________\n",
      "conv_pw_8_bn (BatchNormaliza (None, 14, 14, 512)       2048      \n",
      "_________________________________________________________________\n",
      "conv_pw_8_relu (ReLU)        (None, 14, 14, 512)       0         \n",
      "_________________________________________________________________\n",
      "conv_dw_9 (DepthwiseConv2D)  (None, 14, 14, 512)       4608      \n",
      "_________________________________________________________________\n",
      "conv_dw_9_bn (BatchNormaliza (None, 14, 14, 512)       2048      \n",
      "_________________________________________________________________\n",
      "conv_dw_9_relu (ReLU)        (None, 14, 14, 512)       0         \n",
      "_________________________________________________________________\n",
      "conv_pw_9 (Conv2D)           (None, 14, 14, 512)       262144    \n",
      "_________________________________________________________________\n",
      "conv_pw_9_bn (BatchNormaliza (None, 14, 14, 512)       2048      \n",
      "_________________________________________________________________\n",
      "conv_pw_9_relu (ReLU)        (None, 14, 14, 512)       0         \n",
      "_________________________________________________________________\n",
      "conv_dw_10 (DepthwiseConv2D) (None, 14, 14, 512)       4608      \n",
      "_________________________________________________________________\n",
      "conv_dw_10_bn (BatchNormaliz (None, 14, 14, 512)       2048      \n",
      "_________________________________________________________________\n",
      "conv_dw_10_relu (ReLU)       (None, 14, 14, 512)       0         \n",
      "_________________________________________________________________\n",
      "conv_pw_10 (Conv2D)          (None, 14, 14, 512)       262144    \n",
      "_________________________________________________________________\n",
      "conv_pw_10_bn (BatchNormaliz (None, 14, 14, 512)       2048      \n",
      "_________________________________________________________________\n",
      "conv_pw_10_relu (ReLU)       (None, 14, 14, 512)       0         \n",
      "_________________________________________________________________\n",
      "conv_dw_11 (DepthwiseConv2D) (None, 14, 14, 512)       4608      \n",
      "_________________________________________________________________\n",
      "conv_dw_11_bn (BatchNormaliz (None, 14, 14, 512)       2048      \n",
      "_________________________________________________________________\n",
      "conv_dw_11_relu (ReLU)       (None, 14, 14, 512)       0         \n",
      "_________________________________________________________________\n",
      "conv_pw_11 (Conv2D)          (None, 14, 14, 512)       262144    \n",
      "_________________________________________________________________\n",
      "conv_pw_11_bn (BatchNormaliz (None, 14, 14, 512)       2048      \n",
      "_________________________________________________________________\n",
      "conv_pw_11_relu (ReLU)       (None, 14, 14, 512)       0         \n",
      "_________________________________________________________________\n",
      "conv_pad_12 (ZeroPadding2D)  (None, 15, 15, 512)       0         \n",
      "_________________________________________________________________\n",
      "conv_dw_12 (DepthwiseConv2D) (None, 7, 7, 512)         4608      \n",
      "_________________________________________________________________\n",
      "conv_dw_12_bn (BatchNormaliz (None, 7, 7, 512)         2048      \n",
      "_________________________________________________________________\n",
      "conv_dw_12_relu (ReLU)       (None, 7, 7, 512)         0         \n",
      "_________________________________________________________________\n",
      "conv_pw_12 (Conv2D)          (None, 7, 7, 1024)        524288    \n",
      "_________________________________________________________________\n",
      "conv_pw_12_bn (BatchNormaliz (None, 7, 7, 1024)        4096      \n",
      "_________________________________________________________________\n",
      "conv_pw_12_relu (ReLU)       (None, 7, 7, 1024)        0         \n",
      "_________________________________________________________________\n",
      "conv_dw_13 (DepthwiseConv2D) (None, 7, 7, 1024)        9216      \n",
      "_________________________________________________________________\n",
      "conv_dw_13_bn (BatchNormaliz (None, 7, 7, 1024)        4096      \n",
      "_________________________________________________________________\n",
      "conv_dw_13_relu (ReLU)       (None, 7, 7, 1024)        0         \n",
      "_________________________________________________________________\n",
      "conv_pw_13 (Conv2D)          (None, 7, 7, 1024)        1048576   \n",
      "_________________________________________________________________\n",
      "conv_pw_13_bn (BatchNormaliz (None, 7, 7, 1024)        4096      \n",
      "_________________________________________________________________\n",
      "conv_pw_13_relu (ReLU)       (None, 7, 7, 1024)        0         \n",
      "_________________________________________________________________\n",
      "global_average_pooling2d (Gl (None, 1024)              0         \n",
      "_________________________________________________________________\n",
      "dropout (Dropout)            (None, 1024)              0         \n",
      "_________________________________________________________________\n",
      "dense (Dense)                (None, 3)                 3075      \n",
      "=================================================================\n",
      "Total params: 3,231,939\n",
      "Trainable params: 3,210,051\n",
      "Non-trainable params: 21,888\n",
      "_________________________________________________________________\n"
     ]
    }
   ],
   "source": [
    "model.summary ()"
   ]
  },
  {
   "cell_type": "code",
   "execution_count": 21,
   "metadata": {},
   "outputs": [
    {
     "data": {
      "text/plain": [
       "90"
      ]
     },
     "execution_count": 21,
     "metadata": {},
     "output_type": "execute_result"
    }
   ],
   "source": [
    "len (model.layers)"
   ]
  },
  {
   "cell_type": "code",
   "execution_count": 22,
   "metadata": {},
   "outputs": [],
   "source": [
    "# Elección de capas a ser entrenadas, las ultimas 23\n",
    "\n",
    "# Las demas no se entrenan\n",
    "\n",
    "for layer in mobile_net.layers [:-23]:\n",
    "    layer.trainable = False"
   ]
  },
  {
   "cell_type": "code",
   "execution_count": 5,
   "metadata": {},
   "outputs": [],
   "source": [
    "def top_2_accuracy(y_true, y_pred):\n",
    "    return top_k_categorical_accuracy(y_true, y_pred, k=2)\n",
    "    \n",
    "def top_3_accuracy(y_true, y_pred):\n",
    "    return top_k_categorical_accuracy(y_true, y_pred, k=3)"
   ]
  },
  {
   "cell_type": "code",
   "execution_count": 25,
   "metadata": {},
   "outputs": [],
   "source": [
    "model.compile(Adam(lr=0.01), loss='categorical_crossentropy', \n",
    "              metrics=[categorical_accuracy])"
   ]
  },
  {
   "cell_type": "code",
   "execution_count": 26,
   "metadata": {},
   "outputs": [
    {
     "name": "stdout",
     "output_type": "stream",
     "text": [
      "{'lpp': 0, 'pie': 1, 'vasculares': 2}\n"
     ]
    }
   ],
   "source": [
    "print(valid_batches.class_indices)"
   ]
  },
  {
   "cell_type": "code",
   "execution_count": 27,
   "metadata": {},
   "outputs": [],
   "source": [
    "class_weights={\n",
    "    0: 2.0, # lpp\n",
    "    1: 1.0, # pie\n",
    "    2: 1.0, # vasculares    \n",
    "}"
   ]
  },
  {
   "cell_type": "code",
   "execution_count": 28,
   "metadata": {},
   "outputs": [
    {
     "name": "stdout",
     "output_type": "stream",
     "text": [
      "Epoch 1/75\n",
      "95/95 [==============================] - ETA: 0s - loss: 0.9361 - categorical_accuracy: 0.8615\n",
      "Epoch 00001: val_loss improved from -inf to 36.53821, saving model to model.h5\n",
      "95/95 [==============================] - 51s 535ms/step - loss: 0.9361 - categorical_accuracy: 0.8615 - val_loss: 36.5382 - val_categorical_accuracy: 0.4444\n",
      "Epoch 2/75\n",
      "95/95 [==============================] - ETA: 0s - loss: 0.4705 - categorical_accuracy: 0.9101\n",
      "Epoch 00002: val_loss did not improve from 36.53821\n",
      "95/95 [==============================] - 50s 527ms/step - loss: 0.4705 - categorical_accuracy: 0.9101 - val_loss: 5.1268 - val_categorical_accuracy: 0.6667\n",
      "Epoch 3/75\n",
      "95/95 [==============================] - ETA: 0s - loss: 0.2233 - categorical_accuracy: 0.9514\n",
      "Epoch 00003: val_loss did not improve from 36.53821\n",
      "\n",
      "Epoch 00003: ReduceLROnPlateau reducing learning rate to 0.004999999888241291.\n",
      "95/95 [==============================] - 50s 527ms/step - loss: 0.2233 - categorical_accuracy: 0.9514 - val_loss: 7.0823 - val_categorical_accuracy: 0.7222\n",
      "Epoch 4/75\n",
      "95/95 [==============================] - ETA: 0s - loss: 0.0922 - categorical_accuracy: 0.9757\n",
      "Epoch 00004: val_loss did not improve from 36.53821\n",
      "95/95 [==============================] - 51s 532ms/step - loss: 0.0922 - categorical_accuracy: 0.9757 - val_loss: 6.0956 - val_categorical_accuracy: 0.6111\n",
      "Epoch 5/75\n",
      "95/95 [==============================] - ETA: 0s - loss: 0.0825 - categorical_accuracy: 0.9841\n",
      "Epoch 00005: val_loss did not improve from 36.53821\n",
      "\n",
      "Epoch 00005: ReduceLROnPlateau reducing learning rate to 0.0024999999441206455.\n",
      "95/95 [==============================] - 50s 531ms/step - loss: 0.0825 - categorical_accuracy: 0.9841 - val_loss: 0.5912 - val_categorical_accuracy: 0.9444\n",
      "Epoch 6/75\n",
      "95/95 [==============================] - ETA: 0s - loss: 0.0835 - categorical_accuracy: 0.9873\n",
      "Epoch 00006: val_loss did not improve from 36.53821\n",
      "95/95 [==============================] - 51s 533ms/step - loss: 0.0835 - categorical_accuracy: 0.9873 - val_loss: 0.5506 - val_categorical_accuracy: 0.8889\n",
      "Epoch 7/75\n",
      "95/95 [==============================] - ETA: 0s - loss: 0.0147 - categorical_accuracy: 0.9968\n",
      "Epoch 00007: val_loss did not improve from 36.53821\n",
      "\n",
      "Epoch 00007: ReduceLROnPlateau reducing learning rate to 0.0012499999720603228.\n",
      "95/95 [==============================] - 50s 531ms/step - loss: 0.0147 - categorical_accuracy: 0.9968 - val_loss: 0.5101 - val_categorical_accuracy: 0.8889\n",
      "Epoch 8/75\n",
      "95/95 [==============================] - ETA: 0s - loss: 0.0132 - categorical_accuracy: 0.9958\n",
      "Epoch 00008: val_loss did not improve from 36.53821\n",
      "95/95 [==============================] - 51s 533ms/step - loss: 0.0132 - categorical_accuracy: 0.9958 - val_loss: 0.7330 - val_categorical_accuracy: 0.9444\n",
      "Epoch 9/75\n",
      "95/95 [==============================] - ETA: 0s - loss: 0.0054 - categorical_accuracy: 0.9979\n",
      "Epoch 00009: val_loss did not improve from 36.53821\n",
      "\n",
      "Epoch 00009: ReduceLROnPlateau reducing learning rate to 0.0006249999860301614.\n",
      "95/95 [==============================] - 50s 530ms/step - loss: 0.0054 - categorical_accuracy: 0.9979 - val_loss: 0.6094 - val_categorical_accuracy: 0.9444\n",
      "Epoch 10/75\n",
      "95/95 [==============================] - ETA: 0s - loss: 0.0113 - categorical_accuracy: 0.9968\n",
      "Epoch 00010: val_loss did not improve from 36.53821\n",
      "95/95 [==============================] - 51s 532ms/step - loss: 0.0113 - categorical_accuracy: 0.9968 - val_loss: 0.6839 - val_categorical_accuracy: 0.9444\n",
      "Epoch 11/75\n",
      "95/95 [==============================] - ETA: 0s - loss: 0.0039 - categorical_accuracy: 0.9989\n",
      "Epoch 00011: val_loss did not improve from 36.53821\n",
      "\n",
      "Epoch 00011: ReduceLROnPlateau reducing learning rate to 0.0003124999930150807.\n",
      "95/95 [==============================] - 51s 538ms/step - loss: 0.0039 - categorical_accuracy: 0.9989 - val_loss: 0.7131 - val_categorical_accuracy: 0.9444\n",
      "Epoch 12/75\n",
      "95/95 [==============================] - ETA: 0s - loss: 0.0078 - categorical_accuracy: 0.9979\n",
      "Epoch 00012: val_loss did not improve from 36.53821\n",
      "95/95 [==============================] - 52s 544ms/step - loss: 0.0078 - categorical_accuracy: 0.9979 - val_loss: 0.6793 - val_categorical_accuracy: 0.9444\n",
      "Epoch 13/75\n",
      "95/95 [==============================] - ETA: 0s - loss: 0.0250 - categorical_accuracy: 0.9937\n",
      "Epoch 00013: val_loss did not improve from 36.53821\n",
      "\n",
      "Epoch 00013: ReduceLROnPlateau reducing learning rate to 0.00015624999650754035.\n",
      "95/95 [==============================] - 52s 544ms/step - loss: 0.0250 - categorical_accuracy: 0.9937 - val_loss: 0.5982 - val_categorical_accuracy: 0.9444\n",
      "Epoch 14/75\n",
      "95/95 [==============================] - ETA: 0s - loss: 0.0113 - categorical_accuracy: 0.9968\n",
      "Epoch 00014: val_loss did not improve from 36.53821\n",
      "95/95 [==============================] - 51s 540ms/step - loss: 0.0113 - categorical_accuracy: 0.9968 - val_loss: 0.6187 - val_categorical_accuracy: 0.9444\n",
      "Epoch 15/75\n",
      "95/95 [==============================] - ETA: 0s - loss: 0.0028 - categorical_accuracy: 1.0000\n",
      "Epoch 00015: val_loss did not improve from 36.53821\n",
      "\n",
      "Epoch 00015: ReduceLROnPlateau reducing learning rate to 7.812499825377017e-05.\n",
      "95/95 [==============================] - 52s 549ms/step - loss: 0.0028 - categorical_accuracy: 1.0000 - val_loss: 0.6121 - val_categorical_accuracy: 0.9444\n",
      "Epoch 16/75\n",
      "95/95 [==============================] - ETA: 0s - loss: 0.0087 - categorical_accuracy: 0.9979\n",
      "Epoch 00016: val_loss did not improve from 36.53821\n",
      "95/95 [==============================] - 52s 551ms/step - loss: 0.0087 - categorical_accuracy: 0.9979 - val_loss: 0.6232 - val_categorical_accuracy: 0.9444\n",
      "Epoch 17/75\n",
      "95/95 [==============================] - ETA: 0s - loss: 0.0098 - categorical_accuracy: 0.9968\n",
      "Epoch 00017: val_loss did not improve from 36.53821\n",
      "\n",
      "Epoch 00017: ReduceLROnPlateau reducing learning rate to 3.9062499126885086e-05.\n",
      "95/95 [==============================] - 52s 544ms/step - loss: 0.0098 - categorical_accuracy: 0.9968 - val_loss: 0.6252 - val_categorical_accuracy: 0.9444\n",
      "Epoch 18/75\n",
      "95/95 [==============================] - ETA: 0s - loss: 0.0191 - categorical_accuracy: 0.9968\n",
      "Epoch 00018: val_loss did not improve from 36.53821\n",
      "95/95 [==============================] - 52s 546ms/step - loss: 0.0191 - categorical_accuracy: 0.9968 - val_loss: 0.6226 - val_categorical_accuracy: 0.9444\n",
      "Epoch 19/75\n",
      "95/95 [==============================] - ETA: 0s - loss: 0.0574 - categorical_accuracy: 0.9968\n",
      "Epoch 00019: val_loss did not improve from 36.53821\n",
      "\n",
      "Epoch 00019: ReduceLROnPlateau reducing learning rate to 1.9531249563442543e-05.\n",
      "95/95 [==============================] - 54s 568ms/step - loss: 0.0574 - categorical_accuracy: 0.9968 - val_loss: 0.6295 - val_categorical_accuracy: 0.9444\n",
      "Epoch 20/75\n",
      "95/95 [==============================] - ETA: 0s - loss: 0.0019 - categorical_accuracy: 1.0000\n",
      "Epoch 00020: val_loss did not improve from 36.53821\n",
      "95/95 [==============================] - 52s 548ms/step - loss: 0.0019 - categorical_accuracy: 1.0000 - val_loss: 0.6254 - val_categorical_accuracy: 0.9444\n",
      "Epoch 21/75\n",
      "95/95 [==============================] - ETA: 0s - loss: 0.0085 - categorical_accuracy: 0.9979\n",
      "Epoch 00021: val_loss did not improve from 36.53821\n",
      "\n",
      "Epoch 00021: ReduceLROnPlateau reducing learning rate to 1e-05.\n",
      "95/95 [==============================] - 51s 539ms/step - loss: 0.0085 - categorical_accuracy: 0.9979 - val_loss: 0.6346 - val_categorical_accuracy: 0.9444\n",
      "Epoch 22/75\n",
      "95/95 [==============================] - ETA: 0s - loss: 0.0569 - categorical_accuracy: 0.9958\n",
      "Epoch 00022: val_loss did not improve from 36.53821\n",
      "95/95 [==============================] - 51s 538ms/step - loss: 0.0569 - categorical_accuracy: 0.9958 - val_loss: 0.6423 - val_categorical_accuracy: 0.9444\n",
      "Epoch 23/75\n",
      "95/95 [==============================] - ETA: 0s - loss: 0.0051 - categorical_accuracy: 0.9989\n",
      "Epoch 00023: val_loss did not improve from 36.53821\n",
      "95/95 [==============================] - 51s 538ms/step - loss: 0.0051 - categorical_accuracy: 0.9989 - val_loss: 0.6407 - val_categorical_accuracy: 0.9444\n",
      "Epoch 24/75\n",
      "95/95 [==============================] - ETA: 0s - loss: 0.0070 - categorical_accuracy: 0.9979\n",
      "Epoch 00024: val_loss did not improve from 36.53821\n",
      "95/95 [==============================] - 51s 540ms/step - loss: 0.0070 - categorical_accuracy: 0.9979 - val_loss: 0.6497 - val_categorical_accuracy: 0.9444\n"
     ]
    },
    {
     "name": "stdout",
     "output_type": "stream",
     "text": [
      "Epoch 25/75\n",
      "95/95 [==============================] - ETA: 0s - loss: 0.0036 - categorical_accuracy: 1.0000\n",
      "Epoch 00025: val_loss did not improve from 36.53821\n",
      "95/95 [==============================] - 51s 536ms/step - loss: 0.0036 - categorical_accuracy: 1.0000 - val_loss: 0.6409 - val_categorical_accuracy: 0.9444\n",
      "Epoch 26/75\n",
      "95/95 [==============================] - ETA: 0s - loss: 0.0168 - categorical_accuracy: 0.9968\n",
      "Epoch 00026: val_loss did not improve from 36.53821\n",
      "95/95 [==============================] - 51s 537ms/step - loss: 0.0168 - categorical_accuracy: 0.9968 - val_loss: 0.6398 - val_categorical_accuracy: 0.9444\n",
      "Epoch 27/75\n",
      "95/95 [==============================] - ETA: 0s - loss: 0.0038 - categorical_accuracy: 1.0000\n",
      "Epoch 00027: val_loss did not improve from 36.53821\n",
      "95/95 [==============================] - 51s 534ms/step - loss: 0.0038 - categorical_accuracy: 1.0000 - val_loss: 0.6313 - val_categorical_accuracy: 0.9444\n",
      "Epoch 28/75\n",
      "95/95 [==============================] - ETA: 0s - loss: 0.0048 - categorical_accuracy: 0.9989\n",
      "Epoch 00028: val_loss did not improve from 36.53821\n",
      "95/95 [==============================] - 51s 536ms/step - loss: 0.0048 - categorical_accuracy: 0.9989 - val_loss: 0.6279 - val_categorical_accuracy: 0.9444\n",
      "Epoch 29/75\n",
      "95/95 [==============================] - ETA: 0s - loss: 0.0478 - categorical_accuracy: 0.9979\n",
      "Epoch 00029: val_loss did not improve from 36.53821\n",
      "95/95 [==============================] - 51s 537ms/step - loss: 0.0478 - categorical_accuracy: 0.9979 - val_loss: 0.6129 - val_categorical_accuracy: 0.9444\n",
      "Epoch 30/75\n",
      "95/95 [==============================] - ETA: 0s - loss: 0.0066 - categorical_accuracy: 0.9979\n",
      "Epoch 00030: val_loss did not improve from 36.53821\n",
      "95/95 [==============================] - 51s 538ms/step - loss: 0.0066 - categorical_accuracy: 0.9979 - val_loss: 0.6389 - val_categorical_accuracy: 0.9444\n",
      "Epoch 31/75\n",
      "95/95 [==============================] - ETA: 0s - loss: 0.0177 - categorical_accuracy: 0.9958\n",
      "Epoch 00031: val_loss did not improve from 36.53821\n",
      "95/95 [==============================] - 51s 534ms/step - loss: 0.0177 - categorical_accuracy: 0.9958 - val_loss: 0.6404 - val_categorical_accuracy: 0.9444\n",
      "Epoch 32/75\n",
      "95/95 [==============================] - ETA: 0s - loss: 0.0025 - categorical_accuracy: 1.0000\n",
      "Epoch 00032: val_loss did not improve from 36.53821\n",
      "95/95 [==============================] - 51s 538ms/step - loss: 0.0025 - categorical_accuracy: 1.0000 - val_loss: 0.6426 - val_categorical_accuracy: 0.9444\n",
      "Epoch 33/75\n",
      "95/95 [==============================] - ETA: 0s - loss: 0.0242 - categorical_accuracy: 0.9989\n",
      "Epoch 00033: val_loss did not improve from 36.53821\n",
      "95/95 [==============================] - 51s 536ms/step - loss: 0.0242 - categorical_accuracy: 0.9989 - val_loss: 0.6338 - val_categorical_accuracy: 0.9444\n",
      "Epoch 34/75\n",
      "95/95 [==============================] - ETA: 0s - loss: 0.0056 - categorical_accuracy: 0.9979\n",
      "Epoch 00034: val_loss did not improve from 36.53821\n",
      "95/95 [==============================] - 51s 537ms/step - loss: 0.0056 - categorical_accuracy: 0.9979 - val_loss: 0.6318 - val_categorical_accuracy: 0.9444\n",
      "Epoch 35/75\n",
      "95/95 [==============================] - ETA: 0s - loss: 0.0068 - categorical_accuracy: 0.9979\n",
      "Epoch 00035: val_loss did not improve from 36.53821\n",
      "95/95 [==============================] - 51s 536ms/step - loss: 0.0068 - categorical_accuracy: 0.9979 - val_loss: 0.6313 - val_categorical_accuracy: 0.9444\n",
      "Epoch 36/75\n",
      "95/95 [==============================] - ETA: 0s - loss: 0.0112 - categorical_accuracy: 0.9968\n",
      "Epoch 00036: val_loss did not improve from 36.53821\n",
      "95/95 [==============================] - 51s 537ms/step - loss: 0.0112 - categorical_accuracy: 0.9968 - val_loss: 0.6315 - val_categorical_accuracy: 0.9444\n",
      "Epoch 37/75\n",
      "95/95 [==============================] - ETA: 0s - loss: 0.0063 - categorical_accuracy: 0.9989\n",
      "Epoch 00037: val_loss did not improve from 36.53821\n",
      "95/95 [==============================] - 51s 539ms/step - loss: 0.0063 - categorical_accuracy: 0.9989 - val_loss: 0.6350 - val_categorical_accuracy: 0.9444\n",
      "Epoch 38/75\n",
      "95/95 [==============================] - ETA: 0s - loss: 0.0555 - categorical_accuracy: 0.9968\n",
      "Epoch 00038: val_loss did not improve from 36.53821\n",
      "95/95 [==============================] - 51s 539ms/step - loss: 0.0555 - categorical_accuracy: 0.9968 - val_loss: 0.6271 - val_categorical_accuracy: 0.9444\n",
      "Epoch 39/75\n",
      "95/95 [==============================] - ETA: 0s - loss: 0.0022 - categorical_accuracy: 1.0000\n",
      "Epoch 00039: val_loss did not improve from 36.53821\n",
      "95/95 [==============================] - 51s 538ms/step - loss: 0.0022 - categorical_accuracy: 1.0000 - val_loss: 0.6313 - val_categorical_accuracy: 0.9444\n",
      "Epoch 40/75\n",
      "95/95 [==============================] - ETA: 0s - loss: 0.0028 - categorical_accuracy: 1.0000\n",
      "Epoch 00040: val_loss did not improve from 36.53821\n",
      "95/95 [==============================] - 51s 536ms/step - loss: 0.0028 - categorical_accuracy: 1.0000 - val_loss: 0.6374 - val_categorical_accuracy: 0.9444\n",
      "Epoch 41/75\n",
      "95/95 [==============================] - ETA: 0s - loss: 0.0040 - categorical_accuracy: 1.0000\n",
      "Epoch 00041: val_loss did not improve from 36.53821\n",
      "95/95 [==============================] - 51s 540ms/step - loss: 0.0040 - categorical_accuracy: 1.0000 - val_loss: 0.6280 - val_categorical_accuracy: 0.9444\n",
      "Epoch 42/75\n",
      "95/95 [==============================] - ETA: 0s - loss: 0.0032 - categorical_accuracy: 1.0000\n",
      "Epoch 00042: val_loss did not improve from 36.53821\n",
      "95/95 [==============================] - 51s 542ms/step - loss: 0.0032 - categorical_accuracy: 1.0000 - val_loss: 0.6364 - val_categorical_accuracy: 0.9444\n",
      "Epoch 43/75\n",
      "95/95 [==============================] - ETA: 0s - loss: 0.0080 - categorical_accuracy: 0.9979\n",
      "Epoch 00043: val_loss did not improve from 36.53821\n",
      "95/95 [==============================] - 51s 537ms/step - loss: 0.0080 - categorical_accuracy: 0.9979 - val_loss: 0.6231 - val_categorical_accuracy: 0.9444\n",
      "Epoch 44/75\n",
      "95/95 [==============================] - ETA: 0s - loss: 0.0682 - categorical_accuracy: 0.9979\n",
      "Epoch 00044: val_loss did not improve from 36.53821\n",
      "95/95 [==============================] - 51s 538ms/step - loss: 0.0682 - categorical_accuracy: 0.9979 - val_loss: 0.6220 - val_categorical_accuracy: 0.9444\n",
      "Epoch 45/75\n",
      "95/95 [==============================] - ETA: 0s - loss: 0.0079 - categorical_accuracy: 0.9989\n",
      "Epoch 00045: val_loss did not improve from 36.53821\n",
      "95/95 [==============================] - 51s 538ms/step - loss: 0.0079 - categorical_accuracy: 0.9989 - val_loss: 0.6134 - val_categorical_accuracy: 0.9444\n",
      "Epoch 46/75\n",
      "95/95 [==============================] - ETA: 0s - loss: 0.0073 - categorical_accuracy: 0.9968\n",
      "Epoch 00046: val_loss did not improve from 36.53821\n",
      "95/95 [==============================] - 51s 537ms/step - loss: 0.0073 - categorical_accuracy: 0.9968 - val_loss: 0.6203 - val_categorical_accuracy: 0.9444\n",
      "Epoch 47/75\n",
      "95/95 [==============================] - ETA: 0s - loss: 0.0139 - categorical_accuracy: 0.9968\n",
      "Epoch 00047: val_loss did not improve from 36.53821\n",
      "95/95 [==============================] - 51s 538ms/step - loss: 0.0139 - categorical_accuracy: 0.9968 - val_loss: 0.6195 - val_categorical_accuracy: 0.9444\n",
      "Epoch 48/75\n",
      "95/95 [==============================] - ETA: 0s - loss: 0.0138 - categorical_accuracy: 0.9968\n",
      "Epoch 00048: val_loss did not improve from 36.53821\n",
      "95/95 [==============================] - 51s 538ms/step - loss: 0.0138 - categorical_accuracy: 0.9968 - val_loss: 0.6321 - val_categorical_accuracy: 0.9444\n",
      "Epoch 49/75\n",
      "95/95 [==============================] - ETA: 0s - loss: 0.0387 - categorical_accuracy: 0.9958\n",
      "Epoch 00049: val_loss did not improve from 36.53821\n",
      "95/95 [==============================] - 51s 539ms/step - loss: 0.0387 - categorical_accuracy: 0.9958 - val_loss: 0.6317 - val_categorical_accuracy: 0.9444\n",
      "Epoch 50/75\n",
      "95/95 [==============================] - ETA: 0s - loss: 0.0023 - categorical_accuracy: 1.0000\n",
      "Epoch 00050: val_loss did not improve from 36.53821\n",
      "95/95 [==============================] - 51s 542ms/step - loss: 0.0023 - categorical_accuracy: 1.0000 - val_loss: 0.6231 - val_categorical_accuracy: 0.9444\n",
      "Epoch 51/75\n"
     ]
    },
    {
     "name": "stdout",
     "output_type": "stream",
     "text": [
      "95/95 [==============================] - ETA: 0s - loss: 0.0194 - categorical_accuracy: 0.9937\n",
      "Epoch 00051: val_loss did not improve from 36.53821\n",
      "95/95 [==============================] - 52s 549ms/step - loss: 0.0194 - categorical_accuracy: 0.9937 - val_loss: 0.6284 - val_categorical_accuracy: 0.9444\n",
      "Epoch 52/75\n",
      "95/95 [==============================] - ETA: 0s - loss: 0.0126 - categorical_accuracy: 0.9958\n",
      "Epoch 00052: val_loss did not improve from 36.53821\n",
      "95/95 [==============================] - 51s 535ms/step - loss: 0.0126 - categorical_accuracy: 0.9958 - val_loss: 0.6491 - val_categorical_accuracy: 0.9444\n",
      "Epoch 53/75\n",
      "95/95 [==============================] - ETA: 0s - loss: 0.0037 - categorical_accuracy: 0.9989\n",
      "Epoch 00053: val_loss did not improve from 36.53821\n",
      "95/95 [==============================] - 51s 537ms/step - loss: 0.0037 - categorical_accuracy: 0.9989 - val_loss: 0.6368 - val_categorical_accuracy: 0.9444\n",
      "Epoch 54/75\n",
      "95/95 [==============================] - ETA: 0s - loss: 0.0759 - categorical_accuracy: 0.9937\n",
      "Epoch 00054: val_loss did not improve from 36.53821\n",
      "95/95 [==============================] - 51s 536ms/step - loss: 0.0759 - categorical_accuracy: 0.9937 - val_loss: 0.6312 - val_categorical_accuracy: 0.9444\n",
      "Epoch 55/75\n",
      "95/95 [==============================] - ETA: 0s - loss: 0.0034 - categorical_accuracy: 0.9989\n",
      "Epoch 00055: val_loss did not improve from 36.53821\n",
      "95/95 [==============================] - 51s 539ms/step - loss: 0.0034 - categorical_accuracy: 0.9989 - val_loss: 0.6220 - val_categorical_accuracy: 0.9444\n",
      "Epoch 56/75\n",
      "95/95 [==============================] - ETA: 0s - loss: 0.0119 - categorical_accuracy: 0.9968\n",
      "Epoch 00056: val_loss did not improve from 36.53821\n",
      "95/95 [==============================] - 51s 536ms/step - loss: 0.0119 - categorical_accuracy: 0.9968 - val_loss: 0.6340 - val_categorical_accuracy: 0.9444\n",
      "Epoch 57/75\n",
      "95/95 [==============================] - ETA: 0s - loss: 0.0018 - categorical_accuracy: 1.0000\n",
      "Epoch 00057: val_loss did not improve from 36.53821\n",
      "95/95 [==============================] - 51s 538ms/step - loss: 0.0018 - categorical_accuracy: 1.0000 - val_loss: 0.6252 - val_categorical_accuracy: 0.9444\n",
      "Epoch 58/75\n",
      "95/95 [==============================] - ETA: 0s - loss: 0.0203 - categorical_accuracy: 0.9989\n",
      "Epoch 00058: val_loss did not improve from 36.53821\n",
      "95/95 [==============================] - 51s 537ms/step - loss: 0.0203 - categorical_accuracy: 0.9989 - val_loss: 0.6125 - val_categorical_accuracy: 0.9444\n",
      "Epoch 59/75\n",
      "95/95 [==============================] - ETA: 0s - loss: 0.0019 - categorical_accuracy: 1.0000\n",
      "Epoch 00059: val_loss did not improve from 36.53821\n",
      "95/95 [==============================] - 51s 542ms/step - loss: 0.0019 - categorical_accuracy: 1.0000 - val_loss: 0.6230 - val_categorical_accuracy: 0.9444\n",
      "Epoch 60/75\n",
      "95/95 [==============================] - ETA: 0s - loss: 0.0065 - categorical_accuracy: 0.9979\n",
      "Epoch 00060: val_loss did not improve from 36.53821\n",
      "95/95 [==============================] - 51s 537ms/step - loss: 0.0065 - categorical_accuracy: 0.9979 - val_loss: 0.6244 - val_categorical_accuracy: 0.9444\n",
      "Epoch 61/75\n",
      "95/95 [==============================] - ETA: 0s - loss: 8.1010e-04 - categorical_accuracy: 1.0000\n",
      "Epoch 00061: val_loss did not improve from 36.53821\n",
      "95/95 [==============================] - 53s 553ms/step - loss: 8.1010e-04 - categorical_accuracy: 1.0000 - val_loss: 0.6101 - val_categorical_accuracy: 0.9444\n",
      "Epoch 62/75\n",
      "95/95 [==============================] - ETA: 0s - loss: 0.0126 - categorical_accuracy: 0.9989\n",
      "Epoch 00062: val_loss did not improve from 36.53821\n",
      "95/95 [==============================] - 51s 536ms/step - loss: 0.0126 - categorical_accuracy: 0.9989 - val_loss: 0.6020 - val_categorical_accuracy: 0.9444\n",
      "Epoch 63/75\n",
      "95/95 [==============================] - ETA: 0s - loss: 0.0054 - categorical_accuracy: 0.9979\n",
      "Epoch 00063: val_loss did not improve from 36.53821\n",
      "95/95 [==============================] - 51s 536ms/step - loss: 0.0054 - categorical_accuracy: 0.9979 - val_loss: 0.5982 - val_categorical_accuracy: 0.9444\n",
      "Epoch 64/75\n",
      "95/95 [==============================] - ETA: 0s - loss: 0.0115 - categorical_accuracy: 0.9979\n",
      "Epoch 00064: val_loss did not improve from 36.53821\n",
      "95/95 [==============================] - 52s 542ms/step - loss: 0.0115 - categorical_accuracy: 0.9979 - val_loss: 0.6152 - val_categorical_accuracy: 0.9444\n",
      "Epoch 65/75\n",
      "95/95 [==============================] - ETA: 0s - loss: 0.0060 - categorical_accuracy: 0.9989\n",
      "Epoch 00065: val_loss did not improve from 36.53821\n",
      "95/95 [==============================] - 51s 537ms/step - loss: 0.0060 - categorical_accuracy: 0.9989 - val_loss: 0.5980 - val_categorical_accuracy: 0.9444\n",
      "Epoch 66/75\n",
      "95/95 [==============================] - ETA: 0s - loss: 0.0065 - categorical_accuracy: 0.9979\n",
      "Epoch 00066: val_loss did not improve from 36.53821\n",
      "95/95 [==============================] - 51s 538ms/step - loss: 0.0065 - categorical_accuracy: 0.9979 - val_loss: 0.5990 - val_categorical_accuracy: 0.9444\n",
      "Epoch 67/75\n",
      "95/95 [==============================] - ETA: 0s - loss: 0.0485 - categorical_accuracy: 0.9937\n",
      "Epoch 00067: val_loss did not improve from 36.53821\n",
      "95/95 [==============================] - 51s 540ms/step - loss: 0.0485 - categorical_accuracy: 0.9937 - val_loss: 0.5976 - val_categorical_accuracy: 0.9444\n",
      "Epoch 68/75\n",
      "95/95 [==============================] - ETA: 0s - loss: 0.0032 - categorical_accuracy: 1.0000\n",
      "Epoch 00068: val_loss did not improve from 36.53821\n",
      "95/95 [==============================] - 51s 538ms/step - loss: 0.0032 - categorical_accuracy: 1.0000 - val_loss: 0.6117 - val_categorical_accuracy: 0.9444\n",
      "Epoch 69/75\n",
      "95/95 [==============================] - ETA: 0s - loss: 0.0029 - categorical_accuracy: 1.0000\n",
      "Epoch 00069: val_loss did not improve from 36.53821\n",
      "95/95 [==============================] - 51s 537ms/step - loss: 0.0029 - categorical_accuracy: 1.0000 - val_loss: 0.6018 - val_categorical_accuracy: 0.9444\n",
      "Epoch 70/75\n",
      "95/95 [==============================] - ETA: 0s - loss: 0.0031 - categorical_accuracy: 0.9989\n",
      "Epoch 00070: val_loss did not improve from 36.53821\n",
      "95/95 [==============================] - 51s 536ms/step - loss: 0.0031 - categorical_accuracy: 0.9989 - val_loss: 0.6087 - val_categorical_accuracy: 0.9444\n",
      "Epoch 71/75\n",
      "95/95 [==============================] - ETA: 0s - loss: 0.0082 - categorical_accuracy: 0.9979\n",
      "Epoch 00071: val_loss did not improve from 36.53821\n",
      "95/95 [==============================] - 51s 537ms/step - loss: 0.0082 - categorical_accuracy: 0.9979 - val_loss: 0.6246 - val_categorical_accuracy: 0.9444\n",
      "Epoch 72/75\n",
      "95/95 [==============================] - ETA: 0s - loss: 0.0030 - categorical_accuracy: 1.0000\n",
      "Epoch 00072: val_loss did not improve from 36.53821\n",
      "95/95 [==============================] - 51s 539ms/step - loss: 0.0030 - categorical_accuracy: 1.0000 - val_loss: 0.6162 - val_categorical_accuracy: 0.9444\n",
      "Epoch 73/75\n",
      "95/95 [==============================] - ETA: 0s - loss: 0.0057 - categorical_accuracy: 0.9979\n",
      "Epoch 00073: val_loss did not improve from 36.53821\n",
      "95/95 [==============================] - 52s 548ms/step - loss: 0.0057 - categorical_accuracy: 0.9979 - val_loss: 0.6050 - val_categorical_accuracy: 0.9444\n",
      "Epoch 74/75\n",
      "95/95 [==============================] - ETA: 0s - loss: 0.0241 - categorical_accuracy: 0.9926\n",
      "Epoch 00074: val_loss did not improve from 36.53821\n",
      "95/95 [==============================] - 51s 538ms/step - loss: 0.0241 - categorical_accuracy: 0.9926 - val_loss: 0.6060 - val_categorical_accuracy: 0.9444\n",
      "Epoch 75/75\n",
      "95/95 [==============================] - ETA: 0s - loss: 0.0101 - categorical_accuracy: 0.9979\n",
      "Epoch 00075: val_loss did not improve from 36.53821\n",
      "95/95 [==============================] - 51s 538ms/step - loss: 0.0101 - categorical_accuracy: 0.9979 - val_loss: 0.5993 - val_categorical_accuracy: 0.9444\n"
     ]
    }
   ],
   "source": [
    "#checkpoint_path = \"training_1/cp.ckpt\"\n",
    "#checkpoint_dir = os.path.dirname(checkpoint_path)\n",
    "\n",
    "filepath = \"model.h5\"\n",
    "checkpoint = ModelCheckpoint(filepath, verbose=1, \n",
    "                             save_best_only=True, mode='max')\n",
    "\n",
    "reduce_lr = ReduceLROnPlateau(factor=0.5, patience=2, \n",
    "                                   verbose=1, mode='max', min_lr=0.00001)\n",
    "                              \n",
    "                              \n",
    "callbacks_list = [checkpoint, reduce_lr]\n",
    "\n",
    "history = model.fit(train_batches, steps_per_epoch=train_steps, \n",
    "                              class_weight=class_weights,\n",
    "                    validation_data=valid_batches,\n",
    "                    validation_steps=val_steps,\n",
    "                    epochs=75, verbose=1,\n",
    "                   callbacks=callbacks_list)\n",
    "\n",
    "\n",
    "model.save('my_model.h5') "
   ]
  },
  {
   "cell_type": "code",
   "execution_count": 69,
   "metadata": {},
   "outputs": [
    {
     "name": "stdout",
     "output_type": "stream",
     "text": [
      "Model: \"functional_1\"\n",
      "_________________________________________________________________\n",
      "Layer (type)                 Output Shape              Param #   \n",
      "=================================================================\n",
      "input_1 (InputLayer)         [(None, 224, 224, 3)]     0         \n",
      "_________________________________________________________________\n",
      "conv1_pad (ZeroPadding2D)    (None, 225, 225, 3)       0         \n",
      "_________________________________________________________________\n",
      "conv1 (Conv2D)               (None, 112, 112, 32)      864       \n",
      "_________________________________________________________________\n",
      "conv1_bn (BatchNormalization (None, 112, 112, 32)      128       \n",
      "_________________________________________________________________\n",
      "conv1_relu (ReLU)            (None, 112, 112, 32)      0         \n",
      "_________________________________________________________________\n",
      "conv_dw_1 (DepthwiseConv2D)  (None, 112, 112, 32)      288       \n",
      "_________________________________________________________________\n",
      "conv_dw_1_bn (BatchNormaliza (None, 112, 112, 32)      128       \n",
      "_________________________________________________________________\n",
      "conv_dw_1_relu (ReLU)        (None, 112, 112, 32)      0         \n",
      "_________________________________________________________________\n",
      "conv_pw_1 (Conv2D)           (None, 112, 112, 64)      2048      \n",
      "_________________________________________________________________\n",
      "conv_pw_1_bn (BatchNormaliza (None, 112, 112, 64)      256       \n",
      "_________________________________________________________________\n",
      "conv_pw_1_relu (ReLU)        (None, 112, 112, 64)      0         \n",
      "_________________________________________________________________\n",
      "conv_pad_2 (ZeroPadding2D)   (None, 113, 113, 64)      0         \n",
      "_________________________________________________________________\n",
      "conv_dw_2 (DepthwiseConv2D)  (None, 56, 56, 64)        576       \n",
      "_________________________________________________________________\n",
      "conv_dw_2_bn (BatchNormaliza (None, 56, 56, 64)        256       \n",
      "_________________________________________________________________\n",
      "conv_dw_2_relu (ReLU)        (None, 56, 56, 64)        0         \n",
      "_________________________________________________________________\n",
      "conv_pw_2 (Conv2D)           (None, 56, 56, 128)       8192      \n",
      "_________________________________________________________________\n",
      "conv_pw_2_bn (BatchNormaliza (None, 56, 56, 128)       512       \n",
      "_________________________________________________________________\n",
      "conv_pw_2_relu (ReLU)        (None, 56, 56, 128)       0         \n",
      "_________________________________________________________________\n",
      "conv_dw_3 (DepthwiseConv2D)  (None, 56, 56, 128)       1152      \n",
      "_________________________________________________________________\n",
      "conv_dw_3_bn (BatchNormaliza (None, 56, 56, 128)       512       \n",
      "_________________________________________________________________\n",
      "conv_dw_3_relu (ReLU)        (None, 56, 56, 128)       0         \n",
      "_________________________________________________________________\n",
      "conv_pw_3 (Conv2D)           (None, 56, 56, 128)       16384     \n",
      "_________________________________________________________________\n",
      "conv_pw_3_bn (BatchNormaliza (None, 56, 56, 128)       512       \n",
      "_________________________________________________________________\n",
      "conv_pw_3_relu (ReLU)        (None, 56, 56, 128)       0         \n",
      "_________________________________________________________________\n",
      "conv_pad_4 (ZeroPadding2D)   (None, 57, 57, 128)       0         \n",
      "_________________________________________________________________\n",
      "conv_dw_4 (DepthwiseConv2D)  (None, 28, 28, 128)       1152      \n",
      "_________________________________________________________________\n",
      "conv_dw_4_bn (BatchNormaliza (None, 28, 28, 128)       512       \n",
      "_________________________________________________________________\n",
      "conv_dw_4_relu (ReLU)        (None, 28, 28, 128)       0         \n",
      "_________________________________________________________________\n",
      "conv_pw_4 (Conv2D)           (None, 28, 28, 256)       32768     \n",
      "_________________________________________________________________\n",
      "conv_pw_4_bn (BatchNormaliza (None, 28, 28, 256)       1024      \n",
      "_________________________________________________________________\n",
      "conv_pw_4_relu (ReLU)        (None, 28, 28, 256)       0         \n",
      "_________________________________________________________________\n",
      "conv_dw_5 (DepthwiseConv2D)  (None, 28, 28, 256)       2304      \n",
      "_________________________________________________________________\n",
      "conv_dw_5_bn (BatchNormaliza (None, 28, 28, 256)       1024      \n",
      "_________________________________________________________________\n",
      "conv_dw_5_relu (ReLU)        (None, 28, 28, 256)       0         \n",
      "_________________________________________________________________\n",
      "conv_pw_5 (Conv2D)           (None, 28, 28, 256)       65536     \n",
      "_________________________________________________________________\n",
      "conv_pw_5_bn (BatchNormaliza (None, 28, 28, 256)       1024      \n",
      "_________________________________________________________________\n",
      "conv_pw_5_relu (ReLU)        (None, 28, 28, 256)       0         \n",
      "_________________________________________________________________\n",
      "conv_pad_6 (ZeroPadding2D)   (None, 29, 29, 256)       0         \n",
      "_________________________________________________________________\n",
      "conv_dw_6 (DepthwiseConv2D)  (None, 14, 14, 256)       2304      \n",
      "_________________________________________________________________\n",
      "conv_dw_6_bn (BatchNormaliza (None, 14, 14, 256)       1024      \n",
      "_________________________________________________________________\n",
      "conv_dw_6_relu (ReLU)        (None, 14, 14, 256)       0         \n",
      "_________________________________________________________________\n",
      "conv_pw_6 (Conv2D)           (None, 14, 14, 512)       131072    \n",
      "_________________________________________________________________\n",
      "conv_pw_6_bn (BatchNormaliza (None, 14, 14, 512)       2048      \n",
      "_________________________________________________________________\n",
      "conv_pw_6_relu (ReLU)        (None, 14, 14, 512)       0         \n",
      "_________________________________________________________________\n",
      "conv_dw_7 (DepthwiseConv2D)  (None, 14, 14, 512)       4608      \n",
      "_________________________________________________________________\n",
      "conv_dw_7_bn (BatchNormaliza (None, 14, 14, 512)       2048      \n",
      "_________________________________________________________________\n",
      "conv_dw_7_relu (ReLU)        (None, 14, 14, 512)       0         \n",
      "_________________________________________________________________\n",
      "conv_pw_7 (Conv2D)           (None, 14, 14, 512)       262144    \n",
      "_________________________________________________________________\n",
      "conv_pw_7_bn (BatchNormaliza (None, 14, 14, 512)       2048      \n",
      "_________________________________________________________________\n",
      "conv_pw_7_relu (ReLU)        (None, 14, 14, 512)       0         \n",
      "_________________________________________________________________\n",
      "conv_dw_8 (DepthwiseConv2D)  (None, 14, 14, 512)       4608      \n",
      "_________________________________________________________________\n",
      "conv_dw_8_bn (BatchNormaliza (None, 14, 14, 512)       2048      \n",
      "_________________________________________________________________\n",
      "conv_dw_8_relu (ReLU)        (None, 14, 14, 512)       0         \n",
      "_________________________________________________________________\n",
      "conv_pw_8 (Conv2D)           (None, 14, 14, 512)       262144    \n",
      "_________________________________________________________________\n",
      "conv_pw_8_bn (BatchNormaliza (None, 14, 14, 512)       2048      \n",
      "_________________________________________________________________\n",
      "conv_pw_8_relu (ReLU)        (None, 14, 14, 512)       0         \n",
      "_________________________________________________________________\n",
      "conv_dw_9 (DepthwiseConv2D)  (None, 14, 14, 512)       4608      \n",
      "_________________________________________________________________\n",
      "conv_dw_9_bn (BatchNormaliza (None, 14, 14, 512)       2048      \n",
      "_________________________________________________________________\n",
      "conv_dw_9_relu (ReLU)        (None, 14, 14, 512)       0         \n",
      "_________________________________________________________________\n",
      "conv_pw_9 (Conv2D)           (None, 14, 14, 512)       262144    \n",
      "_________________________________________________________________\n",
      "conv_pw_9_bn (BatchNormaliza (None, 14, 14, 512)       2048      \n",
      "_________________________________________________________________\n",
      "conv_pw_9_relu (ReLU)        (None, 14, 14, 512)       0         \n",
      "_________________________________________________________________\n",
      "conv_dw_10 (DepthwiseConv2D) (None, 14, 14, 512)       4608      \n",
      "_________________________________________________________________\n",
      "conv_dw_10_bn (BatchNormaliz (None, 14, 14, 512)       2048      \n",
      "_________________________________________________________________\n",
      "conv_dw_10_relu (ReLU)       (None, 14, 14, 512)       0         \n",
      "_________________________________________________________________\n",
      "conv_pw_10 (Conv2D)          (None, 14, 14, 512)       262144    \n",
      "_________________________________________________________________\n",
      "conv_pw_10_bn (BatchNormaliz (None, 14, 14, 512)       2048      \n",
      "_________________________________________________________________\n",
      "conv_pw_10_relu (ReLU)       (None, 14, 14, 512)       0         \n",
      "_________________________________________________________________\n",
      "conv_dw_11 (DepthwiseConv2D) (None, 14, 14, 512)       4608      \n",
      "_________________________________________________________________\n",
      "conv_dw_11_bn (BatchNormaliz (None, 14, 14, 512)       2048      \n",
      "_________________________________________________________________\n",
      "conv_dw_11_relu (ReLU)       (None, 14, 14, 512)       0         \n",
      "_________________________________________________________________\n",
      "conv_pw_11 (Conv2D)          (None, 14, 14, 512)       262144    \n",
      "_________________________________________________________________\n",
      "conv_pw_11_bn (BatchNormaliz (None, 14, 14, 512)       2048      \n",
      "_________________________________________________________________\n",
      "conv_pw_11_relu (ReLU)       (None, 14, 14, 512)       0         \n",
      "_________________________________________________________________\n",
      "conv_pad_12 (ZeroPadding2D)  (None, 15, 15, 512)       0         \n",
      "_________________________________________________________________\n",
      "conv_dw_12 (DepthwiseConv2D) (None, 7, 7, 512)         4608      \n",
      "_________________________________________________________________\n",
      "conv_dw_12_bn (BatchNormaliz (None, 7, 7, 512)         2048      \n",
      "_________________________________________________________________\n",
      "conv_dw_12_relu (ReLU)       (None, 7, 7, 512)         0         \n",
      "_________________________________________________________________\n",
      "conv_pw_12 (Conv2D)          (None, 7, 7, 1024)        524288    \n",
      "_________________________________________________________________\n",
      "conv_pw_12_bn (BatchNormaliz (None, 7, 7, 1024)        4096      \n",
      "_________________________________________________________________\n",
      "conv_pw_12_relu (ReLU)       (None, 7, 7, 1024)        0         \n",
      "_________________________________________________________________\n",
      "conv_dw_13 (DepthwiseConv2D) (None, 7, 7, 1024)        9216      \n",
      "_________________________________________________________________\n",
      "conv_dw_13_bn (BatchNormaliz (None, 7, 7, 1024)        4096      \n",
      "_________________________________________________________________\n",
      "conv_dw_13_relu (ReLU)       (None, 7, 7, 1024)        0         \n",
      "_________________________________________________________________\n",
      "conv_pw_13 (Conv2D)          (None, 7, 7, 1024)        1048576   \n",
      "_________________________________________________________________\n",
      "conv_pw_13_bn (BatchNormaliz (None, 7, 7, 1024)        4096      \n",
      "_________________________________________________________________\n",
      "conv_pw_13_relu (ReLU)       (None, 7, 7, 1024)        0         \n",
      "_________________________________________________________________\n",
      "global_average_pooling2d (Gl (None, 1024)              0         \n",
      "_________________________________________________________________\n",
      "dropout (Dropout)            (None, 1024)              0         \n",
      "_________________________________________________________________\n",
      "dense (Dense)                (None, 3)                 3075      \n",
      "=================================================================\n",
      "Total params: 3,231,939\n",
      "Trainable params: 1,860,099\n",
      "Non-trainable params: 1,371,840\n",
      "_________________________________________________________________\n"
     ]
    }
   ],
   "source": [
    "# Recreate the exact same model, including its weights and the optimizer\n",
    "heridas_model = tf.keras.models.load_model('my_model.h5')\n",
    "\n",
    "# Show the model architecture\n",
    "heridas_model.summary()"
   ]
  },
  {
   "cell_type": "code",
   "execution_count": 30,
   "metadata": {},
   "outputs": [],
   "source": [
    "#dependencies = {\n",
    "#    'valid_accuracy': ValidAccuracy\n",
    "#}"
   ]
  },
  {
   "cell_type": "code",
   "execution_count": 31,
   "metadata": {},
   "outputs": [
    {
     "ename": "KeyError",
     "evalue": "'top_2_accuracy'",
     "output_type": "error",
     "traceback": [
      "\u001b[0;31m---------------------------------------------------------------------------\u001b[0m",
      "\u001b[0;31mKeyError\u001b[0m                                  Traceback (most recent call last)",
      "\u001b[0;32m<ipython-input-31-97ab4393a236>\u001b[0m in \u001b[0;36m<module>\u001b[0;34m\u001b[0m\n\u001b[1;32m      3\u001b[0m \u001b[0mloss\u001b[0m \u001b[0;34m=\u001b[0m \u001b[0mhistory\u001b[0m\u001b[0;34m.\u001b[0m\u001b[0mhistory\u001b[0m\u001b[0;34m[\u001b[0m\u001b[0;34m'loss'\u001b[0m\u001b[0;34m]\u001b[0m\u001b[0;34m\u001b[0m\u001b[0;34m\u001b[0m\u001b[0m\n\u001b[1;32m      4\u001b[0m \u001b[0mval_loss\u001b[0m \u001b[0;34m=\u001b[0m \u001b[0mhistory\u001b[0m\u001b[0;34m.\u001b[0m\u001b[0mhistory\u001b[0m\u001b[0;34m[\u001b[0m\u001b[0;34m'val_loss'\u001b[0m\u001b[0;34m]\u001b[0m\u001b[0;34m\u001b[0m\u001b[0;34m\u001b[0m\u001b[0m\n\u001b[0;32m----> 5\u001b[0;31m \u001b[0mtrain_top2_acc\u001b[0m \u001b[0;34m=\u001b[0m \u001b[0mhistory\u001b[0m\u001b[0;34m.\u001b[0m\u001b[0mhistory\u001b[0m\u001b[0;34m[\u001b[0m\u001b[0;34m'top_2_accuracy'\u001b[0m\u001b[0;34m]\u001b[0m\u001b[0;34m\u001b[0m\u001b[0;34m\u001b[0m\u001b[0m\n\u001b[0m\u001b[1;32m      6\u001b[0m \u001b[0mval_top2_acc\u001b[0m \u001b[0;34m=\u001b[0m \u001b[0mhistory\u001b[0m\u001b[0;34m.\u001b[0m\u001b[0mhistory\u001b[0m\u001b[0;34m[\u001b[0m\u001b[0;34m'val_top_2_accuracy'\u001b[0m\u001b[0;34m]\u001b[0m\u001b[0;34m\u001b[0m\u001b[0;34m\u001b[0m\u001b[0m\n\u001b[1;32m      7\u001b[0m \u001b[0mtrain_top3_acc\u001b[0m \u001b[0;34m=\u001b[0m \u001b[0mhistory\u001b[0m\u001b[0;34m.\u001b[0m\u001b[0mhistory\u001b[0m\u001b[0;34m[\u001b[0m\u001b[0;34m'top_3_accuracy'\u001b[0m\u001b[0;34m]\u001b[0m\u001b[0;34m\u001b[0m\u001b[0;34m\u001b[0m\u001b[0m\n",
      "\u001b[0;31mKeyError\u001b[0m: 'top_2_accuracy'"
     ]
    }
   ],
   "source": [
    "acc = history.history['categorical_accuracy']\n",
    "val_acc = history.history['val_categorical_accuracy']\n",
    "loss = history.history['loss']\n",
    "val_loss = history.history['val_loss']\n",
    "train_top2_acc = history.history['top_2_accuracy']\n",
    "val_top2_acc = history.history['val_top_2_accuracy']\n",
    "train_top3_acc = history.history['top_3_accuracy']\n",
    "val_top3_acc = history.history['val_top_3_accuracy']\n",
    "epochs = range(1, len(acc) + 1)"
   ]
  },
  {
   "cell_type": "code",
   "execution_count": 32,
   "metadata": {},
   "outputs": [],
   "source": [
    "acc = history.history['categorical_accuracy']\n",
    "val_acc = history.history['val_categorical_accuracy']\n",
    "loss = history.history['loss']\n",
    "val_loss = history.history['val_loss']\n",
    "\n",
    "epochs = range(1, len(acc) + 1)"
   ]
  },
  {
   "cell_type": "code",
   "execution_count": 33,
   "metadata": {},
   "outputs": [
    {
     "data": {
      "image/png": "[encoded data removed]",
      "text/plain": [
       "<Figure size 432x288 with 1 Axes>"
      ]
     },
     "metadata": {
      "needs_background": "light"
     },
     "output_type": "display_data"
    },
    {
     "data": {
      "text/plain": [
       "<Figure size 432x288 with 0 Axes>"
      ]
     },
     "metadata": {},
     "output_type": "display_data"
    }
   ],
   "source": [
    "plt.plot(epochs, loss, 'b', label='Training loss')\n",
    "plt.plot(epochs, val_loss, 'r', label='Validation loss')\n",
    "plt.title('Training and validation loss')\n",
    "plt.legend()\n",
    "plt.grid()\n",
    "plt.figure()\n",
    "\n",
    "plt.show ()"
   ]
  },
  {
   "cell_type": "code",
   "execution_count": 34,
   "metadata": {},
   "outputs": [
    {
     "data": {
      "image/png": "[encoded data removed]",
      "text/plain": [
       "<Figure size 432x288 with 1 Axes>"
      ]
     },
     "metadata": {
      "needs_background": "light"
     },
     "output_type": "display_data"
    },
    {
     "data": {
      "text/plain": [
       "<Figure size 432x288 with 0 Axes>"
      ]
     },
     "metadata": {},
     "output_type": "display_data"
    }
   ],
   "source": [
    "plt.plot(epochs, acc, 'b', label='Training cat acc')\n",
    "plt.plot(epochs, val_acc, 'r', label='Validation cat acc')\n",
    "plt.title('Training and validation cat accuracy')\n",
    "plt.legend()\n",
    "plt.grid ()\n",
    "plt.figure()\n",
    "\n",
    "plt.show ()"
   ]
  },
  {
   "cell_type": "code",
   "execution_count": 35,
   "metadata": {},
   "outputs": [],
   "source": [
    "test_labels = test_batches.classes"
   ]
  },
  {
   "cell_type": "code",
   "execution_count": 36,
   "metadata": {},
   "outputs": [
    {
     "data": {
      "text/plain": [
       "{'lpp': 0, 'pie': 1, 'vasculares': 2}"
      ]
     },
     "execution_count": 36,
     "metadata": {},
     "output_type": "execute_result"
    }
   ],
   "source": [
    "test_batches.class_indices"
   ]
  },
  {
   "cell_type": "code",
   "execution_count": 37,
   "metadata": {},
   "outputs": [
    {
     "name": "stdout",
     "output_type": "stream",
     "text": [
      "18/18 [==============================] - 1s 56ms/step\n"
     ]
    }
   ],
   "source": [
    "predictions = model.predict(test_batches, steps= (val_samples), verbose=1)"
   ]
  },
  {
   "cell_type": "code",
   "execution_count": 38,
   "metadata": {},
   "outputs": [],
   "source": [
    "def plot_confusion_matrix(cm, classes,\n",
    "                          normalize=False,\n",
    "                          title='Confusion matrix',\n",
    "                          cmap=plt.cm.Blues):\n",
    "   \n",
    "    if normalize:\n",
    "        cm = cm.astype('float') / cm.sum(axis=1)[:, np.newaxis]\n",
    "        print(\"Normalized confusion matrix\")\n",
    "    else:\n",
    "        print('Matriz de confusión')\n",
    "\n",
    "    print(cm)\n",
    "\n",
    "    plt.imshow(cm, interpolation='nearest', cmap=cmap)\n",
    "    plt.title(title)\n",
    "    plt.colorbar()\n",
    "    tick_marks = np.arange(len(classes))\n",
    "    plt.xticks(tick_marks, classes, rotation=45)\n",
    "    plt.yticks(tick_marks, classes)\n",
    "\n",
    "    fmt = '.2f' if normalize else 'd'\n",
    "    thresh = cm.max() / 2.\n",
    "    for i, j in itertools.product(range(cm.shape[0]), range(cm.shape[1])):\n",
    "        plt.text(j, i, format(cm[i, j], fmt),\n",
    "                 horizontalalignment=\"center\",\n",
    "                 color=\"white\" if cm[i, j] > thresh else \"black\")\n",
    "\n",
    "    plt.ylabel('Obtenidos')\n",
    "    plt.xlabel('Predichos')\n",
    "    plt.tight_layout()"
   ]
  },
  {
   "cell_type": "code",
   "execution_count": 39,
   "metadata": {},
   "outputs": [],
   "source": [
    "cm = confusion_matrix(test_labels, predictions.argmax(axis=1))"
   ]
  },
  {
   "cell_type": "code",
   "execution_count": 40,
   "metadata": {},
   "outputs": [
    {
     "name": "stdout",
     "output_type": "stream",
     "text": [
      "Matriz de confusión\n",
      "[[3 1 0]\n",
      " [0 6 0]\n",
      " [0 0 8]]\n"
     ]
    },
    {
     "data": {
      "image/png": "[encoded data removed]",
      "text/plain": [
       "<Figure size 432x288 with 2 Axes>"
      ]
     },
     "metadata": {
      "needs_background": "light"
     },
     "output_type": "display_data"
    }
   ],
   "source": [
    "cm_plot_labels = ['lpp', 'pie', 'vasculares']\n",
    "\n",
    "\n",
    "plot_confusion_matrix(cm, cm_plot_labels, title='Matriz de confusión')\n"
   ]
  },
  {
   "cell_type": "code",
   "execution_count": null,
   "metadata": {},
   "outputs": [],
   "source": []
  },
  {
   "cell_type": "code",
   "execution_count": 41,
   "metadata": {},
   "outputs": [],
   "source": [
    "y_pred = np.argmax(predictions, axis=1)\n",
    "\n",
    "y_true = test_batches.classes"
   ]
  },
  {
   "cell_type": "code",
   "execution_count": 42,
   "metadata": {},
   "outputs": [
    {
     "name": "stdout",
     "output_type": "stream",
     "text": [
      "              precision    recall  f1-score   support\n",
      "\n",
      "         lpp       1.00      0.75      0.86         4\n",
      "         pie       0.86      1.00      0.92         6\n",
      "  vasculares       1.00      1.00      1.00         8\n",
      "\n",
      "    accuracy                           0.94        18\n",
      "   macro avg       0.95      0.92      0.93        18\n",
      "weighted avg       0.95      0.94      0.94        18\n",
      "\n"
     ]
    }
   ],
   "source": [
    "report = classification_report(y_true, y_pred, target_names=cm_plot_labels)\n",
    "\n",
    "print(report)"
   ]
  },
  {
   "cell_type": "code",
   "execution_count": 68,
   "metadata": {},
   "outputs": [],
   "source": [
    "import tensorflowjs as tfjs\n"
   ]
  },
  {
   "cell_type": "code",
   "execution_count": 50,
   "metadata": {},
   "outputs": [
    {
     "ename": "ModuleNotFoundError",
     "evalue": "No module named 'tensorflowjs'",
     "output_type": "error",
     "traceback": [
      "\u001b[0;31m---------------------------------------------------------------------------\u001b[0m",
      "\u001b[0;31mModuleNotFoundError\u001b[0m                       Traceback (most recent call last)",
      "\u001b[0;32m<ipython-input-50-2cef0e890efb>\u001b[0m in \u001b[0;36m<module>\u001b[0;34m\u001b[0m\n\u001b[1;32m      3\u001b[0m \u001b[0;34m\u001b[0m\u001b[0m\n\u001b[1;32m      4\u001b[0m \u001b[0;31m# convert to Tensorflow.js\u001b[0m\u001b[0;34m\u001b[0m\u001b[0;34m\u001b[0m\u001b[0;34m\u001b[0m\u001b[0m\n\u001b[0;32m----> 5\u001b[0;31m \u001b[0;32mimport\u001b[0m \u001b[0mtensorflowjs\u001b[0m \u001b[0;32mas\u001b[0m \u001b[0mtfjs\u001b[0m\u001b[0;34m\u001b[0m\u001b[0;34m\u001b[0m\u001b[0m\n\u001b[0m\u001b[1;32m      6\u001b[0m \u001b[0;34m\u001b[0m\u001b[0m\n\u001b[1;32m      7\u001b[0m \u001b[0;31m# Error\u001b[0m\u001b[0;34m\u001b[0m\u001b[0;34m\u001b[0m\u001b[0;34m\u001b[0m\u001b[0m\n",
      "\u001b[0;31mModuleNotFoundError\u001b[0m: No module named 'tensorflowjs'"
     ]
    }
   ],
   "source": [
    "# create a directory to store the model files\n",
    "os.mkdir('tfjs_dir')\n",
    "\n",
    "# convert to Tensorflow.js\n",
    "import tensorflowjs as tfjs\n",
    "\n",
    "# Error\n",
    "# AttributeError: module 'tensorflow.python.data.ops.dataset_ops' \n",
    "    # has no attribute 'UnaryDataset'\n",
    "\n",
    "tfjs.converters.save_keras_model(model, 'tfjs_dir')"
   ]
  },
  {
   "cell_type": "code",
   "execution_count": null,
   "metadata": {},
   "outputs": [],
   "source": []
  },
  {
   "cell_type": "code",
   "execution_count": null,
   "metadata": {},
   "outputs": [],
   "source": []
  },
  {
   "cell_type": "code",
   "execution_count": 48,
   "metadata": {},
   "outputs": [],
   "source": [
    "from PIL import Image"
   ]
  },
  {
   "cell_type": "code",
   "execution_count": null,
   "metadata": {},
   "outputs": [],
   "source": []
  },
  {
   "cell_type": "code",
   "execution_count": 59,
   "metadata": {},
   "outputs": [],
   "source": [
    "def image_classify(model, pak, img, top_n=3):\n",
    "    \"\"\"Classify image and return top matches.\"\"\"\n",
    "    target_size = (224, 224)\n",
    "    if img.size != target_size:\n",
    "        img = img.resize(target_size)\n",
    "    x = image.img_to_array(img)\n",
    "    x = np.expand_dims(x, axis=0)\n",
    "    x = pak.preprocess_input(x)\n",
    "    preds = model.predict(x)\n",
    "    return pak.decode_predictions(preds, top=top_n)[0]"
   ]
  },
  {
   "cell_type": "code",
   "execution_count": 56,
   "metadata": {},
   "outputs": [],
   "source": [
    "def plot_preds(img, preds_arr):\n",
    "    \"\"\"Plot image and its prediction.\"\"\"\n",
    "    sns.set_color_codes('pastel')\n",
    "    f, axarr = plt.subplots(1, len(preds_arr) + 1, figsize=(20, 5))\n",
    "    axarr[0].imshow(img)\n",
    "    axarr[0].axis('off')\n",
    "    for i in range(len(preds_arr)):\n",
    "        _, x_label, y_label = zip(*(preds_arr[i][1]))\n",
    "        plt.subplot(1, len(preds_arr) + 1, i + 2)\n",
    "        ax = sns.barplot(np.array(y_label), np.array(x_label))\n",
    "        plt.xlim(0, 1)\n",
    "        ax.set()\n",
    "        plt.xlabel(preds_arr[i][0])\n",
    "    plt.show()"
   ]
  },
  {
   "cell_type": "code",
   "execution_count": 57,
   "metadata": {},
   "outputs": [],
   "source": [
    "def classify_and_plot(image_path):\n",
    "    \"\"\"Classify an image with model.\n",
    "    Plot it and its predicitons.\n",
    "    \"\"\"\n",
    "    img = Image.open(image_path)\n",
    "    preds_arr = ('model.h5', model)\n",
    "    plot_preds(img, preds_arr)"
   ]
  },
  {
   "cell_type": "code",
   "execution_count": null,
   "metadata": {},
   "outputs": [],
   "source": [
    "image_files = [x.path for x in os.scandir(images_dir)]"
   ]
  },
  {
   "cell_type": "code",
   "execution_count": 58,
   "metadata": {},
   "outputs": [
    {
     "ename": "ValueError",
     "evalue": "not enough values to unpack (expected 3, got 1)",
     "output_type": "error",
     "traceback": [
      "\u001b[0;31m---------------------------------------------------------------------------\u001b[0m",
      "\u001b[0;31mValueError\u001b[0m                                Traceback (most recent call last)",
      "\u001b[0;32m<ipython-input-58-6ecf40e67819>\u001b[0m in \u001b[0;36m<module>\u001b[0;34m\u001b[0m\n\u001b[0;32m----> 1\u001b[0;31m \u001b[0mclassify_and_plot\u001b[0m\u001b[0;34m(\u001b[0m\u001b[0;34m'procesar/originales/val/vasculares/IMG_0141.JPG'\u001b[0m\u001b[0;34m)\u001b[0m\u001b[0;34m\u001b[0m\u001b[0;34m\u001b[0m\u001b[0m\n\u001b[0m",
      "\u001b[0;32m<ipython-input-57-a63b730fb0f2>\u001b[0m in \u001b[0;36mclassify_and_plot\u001b[0;34m(image_path)\u001b[0m\n\u001b[1;32m      5\u001b[0m     \u001b[0mimg\u001b[0m \u001b[0;34m=\u001b[0m \u001b[0mImage\u001b[0m\u001b[0;34m.\u001b[0m\u001b[0mopen\u001b[0m\u001b[0;34m(\u001b[0m\u001b[0mimage_path\u001b[0m\u001b[0;34m)\u001b[0m\u001b[0;34m\u001b[0m\u001b[0;34m\u001b[0m\u001b[0m\n\u001b[1;32m      6\u001b[0m     \u001b[0mpreds_arr\u001b[0m \u001b[0;34m=\u001b[0m \u001b[0;34m(\u001b[0m\u001b[0;34m'model.h5'\u001b[0m\u001b[0;34m,\u001b[0m \u001b[0mmodel\u001b[0m\u001b[0;34m)\u001b[0m\u001b[0;34m\u001b[0m\u001b[0;34m\u001b[0m\u001b[0m\n\u001b[0;32m----> 7\u001b[0;31m     \u001b[0mplot_preds\u001b[0m\u001b[0;34m(\u001b[0m\u001b[0mimg\u001b[0m\u001b[0;34m,\u001b[0m \u001b[0mpreds_arr\u001b[0m\u001b[0;34m)\u001b[0m\u001b[0;34m\u001b[0m\u001b[0;34m\u001b[0m\u001b[0m\n\u001b[0m",
      "\u001b[0;32m<ipython-input-56-2411052b0245>\u001b[0m in \u001b[0;36mplot_preds\u001b[0;34m(img, preds_arr)\u001b[0m\n\u001b[1;32m      6\u001b[0m     \u001b[0maxarr\u001b[0m\u001b[0;34m[\u001b[0m\u001b[0;36m0\u001b[0m\u001b[0;34m]\u001b[0m\u001b[0;34m.\u001b[0m\u001b[0maxis\u001b[0m\u001b[0;34m(\u001b[0m\u001b[0;34m'off'\u001b[0m\u001b[0;34m)\u001b[0m\u001b[0;34m\u001b[0m\u001b[0;34m\u001b[0m\u001b[0m\n\u001b[1;32m      7\u001b[0m     \u001b[0;32mfor\u001b[0m \u001b[0mi\u001b[0m \u001b[0;32min\u001b[0m \u001b[0mrange\u001b[0m\u001b[0;34m(\u001b[0m\u001b[0mlen\u001b[0m\u001b[0;34m(\u001b[0m\u001b[0mpreds_arr\u001b[0m\u001b[0;34m)\u001b[0m\u001b[0;34m)\u001b[0m\u001b[0;34m:\u001b[0m\u001b[0;34m\u001b[0m\u001b[0;34m\u001b[0m\u001b[0m\n\u001b[0;32m----> 8\u001b[0;31m         \u001b[0m_\u001b[0m\u001b[0;34m,\u001b[0m \u001b[0mx_label\u001b[0m\u001b[0;34m,\u001b[0m \u001b[0my_label\u001b[0m \u001b[0;34m=\u001b[0m \u001b[0mzip\u001b[0m\u001b[0;34m(\u001b[0m\u001b[0;34m*\u001b[0m\u001b[0;34m(\u001b[0m\u001b[0mpreds_arr\u001b[0m\u001b[0;34m[\u001b[0m\u001b[0mi\u001b[0m\u001b[0;34m]\u001b[0m\u001b[0;34m[\u001b[0m\u001b[0;36m1\u001b[0m\u001b[0;34m]\u001b[0m\u001b[0;34m)\u001b[0m\u001b[0;34m)\u001b[0m\u001b[0;34m\u001b[0m\u001b[0;34m\u001b[0m\u001b[0m\n\u001b[0m\u001b[1;32m      9\u001b[0m         \u001b[0mplt\u001b[0m\u001b[0;34m.\u001b[0m\u001b[0msubplot\u001b[0m\u001b[0;34m(\u001b[0m\u001b[0;36m1\u001b[0m\u001b[0;34m,\u001b[0m \u001b[0mlen\u001b[0m\u001b[0;34m(\u001b[0m\u001b[0mpreds_arr\u001b[0m\u001b[0;34m)\u001b[0m \u001b[0;34m+\u001b[0m \u001b[0;36m1\u001b[0m\u001b[0;34m,\u001b[0m \u001b[0mi\u001b[0m \u001b[0;34m+\u001b[0m \u001b[0;36m2\u001b[0m\u001b[0;34m)\u001b[0m\u001b[0;34m\u001b[0m\u001b[0;34m\u001b[0m\u001b[0m\n\u001b[1;32m     10\u001b[0m         \u001b[0max\u001b[0m \u001b[0;34m=\u001b[0m \u001b[0msns\u001b[0m\u001b[0;34m.\u001b[0m\u001b[0mbarplot\u001b[0m\u001b[0;34m(\u001b[0m\u001b[0mnp\u001b[0m\u001b[0;34m.\u001b[0m\u001b[0marray\u001b[0m\u001b[0;34m(\u001b[0m\u001b[0my_label\u001b[0m\u001b[0;34m)\u001b[0m\u001b[0;34m,\u001b[0m \u001b[0mnp\u001b[0m\u001b[0;34m.\u001b[0m\u001b[0marray\u001b[0m\u001b[0;34m(\u001b[0m\u001b[0mx_label\u001b[0m\u001b[0;34m)\u001b[0m\u001b[0;34m)\u001b[0m\u001b[0;34m\u001b[0m\u001b[0;34m\u001b[0m\u001b[0m\n",
      "\u001b[0;31mValueError\u001b[0m: not enough values to unpack (expected 3, got 1)"
     ]
    },
    {
     "data": {
      "image/png": "[encoded data removed]",
      "text/plain": [
       "<Figure size 1440x360 with 3 Axes>"
      ]
     },
     "metadata": {
      "needs_background": "light"
     },
     "output_type": "display_data"
    }
   ],
   "source": [
    "classify_and_plot('procesar/originales/val/vasculares/IMG_0141.JPG')"
   ]
  },
  {
   "cell_type": "code",
   "execution_count": null,
   "metadata": {},
   "outputs": [],
   "source": []
  },
  {
   "cell_type": "code",
   "execution_count": null,
   "metadata": {},
   "outputs": [],
   "source": []
  },
  {
   "cell_type": "code",
   "execution_count": null,
   "metadata": {},
   "outputs": [],
   "source": []
  },
  {
   "cell_type": "code",
   "execution_count": 66,
   "metadata": {},
   "outputs": [
    {
     "ename": "NameError",
     "evalue": "name 'labels' is not defined",
     "output_type": "error",
     "traceback": [
      "\u001b[0;31m---------------------------------------------------------------------------\u001b[0m",
      "\u001b[0;31mNameError\u001b[0m                                 Traceback (most recent call last)",
      "\u001b[0;32m<ipython-input-66-1b822c486a34>\u001b[0m in \u001b[0;36m<module>\u001b[0;34m\u001b[0m\n\u001b[0;32m----> 1\u001b[0;31m \u001b[0mpred_images\u001b[0m \u001b[0;34m=\u001b[0m \u001b[0mget_images\u001b[0m\u001b[0;34m(\u001b[0m\u001b[0;34m'../input/pred/'\u001b[0m\u001b[0;34m)\u001b[0m\u001b[0;34m\u001b[0m\u001b[0;34m\u001b[0m\u001b[0m\n\u001b[0m\u001b[1;32m      2\u001b[0m \u001b[0mpred_images\u001b[0m \u001b[0;34m=\u001b[0m \u001b[0mnp\u001b[0m\u001b[0;34m.\u001b[0m\u001b[0marray\u001b[0m\u001b[0;34m(\u001b[0m\u001b[0mpred_images\u001b[0m\u001b[0;34m)\u001b[0m\u001b[0;34m\u001b[0m\u001b[0;34m\u001b[0m\u001b[0m\n\u001b[1;32m      3\u001b[0m \u001b[0mpred_images\u001b[0m\u001b[0;34m.\u001b[0m\u001b[0mshape\u001b[0m\u001b[0;34m\u001b[0m\u001b[0;34m\u001b[0m\u001b[0m\n",
      "\u001b[0;32m<ipython-input-65-692b0bfd4d9a>\u001b[0m in \u001b[0;36mget_images\u001b[0;34m(directory)\u001b[0m\n\u001b[1;32m      3\u001b[0m     \u001b[0mLabels\u001b[0m \u001b[0;34m=\u001b[0m \u001b[0;34m[\u001b[0m\u001b[0;34m]\u001b[0m  \u001b[0;31m# 0 for Building , 1 for forest, 2 for glacier, 3 for mountain, 4 for Sea , 5 for Street\u001b[0m\u001b[0;34m\u001b[0m\u001b[0;34m\u001b[0m\u001b[0m\n\u001b[1;32m      4\u001b[0m     \u001b[0mlabel\u001b[0m \u001b[0;34m=\u001b[0m \u001b[0;36m0\u001b[0m\u001b[0;34m\u001b[0m\u001b[0;34m\u001b[0m\u001b[0m\n\u001b[0;32m----> 5\u001b[0;31m     \u001b[0;32mfor\u001b[0m \u001b[0mimage_file\u001b[0m \u001b[0;32min\u001b[0m \u001b[0mos\u001b[0m\u001b[0;34m.\u001b[0m\u001b[0mlistdir\u001b[0m\u001b[0;34m(\u001b[0m\u001b[0mdirectory\u001b[0m\u001b[0;34m+\u001b[0m\u001b[0mlabels\u001b[0m\u001b[0;34m)\u001b[0m\u001b[0;34m:\u001b[0m \u001b[0;31m#Extracting the file name of the image from Class Label folder\u001b[0m\u001b[0;34m\u001b[0m\u001b[0;34m\u001b[0m\u001b[0m\n\u001b[0m\u001b[1;32m      6\u001b[0m             \u001b[0mimage\u001b[0m \u001b[0;34m=\u001b[0m \u001b[0mcv2\u001b[0m\u001b[0;34m.\u001b[0m\u001b[0mimread\u001b[0m\u001b[0;34m(\u001b[0m\u001b[0mdirectory\u001b[0m\u001b[0;34m+\u001b[0m\u001b[0mlabels\u001b[0m\u001b[0;34m+\u001b[0m\u001b[0;34mr'/'\u001b[0m\u001b[0;34m+\u001b[0m\u001b[0mimage_file\u001b[0m\u001b[0;34m)\u001b[0m \u001b[0;31m#Reading the image (OpenCV)\u001b[0m\u001b[0;34m\u001b[0m\u001b[0;34m\u001b[0m\u001b[0m\n\u001b[1;32m      7\u001b[0m             \u001b[0mimage\u001b[0m \u001b[0;34m=\u001b[0m \u001b[0mcv2\u001b[0m\u001b[0;34m.\u001b[0m\u001b[0mresize\u001b[0m\u001b[0;34m(\u001b[0m\u001b[0mimage\u001b[0m\u001b[0;34m,\u001b[0m\u001b[0;34m(\u001b[0m\u001b[0;36m150\u001b[0m\u001b[0;34m,\u001b[0m\u001b[0;36m150\u001b[0m\u001b[0;34m)\u001b[0m\u001b[0;34m)\u001b[0m \u001b[0;31m#Resize the image, Some images are different sizes. (Resizing is very Important)\u001b[0m\u001b[0;34m\u001b[0m\u001b[0;34m\u001b[0m\u001b[0m\n",
      "\u001b[0;31mNameError\u001b[0m: name 'labels' is not defined"
     ]
    }
   ],
   "source": [
    "pred_images = get_images('../input/pred/')\n",
    "pred_images = np.array(pred_images)\n",
    "pred_images.shape"
   ]
  },
  {
   "cell_type": "code",
   "execution_count": null,
   "metadata": {},
   "outputs": [],
   "source": []
  }
 ],
 "metadata": {
  "kernelspec": {
   "display_name": "dani",
   "language": "python",
   "name": "dani"
  },
  "language_info": {
   "codemirror_mode": {
    "name": "ipython",
    "version": 3
   },
   "file_extension": ".py",
   "mimetype": "text/x-python",
   "name": "python",
   "nbconvert_exporter": "python",
   "pygments_lexer": "ipython3",
   "version": "3.6.9"
  }
 },
 "nbformat": 4,
 "nbformat_minor": 4
}
